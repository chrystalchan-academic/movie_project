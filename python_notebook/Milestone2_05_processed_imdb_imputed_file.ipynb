{
 "cells": [
  {
   "cell_type": "code",
   "execution_count": 1,
   "metadata": {
    "collapsed": true
   },
   "outputs": [],
   "source": [
    "from imdb import IMDb\n",
    "import pandas as pd\n",
    "from PIL import Image\n",
    "from StringIO import StringIO\n",
    "import requests\n",
    "import os\n",
    "import time\n",
    "from shutil import copyfile\n",
    "import csv"
   ]
  },
  {
   "cell_type": "code",
   "execution_count": 2,
   "metadata": {
    "collapsed": true
   },
   "outputs": [],
   "source": [
    "dir_python_notebook = os.getcwd()\n",
    "dir_movie_project = os.path.abspath(os.path.join(dir_python_notebook, os.pardir))\n",
    "dir_data = os.path.join(dir_movie_project, 'data')"
   ]
  },
  {
   "cell_type": "code",
   "execution_count": 8,
   "metadata": {
    "collapsed": false
   },
   "outputs": [],
   "source": [
    "imdb_filename = str(dir_data)+'\\\\imdb_imputed.csv'\n",
    "imdb_movies = pd.read_csv(imdb_filename,index_col=0, sep=',', encoding='utf-8', quoting=csv.QUOTE_NONNUMERIC)"
   ]
  },
  {
   "cell_type": "code",
   "execution_count": 9,
   "metadata": {
    "collapsed": false
   },
   "outputs": [
    {
     "data": {
      "text/html": [
       "<div>\n",
       "<table border=\"1\" class=\"dataframe\">\n",
       "  <thead>\n",
       "    <tr style=\"text-align: right;\">\n",
       "      <th></th>\n",
       "      <th>art direction</th>\n",
       "      <th>assistant director</th>\n",
       "      <th>cast</th>\n",
       "      <th>casting director</th>\n",
       "      <th>certificates</th>\n",
       "      <th>cinematographer</th>\n",
       "      <th>color info</th>\n",
       "      <th>costume department</th>\n",
       "      <th>costume designer</th>\n",
       "      <th>countries</th>\n",
       "      <th>...</th>\n",
       "      <th>production manager_1</th>\n",
       "      <th>set decoration_1</th>\n",
       "      <th>sound crew_1</th>\n",
       "      <th>stunt performer_1</th>\n",
       "      <th>visual effects_1</th>\n",
       "      <th>writer_1</th>\n",
       "      <th>cast_1</th>\n",
       "      <th>cast_2</th>\n",
       "      <th>cast_3</th>\n",
       "      <th>cast_4</th>\n",
       "    </tr>\n",
       "  </thead>\n",
       "  <tbody>\n",
       "    <tr>\n",
       "      <th>100.0</th>\n",
       "      <td>0</td>\n",
       "      <td>[u'0123407', u'0717230', u'0006859']</td>\n",
       "      <td>[u'0002076', u'0002077', u'0602941', u'0005458...</td>\n",
       "      <td>[u'0288911', u'0005363']</td>\n",
       "      <td>[u'Argentina:13', u'Australia:MA15+', u'Brazil...</td>\n",
       "      <td>[u'0362165']</td>\n",
       "      <td>[u'Color']</td>\n",
       "      <td>[u'0989056', u'0788235']</td>\n",
       "      <td>[u'0171871']</td>\n",
       "      <td>[u'UK']</td>\n",
       "      <td>...</td>\n",
       "      <td>92061.0</td>\n",
       "      <td>405176.0</td>\n",
       "      <td>30552.0</td>\n",
       "      <td>337040.0</td>\n",
       "      <td>91100.0</td>\n",
       "      <td>5363.0</td>\n",
       "      <td>2076.0</td>\n",
       "      <td>2077.0</td>\n",
       "      <td>602941.0</td>\n",
       "      <td>5458.0</td>\n",
       "    </tr>\n",
       "    <tr>\n",
       "      <th>10001.0</th>\n",
       "      <td>[u'0264966', u'0316904', u'0383595', u'0550026']</td>\n",
       "      <td>[u'0267087', u'0382238', u'0680614', u'0731968...</td>\n",
       "      <td>[u'0000635', u'0494189', u'0397398', u'0933957...</td>\n",
       "      <td>0</td>\n",
       "      <td>[u'Australia:PG', u'Finland:K-8', u'Germany:12...</td>\n",
       "      <td>[u'0201372']</td>\n",
       "      <td>[u'Color']</td>\n",
       "      <td>[u'0100748', u'1021483', u'0372320']</td>\n",
       "      <td>[u'0100748', u'0915204']</td>\n",
       "      <td>[u'Australia']</td>\n",
       "      <td>...</td>\n",
       "      <td>55373.0</td>\n",
       "      <td>0.0</td>\n",
       "      <td>66740.0</td>\n",
       "      <td>49882.0</td>\n",
       "      <td>184789.0</td>\n",
       "      <td>730000.0</td>\n",
       "      <td>635.0</td>\n",
       "      <td>494189.0</td>\n",
       "      <td>397398.0</td>\n",
       "      <td>933957.0</td>\n",
       "    </tr>\n",
       "    <tr>\n",
       "      <th>10002.0</th>\n",
       "      <td>[u'0413541']</td>\n",
       "      <td>[u'0013936', u'0110556', u'0179192']</td>\n",
       "      <td>[u'0001364', u'0879154', u'0000323', u'0001059...</td>\n",
       "      <td>[u'0007109']</td>\n",
       "      <td>[u'Argentina:18', u'Australia:M', u'Finland:K-...</td>\n",
       "      <td>[u'0695536']</td>\n",
       "      <td>[u'Color::(Technicolor)']</td>\n",
       "      <td>[u'0196382', u'0788827']</td>\n",
       "      <td>[u'0296220']</td>\n",
       "      <td>[u'UK']</td>\n",
       "      <td>...</td>\n",
       "      <td>115536.0</td>\n",
       "      <td>0.0</td>\n",
       "      <td>60952.0</td>\n",
       "      <td>286157.0</td>\n",
       "      <td>0.0</td>\n",
       "      <td>1403.0</td>\n",
       "      <td>1364.0</td>\n",
       "      <td>879154.0</td>\n",
       "      <td>323.0</td>\n",
       "      <td>1059.0</td>\n",
       "    </tr>\n",
       "    <tr>\n",
       "      <th>10003.0</th>\n",
       "      <td>[u'0144261', u'0658390', u'0724682', u'0866777']</td>\n",
       "      <td>[u'0068925', u'0072593', u'0250856', u'0250856...</td>\n",
       "      <td>[u'0000174', u'0000223', u'0784884', u'0631792...</td>\n",
       "      <td>[u'0505059', u'0689691']</td>\n",
       "      <td>[u'Argentina:13', u'Australia:M', u'Brazil:12'...</td>\n",
       "      <td>[u'0005793']</td>\n",
       "      <td>[u'Color::(Rankcolor)']</td>\n",
       "      <td>[u'0183262', u'0232875', u'0412130', u'0456586...</td>\n",
       "      <td>[u'0829641']</td>\n",
       "      <td>[u'USA']</td>\n",
       "      <td>...</td>\n",
       "      <td>97161.0</td>\n",
       "      <td>949952.0</td>\n",
       "      <td>10057.0</td>\n",
       "      <td>132625.0</td>\n",
       "      <td>463671.0</td>\n",
       "      <td>153546.0</td>\n",
       "      <td>174.0</td>\n",
       "      <td>223.0</td>\n",
       "      <td>784884.0</td>\n",
       "      <td>631792.0</td>\n",
       "    </tr>\n",
       "    <tr>\n",
       "      <th>10004.0</th>\n",
       "      <td>[u'0003488']</td>\n",
       "      <td>[u'0551862', u'0581688', u'0815340']</td>\n",
       "      <td>[u'0000643', u'0001836', u'0001272', u'0001164...</td>\n",
       "      <td>[u'0470948']</td>\n",
       "      <td>[u'Argentina:16', u'Australia:MA15+', u'Denmar...</td>\n",
       "      <td>[u'0003791']</td>\n",
       "      <td>[u'Color']</td>\n",
       "      <td>[u'0124203', u'0305128', u'0568764']</td>\n",
       "      <td>[u'0624703']</td>\n",
       "      <td>[u'USA']</td>\n",
       "      <td>...</td>\n",
       "      <td>665655.0</td>\n",
       "      <td>130700.0</td>\n",
       "      <td>123638.0</td>\n",
       "      <td>7200.0</td>\n",
       "      <td>84624.0</td>\n",
       "      <td>175.0</td>\n",
       "      <td>643.0</td>\n",
       "      <td>1836.0</td>\n",
       "      <td>1272.0</td>\n",
       "      <td>1164.0</td>\n",
       "    </tr>\n",
       "  </tbody>\n",
       "</table>\n",
       "<p>5 rows × 63 columns</p>\n",
       "</div>"
      ],
      "text/plain": [
       "                                            art direction  \\\n",
       "100.0                                                   0   \n",
       "10001.0  [u'0264966', u'0316904', u'0383595', u'0550026']   \n",
       "10002.0                                      [u'0413541']   \n",
       "10003.0  [u'0144261', u'0658390', u'0724682', u'0866777']   \n",
       "10004.0                                      [u'0003488']   \n",
       "\n",
       "                                        assistant director  \\\n",
       "100.0                 [u'0123407', u'0717230', u'0006859']   \n",
       "10001.0  [u'0267087', u'0382238', u'0680614', u'0731968...   \n",
       "10002.0               [u'0013936', u'0110556', u'0179192']   \n",
       "10003.0  [u'0068925', u'0072593', u'0250856', u'0250856...   \n",
       "10004.0               [u'0551862', u'0581688', u'0815340']   \n",
       "\n",
       "                                                      cast  \\\n",
       "100.0    [u'0002076', u'0002077', u'0602941', u'0005458...   \n",
       "10001.0  [u'0000635', u'0494189', u'0397398', u'0933957...   \n",
       "10002.0  [u'0001364', u'0879154', u'0000323', u'0001059...   \n",
       "10003.0  [u'0000174', u'0000223', u'0784884', u'0631792...   \n",
       "10004.0  [u'0000643', u'0001836', u'0001272', u'0001164...   \n",
       "\n",
       "                 casting director  \\\n",
       "100.0    [u'0288911', u'0005363']   \n",
       "10001.0                         0   \n",
       "10002.0              [u'0007109']   \n",
       "10003.0  [u'0505059', u'0689691']   \n",
       "10004.0              [u'0470948']   \n",
       "\n",
       "                                              certificates cinematographer  \\\n",
       "100.0    [u'Argentina:13', u'Australia:MA15+', u'Brazil...    [u'0362165']   \n",
       "10001.0  [u'Australia:PG', u'Finland:K-8', u'Germany:12...    [u'0201372']   \n",
       "10002.0  [u'Argentina:18', u'Australia:M', u'Finland:K-...    [u'0695536']   \n",
       "10003.0  [u'Argentina:13', u'Australia:M', u'Brazil:12'...    [u'0005793']   \n",
       "10004.0  [u'Argentina:16', u'Australia:MA15+', u'Denmar...    [u'0003791']   \n",
       "\n",
       "                        color info  \\\n",
       "100.0                   [u'Color']   \n",
       "10001.0                 [u'Color']   \n",
       "10002.0  [u'Color::(Technicolor)']   \n",
       "10003.0    [u'Color::(Rankcolor)']   \n",
       "10004.0                 [u'Color']   \n",
       "\n",
       "                                        costume department  \\\n",
       "100.0                             [u'0989056', u'0788235']   \n",
       "10001.0               [u'0100748', u'1021483', u'0372320']   \n",
       "10002.0                           [u'0196382', u'0788827']   \n",
       "10003.0  [u'0183262', u'0232875', u'0412130', u'0456586...   \n",
       "10004.0               [u'0124203', u'0305128', u'0568764']   \n",
       "\n",
       "                 costume designer       countries    ...     \\\n",
       "100.0                [u'0171871']         [u'UK']    ...      \n",
       "10001.0  [u'0100748', u'0915204']  [u'Australia']    ...      \n",
       "10002.0              [u'0296220']         [u'UK']    ...      \n",
       "10003.0              [u'0829641']        [u'USA']    ...      \n",
       "10004.0              [u'0624703']        [u'USA']    ...      \n",
       "\n",
       "        production manager_1 set decoration_1 sound crew_1 stunt performer_1  \\\n",
       "100.0                92061.0         405176.0      30552.0          337040.0   \n",
       "10001.0              55373.0              0.0      66740.0           49882.0   \n",
       "10002.0             115536.0              0.0      60952.0          286157.0   \n",
       "10003.0              97161.0         949952.0      10057.0          132625.0   \n",
       "10004.0             665655.0         130700.0     123638.0            7200.0   \n",
       "\n",
       "         visual effects_1  writer_1  cast_1    cast_2    cast_3    cast_4  \n",
       "100.0             91100.0    5363.0  2076.0    2077.0  602941.0    5458.0  \n",
       "10001.0          184789.0  730000.0   635.0  494189.0  397398.0  933957.0  \n",
       "10002.0               0.0    1403.0  1364.0  879154.0     323.0    1059.0  \n",
       "10003.0          463671.0  153546.0   174.0     223.0  784884.0  631792.0  \n",
       "10004.0           84624.0     175.0   643.0    1836.0    1272.0    1164.0  \n",
       "\n",
       "[5 rows x 63 columns]"
      ]
     },
     "execution_count": 9,
     "metadata": {},
     "output_type": "execute_result"
    }
   ],
   "source": [
    "imdb_movies.head(5)"
   ]
  },
  {
   "cell_type": "code",
   "execution_count": 22,
   "metadata": {
    "collapsed": true
   },
   "outputs": [],
   "source": [
    "imdb_genres = ['Action','Adult','Adventure','Animation','Biography','Comedy','Crime','Documentary','Drama','Family',\n",
    "              'Fantasy','Film Noir','Game-Show','History','Horror','Musical','Music','Mystery','News','Reality-TV',\n",
    "              'Romance','Sci-Fi','Short','Sport','Talk-Show','Thriller','War','Western']\n"
   ]
  },
  {
   "cell_type": "code",
   "execution_count": 24,
   "metadata": {
    "collapsed": false
   },
   "outputs": [
    {
     "data": {
      "text/plain": [
       "28"
      ]
     },
     "execution_count": 24,
     "metadata": {},
     "output_type": "execute_result"
    }
   ],
   "source": [
    "len(imdb_genres)"
   ]
  },
  {
   "cell_type": "code",
   "execution_count": 13,
   "metadata": {
    "collapsed": true
   },
   "outputs": [],
   "source": [
    "def get_genre(tmdb_movies ,key):\n",
    "    tmdb_genre = tmdb_movies[tmdb_movies[key].notnull()][key].tolist()\n",
    "    tmdb_genre_set = set()\n",
    "    for g in tmdb_genre:\n",
    "        if g is not None:\n",
    "            tmdb_genre_set = tmdb_genre_set.union(set(g))\n",
    "    tmdb_genre = list(tmdb_genre_set)\n",
    "    tmdb_genre.sort()\n",
    "    return(tmdb_genre)"
   ]
  },
  {
   "cell_type": "code",
   "execution_count": 14,
   "metadata": {
    "collapsed": true
   },
   "outputs": [],
   "source": [
    "def get_genere_num (row, column_name):\n",
    "    if row[column_name] is None :\n",
    "        return 0\n",
    "    else:\n",
    "        return len(row[column_name])"
   ]
  },
  {
   "cell_type": "code",
   "execution_count": 15,
   "metadata": {
    "collapsed": true
   },
   "outputs": [],
   "source": [
    "def is_genre (row, column_name, genre):\n",
    "    \"\"\"check if that movie is in this genre as a movie can have more than 1 genre\"\"\"\n",
    "    if row[column_name] is None :\n",
    "        return 0\n",
    "    else:\n",
    "        if genre in row[column_name] :\n",
    "            return 1\n",
    "        else:\n",
    "            return 0"
   ]
  },
  {
   "cell_type": "code",
   "execution_count": 16,
   "metadata": {
    "collapsed": true
   },
   "outputs": [],
   "source": [
    "def get_all_genre (row, column_name, imdb_genre):\n",
    "    \"\"\"check a vector for all movie genres\"\"\"\n",
    "    s = \"\"\n",
    "    for g in imdb_genre:\n",
    "        if row[column_name] is None :\n",
    "            s = s +\"0\"\n",
    "        else:\n",
    "            if g in row[column_name] :\n",
    "                s = s +\"1\"\n",
    "            else:\n",
    "                s = s +\"0\"\n",
    "    return s"
   ]
  },
  {
   "cell_type": "code",
   "execution_count": 23,
   "metadata": {
    "collapsed": false
   },
   "outputs": [],
   "source": [
    "imdb_genre = imdb_genres\n",
    "imdb_genre.sort()\n",
    "imdb_movies[u'genre_num'] = imdb_movies.apply(lambda row: get_genere_num(row,u'genres'), axis=1)\n",
    "\n",
    "for g in imdb_genre: \n",
    "    imdb_movies[g] = imdb_movies.apply(lambda row: is_genre(row,u'genres',g), axis=1)"
   ]
  },
  {
   "cell_type": "code",
   "execution_count": 25,
   "metadata": {
    "collapsed": true
   },
   "outputs": [],
   "source": [
    "imdb_movies['all_genre'] = imdb_movies.apply(lambda row: get_all_genre(row,u'genres',imdb_genre), axis=1)"
   ]
  },
  {
   "cell_type": "code",
   "execution_count": 26,
   "metadata": {
    "collapsed": true
   },
   "outputs": [],
   "source": [
    "imdb_movies['all_genre'] = imdb_movies['all_genre'].astype('str')"
   ]
  },
  {
   "cell_type": "code",
   "execution_count": 32,
   "metadata": {
    "collapsed": false
   },
   "outputs": [],
   "source": [
    "imdb_filename = str(dir_data)+'\\\\imdb_imputed_processed.csv'\n",
    "imdb_movies.to_csv(imdb_filename, sep=',', encoding='utf-8')"
   ]
  },
  {
   "cell_type": "code",
   "execution_count": null,
   "metadata": {
    "collapsed": true
   },
   "outputs": [],
   "source": [
    "imdb_filename = str(dir_data)+'\\\\imdb_imputed_processed.json'\n",
    "imdb_movies.to_json(path_or_buf= imdb_filename)"
   ]
  },
  {
   "cell_type": "code",
   "execution_count": 30,
   "metadata": {
    "collapsed": false
   },
   "outputs": [
    {
     "data": {
      "text/plain": [
       "Index([            u'art direction',        u'assistant director',\n",
       "                            u'cast',          u'casting director',\n",
       "                    u'certificates',           u'cinematographer',\n",
       "                      u'color info',        u'costume department',\n",
       "                u'costume designer',                 u'countries',\n",
       "                        u'director',              u'distributors',\n",
       "                          u'editor',                    u'genres',\n",
       "                         u'imdb_id',                 u'languages',\n",
       "                         u'make up',   u'miscellaneous companies',\n",
       "              u'miscellaneous crew',            u'original music',\n",
       "                            u'plot',                  u'producer',\n",
       "            u'production companies',        u'production manager',\n",
       "                          u'rating',                  u'runtimes',\n",
       "                  u'set decoration',                u'sound crew',\n",
       "                 u'stunt performer',                   u'tmdb_id',\n",
       "                  u'visual effects',                    u'writer',\n",
       "                     u'row_missing',          u'certificates_new',\n",
       "                  u'certificates_R',           u'certificates_PG',\n",
       "                 u'art direction_1',      u'assistant director_1',\n",
       "              u'casting director_1',         u'cinematographer_1',\n",
       "            u'costume department_1',        u'costume designer_1',\n",
       "                     u'countries_1',                u'director_1',\n",
       "                  u'distributors_1',                  u'editor_1',\n",
       "                     u'languages_1',                 u'make up_1',\n",
       "       u'miscellaneous companies_1',      u'miscellaneous crew_1',\n",
       "                u'original music_1',                u'producer_1',\n",
       "          u'production companies_1',      u'production manager_1',\n",
       "                u'set decoration_1',              u'sound crew_1',\n",
       "               u'stunt performer_1',          u'visual effects_1',\n",
       "                        u'writer_1',                    u'cast_1',\n",
       "                          u'cast_2',                    u'cast_3',\n",
       "                          u'cast_4',                 u'genre_num',\n",
       "                          u'Action',                     u'Adult',\n",
       "                       u'Adventure',                 u'Animation',\n",
       "                       u'Biography',                    u'Comedy',\n",
       "                           u'Crime',               u'Documentary',\n",
       "                           u'Drama',                    u'Family',\n",
       "                         u'Fantasy',                 u'Film Noir',\n",
       "                       u'Game-Show',                   u'History',\n",
       "                          u'Horror',                     u'Music',\n",
       "                         u'Musical',                   u'Mystery',\n",
       "                            u'News',                u'Reality-TV',\n",
       "                         u'Romance',                    u'Sci-Fi',\n",
       "                           u'Short',                     u'Sport',\n",
       "                       u'Talk-Show',                  u'Thriller',\n",
       "                             u'War',                   u'Western',\n",
       "                       u'all_genre'],\n",
       "      dtype='object')"
      ]
     },
     "execution_count": 30,
     "metadata": {},
     "output_type": "execute_result"
    }
   ],
   "source": [
    "imdb_movies.columns"
   ]
  },
  {
   "cell_type": "code",
   "execution_count": null,
   "metadata": {
    "collapsed": true
   },
   "outputs": [],
   "source": []
  }
 ],
 "metadata": {
  "kernelspec": {
   "display_name": "Python 2",
   "language": "python",
   "name": "python2"
  },
  "language_info": {
   "codemirror_mode": {
    "name": "ipython",
    "version": 2
   },
   "file_extension": ".py",
   "mimetype": "text/x-python",
   "name": "python",
   "nbconvert_exporter": "python",
   "pygments_lexer": "ipython2",
   "version": "2.7.13"
  }
 },
 "nbformat": 4,
 "nbformat_minor": 2
}
