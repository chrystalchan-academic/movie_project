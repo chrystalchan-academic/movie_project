{
 "cells": [
  {
   "cell_type": "markdown",
   "metadata": {},
   "source": [
    "# Store data\n",
    "\n",
    "As calling API everytime may takes a while and we may hit the limit of API, we will store the data from API for now. "
   ]
  },
  {
   "cell_type": "code",
   "execution_count": 1,
   "metadata": {
    "collapsed": true
   },
   "outputs": [],
   "source": [
    "import tmdbsimple as tmdb\n",
    "tmdb.API_KEY = \"71e259894a515060876bab2a33d6bdc9\""
   ]
  },
  {
   "cell_type": "code",
   "execution_count": 2,
   "metadata": {
    "collapsed": true
   },
   "outputs": [],
   "source": [
    "from imdb import IMDb\n",
    "import pandas as pd\n",
    "from PIL import Image\n",
    "from StringIO import StringIO\n",
    "import requests\n",
    "import os\n",
    "import time\n",
    "from shutil import copyfile"
   ]
  },
  {
   "cell_type": "code",
   "execution_count": 3,
   "metadata": {
    "collapsed": false
   },
   "outputs": [],
   "source": [
    "dir_python_notebook = os.getcwd()\n",
    "dir_movie_project = os.path.abspath(os.path.join(dir_python_notebook, os.pardir))\n",
    "dir_data = os.path.join(dir_movie_project, 'data')"
   ]
  },
  {
   "cell_type": "markdown",
   "metadata": {},
   "source": [
    "# TMDB"
   ]
  },
  {
   "cell_type": "code",
   "execution_count": 22,
   "metadata": {
    "collapsed": false
   },
   "outputs": [],
   "source": [
    "# get column names to retrieve information\n",
    "tmdb_movie_id = tmdb.Movies(2)\n",
    "movie_info = tmdb_movie_id.info()\n",
    "tmdb_info_column  = tmdb_movie_id.info().keys()\n",
    "tmdb_info_column  = [str(c) for c in tmdb_info_column]\n",
    "tmdb_info_column.sort()"
   ]
  },
  {
   "cell_type": "code",
   "execution_count": 23,
   "metadata": {
    "collapsed": false
   },
   "outputs": [
    {
     "data": {
      "text/plain": [
       "['adult',\n",
       " 'backdrop_path',\n",
       " 'belongs_to_collection',\n",
       " 'budget',\n",
       " 'genres',\n",
       " 'homepage',\n",
       " 'id',\n",
       " 'imdb_id',\n",
       " 'original_language',\n",
       " 'original_title',\n",
       " 'overview',\n",
       " 'popularity',\n",
       " 'poster_path',\n",
       " 'production_companies',\n",
       " 'production_countries',\n",
       " 'release_date',\n",
       " 'revenue',\n",
       " 'runtime',\n",
       " 'spoken_languages',\n",
       " 'status',\n",
       " 'tagline',\n",
       " 'title',\n",
       " 'video',\n",
       " 'vote_average',\n",
       " 'vote_count']"
      ]
     },
     "execution_count": 23,
     "metadata": {},
     "output_type": "execute_result"
    }
   ],
   "source": [
    "tmdb_info_column"
   ]
  },
  {
   "cell_type": "code",
   "execution_count": 29,
   "metadata": {
    "collapsed": false
   },
   "outputs": [],
   "source": [
    "movies = pd.DataFrame(columns=tmdb_info_column)\n",
    "tmdb_filename = str(dir_data)+'\\\\drv_tmdb_movie_details.json'\n",
    "tmdb_filename_backup = str(dir_data)+'\\\\drv_tmdb_movie_details_bkp.json'\n",
    "\n",
    "# if we already have a movie data file, we can just continue appending it instead of starting from id 1 again.\n",
    "i_start = 1\n",
    "i_end = i_start+10000\n",
    "i_list = range(i_start,i_end)\n",
    "\n",
    "if os.path.isfile(tmdb_filename):\n",
    "    movies = pd.read_json(tmdb_filename)\n",
    "    if len(movies['id']) >0:        \n",
    "        movie_ids = movies['id'].tolist()\n",
    "        tmdb_info_column = movies.columns\n",
    "        i_list = [x for x in i_list if x not in movie_ids]\n",
    "    else:\n",
    "        movies = pd.DataFrame(columns=tmdb_info_column)\n",
    "        \n",
    "\n",
    "for i in i_list:\n",
    "    #skip the non-existing movie ids\n",
    "    if (i % 40 == 0):\n",
    "        # make sure we do not hit API limit\n",
    "        time.sleep(12) \n",
    "    if (i % 100 == 0):\n",
    "        movies.to_json(path_or_buf= tmdb_filename)\n",
    "    try:\n",
    "        tmdb_movies = tmdb.Movies(i)\n",
    "        info = tmdb_movies.info()\n",
    "        \n",
    "        movie_details = []\n",
    "        for c in tmdb_info_column:\n",
    "            if info.has_key(c):\n",
    "                if info[c] is not None:\n",
    "                    if c in ['genres','spoken_languages','production_countries','production_companies']:\n",
    "                        movie_details.append([d['name'] for d in info[c]])\n",
    "                    elif c in ['belongs_to_collection']:\n",
    "                        movie_details.append(info[c]['name'])\n",
    "                    else:\n",
    "                        movie_details.append(info[c]) \n",
    "                else:\n",
    "                    movie_details.append(None)\n",
    "            else:\n",
    "                    movie_details.append(None)\n",
    "        movies.loc[i] = movie_details\n",
    "    except Exception:\n",
    "        continue\n",
    "        \n",
    "movies.to_json(path_or_buf= tmdb_filename)"
   ]
  },
  {
   "cell_type": "code",
   "execution_count": 27,
   "metadata": {
    "collapsed": true
   },
   "outputs": [],
   "source": [
    "#make a backup in case of corruption\n",
    "copyfile(tmdb_filename, tmdb_filename_backup)"
   ]
  },
  {
   "cell_type": "code",
   "execution_count": 25,
   "metadata": {
    "collapsed": false
   },
   "outputs": [],
   "source": [
    "tmdb_filename = str(dir_data)+'\\\\drv_tmdb_movie_details.json'\n",
    "movies = pd.read_json(tmdb_filename)"
   ]
  },
  {
   "cell_type": "code",
   "execution_count": 28,
   "metadata": {
    "collapsed": false
   },
   "outputs": [
    {
     "data": {
      "text/html": [
       "<div>\n",
       "<table border=\"1\" class=\"dataframe\">\n",
       "  <thead>\n",
       "    <tr style=\"text-align: right;\">\n",
       "      <th></th>\n",
       "      <th>adult</th>\n",
       "      <th>backdrop_path</th>\n",
       "      <th>belongs_to_collection</th>\n",
       "      <th>budget</th>\n",
       "      <th>genres</th>\n",
       "      <th>homepage</th>\n",
       "      <th>id</th>\n",
       "      <th>imdb_id</th>\n",
       "      <th>original_language</th>\n",
       "      <th>original_title</th>\n",
       "      <th>...</th>\n",
       "      <th>release_date</th>\n",
       "      <th>revenue</th>\n",
       "      <th>runtime</th>\n",
       "      <th>spoken_languages</th>\n",
       "      <th>status</th>\n",
       "      <th>tagline</th>\n",
       "      <th>title</th>\n",
       "      <th>video</th>\n",
       "      <th>vote_average</th>\n",
       "      <th>vote_count</th>\n",
       "    </tr>\n",
       "  </thead>\n",
       "  <tbody>\n",
       "    <tr>\n",
       "      <th>10003</th>\n",
       "      <td>False</td>\n",
       "      <td>/lJnl8xIhplfzUBtlJLsWBwvXVBj.jpg</td>\n",
       "      <td>The Saint Collection</td>\n",
       "      <td>68000000</td>\n",
       "      <td>[Thriller, Action, Romance, Science Fiction, A...</td>\n",
       "      <td></td>\n",
       "      <td>10003</td>\n",
       "      <td>tt0120053</td>\n",
       "      <td>en</td>\n",
       "      <td>The Saint</td>\n",
       "      <td>...</td>\n",
       "      <td>1997-04-03</td>\n",
       "      <td>118063304</td>\n",
       "      <td>116</td>\n",
       "      <td>[English, Pусский]</td>\n",
       "      <td>Released</td>\n",
       "      <td>Never reveal your name. Never turn your back. ...</td>\n",
       "      <td>The Saint</td>\n",
       "      <td>False</td>\n",
       "      <td>5.8</td>\n",
       "      <td>235</td>\n",
       "    </tr>\n",
       "    <tr>\n",
       "      <th>10005</th>\n",
       "      <td>False</td>\n",
       "      <td>/u7IzK6tISpsSuNkWMowl17gSA4e.jpg</td>\n",
       "      <td>Behind Enemy Lines Collection</td>\n",
       "      <td>0</td>\n",
       "      <td>[Action, Adventure, Thriller]</td>\n",
       "      <td>http://www.foxhome.com/behindenemylinesiiaxiso...</td>\n",
       "      <td>10005</td>\n",
       "      <td>tt0497329</td>\n",
       "      <td>en</td>\n",
       "      <td>Behind Enemy Lines II: Axis of Evil</td>\n",
       "      <td>...</td>\n",
       "      <td>2006-10-17</td>\n",
       "      <td>0</td>\n",
       "      <td>96</td>\n",
       "      <td>[English, Pусский]</td>\n",
       "      <td>Released</td>\n",
       "      <td>The fate of the world hangs in the balance in ...</td>\n",
       "      <td>Behind Enemy Lines II: Axis of Evil</td>\n",
       "      <td>False</td>\n",
       "      <td>4.6</td>\n",
       "      <td>27</td>\n",
       "    </tr>\n",
       "    <tr>\n",
       "      <th>10007</th>\n",
       "      <td>False</td>\n",
       "      <td>/l9fdcaqaQQLE2K8cYwfoIPXi0i7.jpg</td>\n",
       "      <td>See No Evil Collection</td>\n",
       "      <td>8000000</td>\n",
       "      <td>[Horror, Thriller]</td>\n",
       "      <td></td>\n",
       "      <td>10007</td>\n",
       "      <td>tt0437179</td>\n",
       "      <td>en</td>\n",
       "      <td>See No Evil</td>\n",
       "      <td>...</td>\n",
       "      <td>2006-05-19</td>\n",
       "      <td>0</td>\n",
       "      <td>84</td>\n",
       "      <td>[English]</td>\n",
       "      <td>Released</td>\n",
       "      <td>This summer. Evil gets raw.</td>\n",
       "      <td>See No Evil</td>\n",
       "      <td>False</td>\n",
       "      <td>4.8</td>\n",
       "      <td>105</td>\n",
       "    </tr>\n",
       "    <tr>\n",
       "      <th>10009</th>\n",
       "      <td>False</td>\n",
       "      <td>/fAzT4AboZXP2Sj3zE2HcQ7qjMi.jpg</td>\n",
       "      <td>Brother Bear Collection</td>\n",
       "      <td>100000000</td>\n",
       "      <td>[Adventure, Animation, Family]</td>\n",
       "      <td>http://movies.disney.com/brother-bear</td>\n",
       "      <td>10009</td>\n",
       "      <td>tt0328880</td>\n",
       "      <td>en</td>\n",
       "      <td>Brother Bear</td>\n",
       "      <td>...</td>\n",
       "      <td>2003-10-23</td>\n",
       "      <td>0</td>\n",
       "      <td>85</td>\n",
       "      <td>[Hrvatski, English, ]</td>\n",
       "      <td>Released</td>\n",
       "      <td>Nature Calls</td>\n",
       "      <td>Brother Bear</td>\n",
       "      <td>False</td>\n",
       "      <td>6.8</td>\n",
       "      <td>964</td>\n",
       "    </tr>\n",
       "    <tr>\n",
       "      <th>10010</th>\n",
       "      <td>False</td>\n",
       "      <td>/zhMiJmPuX2o2bbXWWZNUgVbw3OM.jpg</td>\n",
       "      <td>Brother Bear Collection</td>\n",
       "      <td>0</td>\n",
       "      <td>[Adventure, Animation, Family]</td>\n",
       "      <td>http://movies.disney.com/brother-bear-2</td>\n",
       "      <td>10010</td>\n",
       "      <td>tt0465925</td>\n",
       "      <td>en</td>\n",
       "      <td>Brother Bear 2</td>\n",
       "      <td>...</td>\n",
       "      <td>2006-08-17</td>\n",
       "      <td>0</td>\n",
       "      <td>73</td>\n",
       "      <td>[English]</td>\n",
       "      <td>Released</td>\n",
       "      <td></td>\n",
       "      <td>Brother Bear 2</td>\n",
       "      <td>False</td>\n",
       "      <td>6.3</td>\n",
       "      <td>202</td>\n",
       "    </tr>\n",
       "  </tbody>\n",
       "</table>\n",
       "<p>5 rows × 25 columns</p>\n",
       "</div>"
      ],
      "text/plain": [
       "       adult                     backdrop_path          belongs_to_collection  \\\n",
       "10003  False  /lJnl8xIhplfzUBtlJLsWBwvXVBj.jpg           The Saint Collection   \n",
       "10005  False  /u7IzK6tISpsSuNkWMowl17gSA4e.jpg  Behind Enemy Lines Collection   \n",
       "10007  False  /l9fdcaqaQQLE2K8cYwfoIPXi0i7.jpg         See No Evil Collection   \n",
       "10009  False   /fAzT4AboZXP2Sj3zE2HcQ7qjMi.jpg        Brother Bear Collection   \n",
       "10010  False  /zhMiJmPuX2o2bbXWWZNUgVbw3OM.jpg        Brother Bear Collection   \n",
       "\n",
       "          budget                                             genres  \\\n",
       "10003   68000000  [Thriller, Action, Romance, Science Fiction, A...   \n",
       "10005          0                      [Action, Adventure, Thriller]   \n",
       "10007    8000000                                 [Horror, Thriller]   \n",
       "10009  100000000                     [Adventure, Animation, Family]   \n",
       "10010          0                     [Adventure, Animation, Family]   \n",
       "\n",
       "                                                homepage     id    imdb_id  \\\n",
       "10003                                                     10003  tt0120053   \n",
       "10005  http://www.foxhome.com/behindenemylinesiiaxiso...  10005  tt0497329   \n",
       "10007                                                     10007  tt0437179   \n",
       "10009              http://movies.disney.com/brother-bear  10009  tt0328880   \n",
       "10010            http://movies.disney.com/brother-bear-2  10010  tt0465925   \n",
       "\n",
       "      original_language                       original_title    ...      \\\n",
       "10003                en                            The Saint    ...       \n",
       "10005                en  Behind Enemy Lines II: Axis of Evil    ...       \n",
       "10007                en                          See No Evil    ...       \n",
       "10009                en                         Brother Bear    ...       \n",
       "10010                en                       Brother Bear 2    ...       \n",
       "\n",
       "      release_date    revenue runtime       spoken_languages    status  \\\n",
       "10003   1997-04-03  118063304     116     [English, Pусский]  Released   \n",
       "10005   2006-10-17          0      96     [English, Pусский]  Released   \n",
       "10007   2006-05-19          0      84              [English]  Released   \n",
       "10009   2003-10-23          0      85  [Hrvatski, English, ]  Released   \n",
       "10010   2006-08-17          0      73              [English]  Released   \n",
       "\n",
       "                                                 tagline  \\\n",
       "10003  Never reveal your name. Never turn your back. ...   \n",
       "10005  The fate of the world hangs in the balance in ...   \n",
       "10007                        This summer. Evil gets raw.   \n",
       "10009                                       Nature Calls   \n",
       "10010                                                      \n",
       "\n",
       "                                     title  video vote_average vote_count  \n",
       "10003                            The Saint  False          5.8        235  \n",
       "10005  Behind Enemy Lines II: Axis of Evil  False          4.6         27  \n",
       "10007                          See No Evil  False          4.8        105  \n",
       "10009                         Brother Bear  False          6.8        964  \n",
       "10010                       Brother Bear 2  False          6.3        202  \n",
       "\n",
       "[5 rows x 25 columns]"
      ]
     },
     "execution_count": 28,
     "metadata": {},
     "output_type": "execute_result"
    }
   ],
   "source": [
    "movies.head(5)"
   ]
  },
  {
   "cell_type": "code",
   "execution_count": null,
   "metadata": {
    "collapsed": true
   },
   "outputs": [],
   "source": []
  }
 ],
 "metadata": {
  "kernelspec": {
   "display_name": "Python 2",
   "language": "python",
   "name": "python2"
  },
  "language_info": {
   "codemirror_mode": {
    "name": "ipython",
    "version": 2
   },
   "file_extension": ".py",
   "mimetype": "text/x-python",
   "name": "python",
   "nbconvert_exporter": "python",
   "pygments_lexer": "ipython2",
   "version": "2.7.13"
  }
 },
 "nbformat": 4,
 "nbformat_minor": 2
}
