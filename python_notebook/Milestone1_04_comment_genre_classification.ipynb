{
 "cells": [
  {
   "cell_type": "markdown",
   "metadata": {},
   "source": [
    "# Movie genre classification\n",
    "\n",
    "## Questions\n",
    "We need to address the following problems before we do movie genre classification:\n",
    "1. TMDB and IMDB have different movie genre list and this can create issues for prediction. Which list of genre we use? What do we do if they disagree?\n",
    "2. A movie can have more than 1 genre. The data from TMDB and IMDB will not indicate which one is the main genre if there is more than 1 genre. However, when we do movie genre prediction, we may only want our reponse to be 1 genre. What should we predict? A genre or a list of genre?\n",
    "3. If we aim to tag a movie with multiple genres, what metrics do we use to evaluate our methods?  The accuracy is no longer a simple 0-1 evaluation.\n",
    "\n",
    "## Additional data set\n",
    "Amazon API provides genre tag and frequency weighting.  We can use it to find movie primary genre.\n",
    "\n",
    "## Approach\n",
    "Below are some of our thoughts on the questions in the first section.\n",
    "\n",
    "### TMDB genre vs IMDB genre\n",
    "Issues:\n",
    "1. TMDB has a shorter genre list than IMDB list. Although we aim to pull information of the same set of movies, the genre lists extracted from IMDB and TMDB data are still different.\n",
    "2. Some genre distinction are not based on plots. For example, \"Foreign\" genre can refer to film out of the country.\n",
    "3. Some genre have too few movies. \n",
    "Possible solutions:\n",
    "1. We can check if the genre classification are similiar for IMDB and TMDB by the following: look at percentage breakdown of each genre. If the results are significantly different amonng the two databases, we will have to explore what causes the difference. We can then merge the list or just to use IMDB genre list if the genre are not that different from TMDB.\n",
    "2. We should perhaps remove some genres based on movie release date or country. \n",
    "3. For genre with little movies, we can merge them into another genre. Ex. If we do cluster analysis and find Noir is indeed close to Crime, we can group movies from Noir to Crime.\n",
    "\n",
    "### What are our reponse variable?\n",
    "Issues:\n",
    "1. Movies have 3 genres on average from IMDB and TMDB.\n",
    "Unforunately, neither database tags primary genre of a movie.\n",
    "Possible Solutions:\n",
    "1. We create clusteres of genres. Ex. Cluser 1 consists of Action,Drama,Romance; cluster 2 consists of Horror. A movie can be assigned to cluster 1. Some researches used this method. \n",
    "2. We will have a outpuf vecot of Y. Y = [Y_horror, Y_romance, Y_drama,...]\n",
    "3. We can do output only 1 Y of primary genre. But to do this, we will need to get data from Amazon.\n",
    "Currently, we prefer option 2.\n",
    "\n",
    "### Multi-label classification\n",
    "We will use multi-label classification. Before we discuss which methods to use (ex. KNN, SVM), we should consdier how we will treat the response variable first.\n",
    "\n",
    "1. Binary Relevence(BR)\n",
    "we seperate each genre into seperate problems (one for each genre).\n",
    "However, this ignore label dependence. \n",
    "Ex. if a movie is tagged as Drama, it is likely that it is also tagged as Action. if a movie is tagged as  Horror, it is likely that it is also tagged as Romance.\n",
    "If two classes of a genre (Yes/No) have very uneven sizes in the training set, the classifier will lean toward the class with higher movie number.\n",
    "There is a method called a label correction strategy that can help to improve accuracy\n",
    "For example, if our prediction is [Y_horror, Y_romance, Y_drama]= [1,1,0], which does not really happen in training set. We find another likely matching vector. We may change our prediction to be [1,0,1].\n",
    "\n",
    "2. Classifier Chains (CC)\n",
    "We seperate each genre into seperate problems, but include previous predictions as predictors.\n",
    "For example, X is our predictor for Y_horror. Next, X, Y_horror are our predictor for Y_romance.\n",
    "However, error may be propagated down the chain.\n",
    "\n",
    "3. Label Powerset (LP)\n",
    "Instead of having seperate Y_i for each genre i, we will predict only Y. Y has 2^I possible values where I is the number of genre.\n",
    "For example, if Y_horror = 1, Y_romance = 0, Y_drama = 1, Y = [101]\n",
    "However, imbalance of the data can be an issue.\n",
    "\n",
    "4. Neural network\n",
    "The output node will be each genre label.\n",
    "\n",
    "We aim to try out meothds 1 to 4 with different algorithms.\n",
    "We also need to examine label dependence for each genre by examining co-occurance frequency of genre. It will give us a better picture of which method to use.\n",
    "We can also transform Y to [Y_OR,Y_AND, Y_XOR].\n",
    "\n",
    "\n",
    "### Classification Algorithms\n",
    "\n",
    "Below is the list of algorithms. We will likely add more algorithms later.\n",
    "1. KNN\n",
    "2. Kmeans\n",
    "3. Naive Bayes\n",
    "4. SVM\n",
    "5. LDA\n",
    "\n",
    "### Classification Evaluation\n",
    "Imagine if the reponse variable Y are Y_horror, Y_romance, Y_drama, ... for each genre i, we will need to find appropriate methods to evaluate classification methods.\n",
    "\n",
    "We can calculate different measurements and evalute by multiple measurements.\n",
    "1. Compare bit-wise\n",
    "This can be too lenient\n",
    "2. Compare vector-ise\n",
    "This can be too strict\n",
    "3. Hamming loss (for BR)\n",
    "4. 0/1 loss (for CC)\n",
    "5. precision \n",
    "6. recall\n",
    "7. F measures\n",
    "\n",
    "For some of the measurements above, we can use macro-average(which give equal qeight to every class) or micro-averaging(which weights class relatively to its example frequency).\n",
    "\n",
    "\n",
    "\n",
    "## useful resources\n",
    "* [IMDB genre guide](http://www.imdb.com/help/search?domain=helpdesk_faq&index=2&file=genres)\n"
   ]
  },
  {
   "cell_type": "code",
   "execution_count": 2,
   "metadata": {
    "collapsed": true
   },
   "outputs": [],
   "source": [
    "import tmdbsimple as tmdb\n",
    "tmdb.API_KEY = \"71e259894a515060876bab2a33d6bdc9\""
   ]
  },
  {
   "cell_type": "code",
   "execution_count": 3,
   "metadata": {
    "collapsed": true
   },
   "outputs": [],
   "source": [
    "import imdb as ib\n",
    "from imdb import IMDb\n",
    "import pandas as pd\n",
    "from PIL import Image\n",
    "from StringIO import StringIO\n",
    "import requests\n",
    "import os\n",
    "import time\n",
    "from shutil import copyfile\n",
    "import types\n",
    "import numpy as np"
   ]
  },
  {
   "cell_type": "code",
   "execution_count": 4,
   "metadata": {
    "collapsed": false
   },
   "outputs": [],
   "source": [
    "dir_python_notebook = os.getcwd()\n",
    "dir_movie_project = os.path.abspath(os.path.join(dir_python_notebook, os.pardir))\n",
    "dir_data = os.path.join(dir_movie_project, 'data')"
   ]
  },
  {
   "cell_type": "markdown",
   "metadata": {},
   "source": [
    "# Load data\n",
    "\n",
    "Use the data from the files for now instead of calling API."
   ]
  },
  {
   "cell_type": "code",
   "execution_count": 5,
   "metadata": {
    "collapsed": false
   },
   "outputs": [],
   "source": [
    "tmdb_filename = str(dir_data)+'\\\\drv_tmdb_movie_details.json'\n",
    "imdb_filename = str(dir_data)+'\\\\drv_imdb_movie_info.json'\n",
    "tmdb_movies = pd.read_json(tmdb_filename)\n",
    "imdb_movies = pd.read_json(imdb_filename)"
   ]
  },
  {
   "cell_type": "code",
   "execution_count": 40,
   "metadata": {
    "collapsed": true
   },
   "outputs": [],
   "source": [
    "def get_genre(tmdb_movies ,key):\n",
    "    tmdb_genre = tmdb_movies[tmdb_movies[key].notnull()][key].tolist()\n",
    "    tmdb_genre_set = set()\n",
    "    for g in tmdb_genre:\n",
    "        if g is not None:\n",
    "            tmdb_genre_set = tmdb_genre_set.union(set(g))\n",
    "    tmdb_genre = list(tmdb_genre_set)\n",
    "    tmdb_genre.sort()\n",
    "    return(tmdb_genre)"
   ]
  },
  {
   "cell_type": "code",
   "execution_count": 41,
   "metadata": {
    "collapsed": true
   },
   "outputs": [],
   "source": [
    "def get_genere_num (row, column_name):\n",
    "    if row[column_name] is None :\n",
    "        return 0\n",
    "    else:\n",
    "        return len(row[column_name])"
   ]
  },
  {
   "cell_type": "code",
   "execution_count": 42,
   "metadata": {
    "collapsed": false
   },
   "outputs": [],
   "source": [
    "def is_genre (row, column_name, genre):\n",
    "    \"\"\"check if that movie is in this genre as a movie can have more than 1 genre\"\"\"\n",
    "    if row[column_name] is None :\n",
    "        return 0\n",
    "    else:\n",
    "        if genre in row[column_name] :\n",
    "            return 1\n",
    "        else:\n",
    "            return 0"
   ]
  },
  {
   "cell_type": "code",
   "execution_count": 43,
   "metadata": {
    "collapsed": false
   },
   "outputs": [],
   "source": [
    "tmdb_genre = get_genre(tmdb_movies,u'genres')\n",
    "tmdb_movies[u'genre_num'] = tmdb_movies.apply(lambda row: get_genere_num(row,u'genres'), axis=1)\n",
    "\n",
    "for g in tmdb_genre: \n",
    "    tmdb_movies[g] = tmdb_movies.apply(lambda row: is_genre(row,u'genres',g), axis=1)"
   ]
  },
  {
   "cell_type": "code",
   "execution_count": 44,
   "metadata": {
    "collapsed": false
   },
   "outputs": [
    {
     "data": {
      "text/plain": [
       "2.255087358684481"
      ]
     },
     "execution_count": 44,
     "metadata": {},
     "output_type": "execute_result"
    }
   ],
   "source": [
    "np.mean(tmdb_movies[u'genre_num'])"
   ]
  },
  {
   "cell_type": "code",
   "execution_count": 45,
   "metadata": {
    "collapsed": false
   },
   "outputs": [
    {
     "data": {
      "text/plain": [
       "Action             0.180473\n",
       "Adventure          0.123535\n",
       "Animation          0.025488\n",
       "Comedy             0.324974\n",
       "Crime              0.156835\n",
       "Documentary        0.037410\n",
       "Drama              0.498869\n",
       "Family             0.049538\n",
       "Fantasy            0.072765\n",
       "Foreign            0.021583\n",
       "History            0.045427\n",
       "Horror             0.099692\n",
       "Music              0.024666\n",
       "Mystery            0.063926\n",
       "Romance            0.142652\n",
       "Science Fiction    0.100925\n",
       "TV Movie           0.005550\n",
       "Thriller           0.233299\n",
       "War                0.027338\n",
       "Western            0.020144\n",
       "dtype: float64"
      ]
     },
     "execution_count": 45,
     "metadata": {},
     "output_type": "execute_result"
    }
   ],
   "source": [
    "tmdb_genre_df = tmdb_movies[tmdb_genre].mean(axis=0)\n",
    "tmdb_genre_df"
   ]
  },
  {
   "cell_type": "code",
   "execution_count": 58,
   "metadata": {
    "collapsed": false
   },
   "outputs": [
    {
     "data": {
      "text/plain": [
       "Animation      0.025488\n",
       "Documentary    0.037410\n",
       "Family         0.049538\n",
       "Foreign        0.021583\n",
       "History        0.045427\n",
       "Music          0.024666\n",
       "TV Movie       0.005550\n",
       "War            0.027338\n",
       "Western        0.020144\n",
       "dtype: float64"
      ]
     },
     "execution_count": 58,
     "metadata": {},
     "output_type": "execute_result"
    }
   ],
   "source": [
    "tmdb_genre_df[tmdb_genre_df < 0.05]"
   ]
  },
  {
   "cell_type": "code",
   "execution_count": 46,
   "metadata": {
    "collapsed": false
   },
   "outputs": [],
   "source": [
    "imdb_genre = get_genre(imdb_movies,u'genres')\n",
    "imdb_movies[u'genre_num'] = imdb_movies.apply(lambda row: get_genere_num(row,u'genres'), axis=1)\n",
    "\n",
    "for g in imdb_genre: \n",
    "    imdb_movies[g] = imdb_movies.apply(lambda row: is_genre(row,u'genres',g), axis=1)"
   ]
  },
  {
   "cell_type": "code",
   "execution_count": 51,
   "metadata": {
    "collapsed": false
   },
   "outputs": [
    {
     "data": {
      "text/plain": [
       "209"
      ]
     },
     "execution_count": 51,
     "metadata": {},
     "output_type": "execute_result"
    }
   ],
   "source": [
    "# number of movies with no genre\n",
    "sum(imdb_movies[u'genres'].isnull())"
   ]
  },
  {
   "cell_type": "code",
   "execution_count": 47,
   "metadata": {
    "collapsed": false
   },
   "outputs": [
    {
     "data": {
      "text/plain": [
       "Action         0.154828\n",
       "Adult          0.005870\n",
       "Adventure      0.114323\n",
       "Animation      0.054104\n",
       "Biography      0.037081\n",
       "Comedy         0.355396\n",
       "Crime          0.153067\n",
       "Documentary    0.065600\n",
       "Drama          0.459642\n",
       "Family         0.084532\n",
       "Fantasy        0.081646\n",
       "Film-Noir      0.010664\n",
       "History        0.032042\n",
       "Horror         0.108600\n",
       "Music          0.043587\n",
       "Musical        0.029009\n",
       "Mystery        0.076460\n",
       "News           0.000147\n",
       "Reality-TV     0.000098\n",
       "Romance        0.188876\n",
       "Sci-Fi         0.082233\n",
       "Short          0.032531\n",
       "Sport          0.033216\n",
       "Talk-Show      0.000098\n",
       "Thriller       0.201106\n",
       "War            0.040603\n",
       "Western        0.023188\n",
       "dtype: float64"
      ]
     },
     "execution_count": 47,
     "metadata": {},
     "output_type": "execute_result"
    }
   ],
   "source": [
    "imdb_genre_df = imdb_movies[imdb_genre].mean(axis=0)\n",
    "imdb_genre_df"
   ]
  },
  {
   "cell_type": "code",
   "execution_count": 57,
   "metadata": {
    "collapsed": false
   },
   "outputs": [
    {
     "data": {
      "text/plain": [
       "Adult         0.005870\n",
       "Biography     0.037081\n",
       "Film-Noir     0.010664\n",
       "History       0.032042\n",
       "Music         0.043587\n",
       "Musical       0.029009\n",
       "News          0.000147\n",
       "Reality-TV    0.000098\n",
       "Short         0.032531\n",
       "Sport         0.033216\n",
       "Talk-Show     0.000098\n",
       "War           0.040603\n",
       "Western       0.023188\n",
       "dtype: float64"
      ]
     },
     "execution_count": 57,
     "metadata": {},
     "output_type": "execute_result"
    }
   ],
   "source": [
    "imdb_genre_df[imdb_genre_df < 0.05]"
   ]
  },
  {
   "cell_type": "code",
   "execution_count": 52,
   "metadata": {
    "collapsed": false
   },
   "outputs": [
    {
     "data": {
      "text/plain": [
       "2.4685451521377555"
      ]
     },
     "execution_count": 52,
     "metadata": {},
     "output_type": "execute_result"
    }
   ],
   "source": [
    "np.mean(imdb_movies[u'genre_num'])"
   ]
  },
  {
   "cell_type": "markdown",
   "metadata": {},
   "source": [
    "## Observations on genre list\n",
    "\n",
    "1. The genre lists between IMDB and TMDB are very similiar so far. Perhaps it is because we have extracted the same movie.\n",
    "2. A movie has 2 genres on average.\n",
    "3. Some of the genres(ex. Biography and War) only account for less than 5%. One-vs-all approach may not be good."
   ]
  },
  {
   "cell_type": "markdown",
   "metadata": {
    "collapsed": true
   },
   "source": [
    "## Compare Genre from IMDB, TMDB"
   ]
  },
  {
   "cell_type": "code",
   "execution_count": 21,
   "metadata": {
    "collapsed": false
   },
   "outputs": [
    {
     "data": {
      "text/plain": [
       "['Action',\n",
       " 'Adventure',\n",
       " 'Animation',\n",
       " 'Comedy',\n",
       " 'Crime',\n",
       " 'Documentary',\n",
       " 'Drama',\n",
       " 'Family',\n",
       " 'Fantasy',\n",
       " 'History',\n",
       " 'Horror',\n",
       " 'Music',\n",
       " 'Mystery',\n",
       " 'Romance',\n",
       " 'Science Fiction',\n",
       " 'TV Movie',\n",
       " 'Thriller',\n",
       " 'War',\n",
       " 'Western']"
      ]
     },
     "execution_count": 21,
     "metadata": {},
     "output_type": "execute_result"
    }
   ],
   "source": [
    "tmdb_genre = tmdb_genres.values()\n",
    "tmdb_genre.sort()\n",
    "tmdb_genre"
   ]
  },
  {
   "cell_type": "markdown",
   "metadata": {},
   "source": [
    "**IMDB genre list: http://www.imdb.com/help/search?domain=helpdesk_faq&index=2&file=genres **"
   ]
  },
  {
   "cell_type": "code",
   "execution_count": 87,
   "metadata": {
    "collapsed": true
   },
   "outputs": [],
   "source": [
    "imdb_genre = ['Action','Adult','Adventure','Animation','Biography','Comedy','Crime','Documentary','Drama','Family',\n",
    "              'Fantasy','Film Noir','Game-Show','History','Horror','Musical','Music','Mystery','News','Reality-TV',\n",
    "              'Romance','Sci-Fi','Short','Sport','Talk-Show','Thriller','War','Western']"
   ]
  },
  {
   "cell_type": "markdown",
   "metadata": {},
   "source": [
    "IMBD has more genres than TMDB, most of them have the same corresponds, except 'Science Fiction' (TMDB) = 'Sci-Fi' (IMDB). "
   ]
  },
  {
   "cell_type": "code",
   "execution_count": 88,
   "metadata": {
    "collapsed": false
   },
   "outputs": [],
   "source": [
    "genre = list(set(imdb_genre + tmdb_genre))"
   ]
  },
  {
   "cell_type": "code",
   "execution_count": 89,
   "metadata": {
    "collapsed": false
   },
   "outputs": [],
   "source": [
    "#remove duplicated\n",
    "genre.remove('Sci-Fi')"
   ]
  },
  {
   "cell_type": "code",
   "execution_count": 90,
   "metadata": {
    "collapsed": false
   },
   "outputs": [
    {
     "data": {
      "text/plain": [
       "['Action',\n",
       " 'Adult',\n",
       " 'Adventure',\n",
       " 'Animation',\n",
       " 'Biography',\n",
       " 'Comedy',\n",
       " 'Crime',\n",
       " 'Documentary',\n",
       " 'Drama',\n",
       " 'Family',\n",
       " 'Fantasy',\n",
       " 'Film Noir',\n",
       " 'Game-Show',\n",
       " 'History',\n",
       " 'Horror',\n",
       " 'Music',\n",
       " 'Musical',\n",
       " 'Mystery',\n",
       " 'News',\n",
       " 'Reality-TV',\n",
       " 'Romance',\n",
       " 'Science Fiction',\n",
       " 'Short',\n",
       " 'Sport',\n",
       " 'TV Movie',\n",
       " 'Talk-Show',\n",
       " 'Thriller',\n",
       " 'War',\n",
       " 'Western']"
      ]
     },
     "execution_count": 90,
     "metadata": {},
     "output_type": "execute_result"
    }
   ],
   "source": [
    "#complete genres\n",
    "genre.sort()\n",
    "genre"
   ]
  },
  {
   "cell_type": "code",
   "execution_count": 91,
   "metadata": {
    "collapsed": false
   },
   "outputs": [
    {
     "data": {
      "text/plain": [
       "{12: 'Adventure',\n",
       " 14: 'Fantasy',\n",
       " 16: 'Animation',\n",
       " 18: 'Drama',\n",
       " 27: 'Horror',\n",
       " 28: 'Action',\n",
       " 35: 'Comedy',\n",
       " 36: 'History',\n",
       " 37: 'Western',\n",
       " 53: 'Thriller',\n",
       " 80: 'Crime',\n",
       " 99: 'Documentary',\n",
       " 878: 'Science Fiction',\n",
       " 9648: 'Mystery',\n",
       " 10402: 'Music',\n",
       " 10749: 'Romance',\n",
       " 10751: 'Family',\n",
       " 10752: 'War',\n",
       " 10770: 'TV Movie'}"
      ]
     },
     "execution_count": 91,
     "metadata": {},
     "output_type": "execute_result"
    }
   ],
   "source": [
    "tmdb_genres"
   ]
  },
  {
   "cell_type": "code",
   "execution_count": 92,
   "metadata": {
    "collapsed": true
   },
   "outputs": [],
   "source": [
    "imdb_genres = {12: 'Adventure',\n",
    " 14: 'Fantasy',\n",
    " 16: 'Animation',\n",
    " 18: 'Drama',\n",
    " 27: 'Horror',\n",
    " 28: 'Action',\n",
    " 35: 'Comedy',\n",
    " 36: 'History',\n",
    " 37: 'Western',\n",
    " 53: 'Thriller',\n",
    " 80: 'Crime',\n",
    " 99: 'Documentary',\n",
    " 878: 'Sci-Fi',\n",
    " 9648: 'Mystery',\n",
    " 10402: 'Music',\n",
    " 10749: 'Romance',\n",
    " 10751: 'Family',\n",
    " 10752: 'War',\n",
    " 10770: 'TV Movie',\n",
    " 1: 'Adult',\n",
    " 2: 'Biography',\n",
    " 3: 'Film Noir',\n",
    " 4: 'Game-Show',\n",
    " 5: 'Musical',\n",
    " 6: 'News',\n",
    " 7: 'Reality-TV',\n",
    " 8: 'Short',\n",
    " 9: 'Sport',\n",
    "10: 'Talk-Show'}\n"
   ]
  },
  {
   "cell_type": "code",
   "execution_count": 93,
   "metadata": {
    "collapsed": true
   },
   "outputs": [],
   "source": [
    "genre_dic = tmdb_genres.copy()\n",
    "genre_dic.update(imdb_genres )"
   ]
  },
  {
   "cell_type": "code",
   "execution_count": 94,
   "metadata": {
    "collapsed": false
   },
   "outputs": [
    {
     "data": {
      "text/plain": [
       "{1: 'Adult',\n",
       " 2: 'Biography',\n",
       " 3: 'Film Noir',\n",
       " 4: 'Game-Show',\n",
       " 5: 'Musical',\n",
       " 6: 'News',\n",
       " 7: 'Reality-TV',\n",
       " 8: 'Short',\n",
       " 9: 'Sport',\n",
       " 10: 'Talk-Show',\n",
       " 12: 'Adventure',\n",
       " 14: 'Fantasy',\n",
       " 16: 'Animation',\n",
       " 18: 'Drama',\n",
       " 27: 'Horror',\n",
       " 28: 'Action',\n",
       " 35: 'Comedy',\n",
       " 36: 'History',\n",
       " 37: 'Western',\n",
       " 53: 'Thriller',\n",
       " 80: 'Crime',\n",
       " 99: 'Documentary',\n",
       " 878: 'Sci-Fi',\n",
       " 9648: 'Mystery',\n",
       " 10402: 'Music',\n",
       " 10749: 'Romance',\n",
       " 10751: 'Family',\n",
       " 10752: 'War',\n",
       " 10770: 'TV Movie'}"
      ]
     },
     "execution_count": 94,
     "metadata": {},
     "output_type": "execute_result"
    }
   ],
   "source": [
    "#as a dictironary format, most id is same as id in tmdb (updated 878 will get value 'Sci-Fi' instead of 'Science Fiction')\n",
    "genre_dic"
   ]
  },
  {
   "cell_type": "code",
   "execution_count": 95,
   "metadata": {
    "collapsed": false
   },
   "outputs": [],
   "source": [
    "items = imdb_genres.items()\n",
    "df_imdb = pd.DataFrame({'keys': [i[0] for i in items], 'values': [i[1] for i in items]})"
   ]
  },
  {
   "cell_type": "code",
   "execution_count": 96,
   "metadata": {
    "collapsed": false
   },
   "outputs": [
    {
     "data": {
      "text/html": [
       "<div>\n",
       "<table border=\"1\" class=\"dataframe\">\n",
       "  <thead>\n",
       "    <tr style=\"text-align: right;\">\n",
       "      <th></th>\n",
       "      <th>keys</th>\n",
       "      <th>values</th>\n",
       "    </tr>\n",
       "  </thead>\n",
       "  <tbody>\n",
       "    <tr>\n",
       "      <th>0</th>\n",
       "      <td>10752</td>\n",
       "      <td>War</td>\n",
       "    </tr>\n",
       "    <tr>\n",
       "      <th>1</th>\n",
       "      <td>1</td>\n",
       "      <td>Adult</td>\n",
       "    </tr>\n",
       "    <tr>\n",
       "      <th>2</th>\n",
       "      <td>2</td>\n",
       "      <td>Biography</td>\n",
       "    </tr>\n",
       "    <tr>\n",
       "      <th>3</th>\n",
       "      <td>3</td>\n",
       "      <td>Film Noir</td>\n",
       "    </tr>\n",
       "    <tr>\n",
       "      <th>4</th>\n",
       "      <td>4</td>\n",
       "      <td>Game-Show</td>\n",
       "    </tr>\n",
       "    <tr>\n",
       "      <th>5</th>\n",
       "      <td>5</td>\n",
       "      <td>Musical</td>\n",
       "    </tr>\n",
       "    <tr>\n",
       "      <th>6</th>\n",
       "      <td>6</td>\n",
       "      <td>News</td>\n",
       "    </tr>\n",
       "    <tr>\n",
       "      <th>7</th>\n",
       "      <td>7</td>\n",
       "      <td>Reality-TV</td>\n",
       "    </tr>\n",
       "    <tr>\n",
       "      <th>8</th>\n",
       "      <td>8</td>\n",
       "      <td>Short</td>\n",
       "    </tr>\n",
       "    <tr>\n",
       "      <th>9</th>\n",
       "      <td>9</td>\n",
       "      <td>Sport</td>\n",
       "    </tr>\n",
       "    <tr>\n",
       "      <th>10</th>\n",
       "      <td>10</td>\n",
       "      <td>Talk-Show</td>\n",
       "    </tr>\n",
       "    <tr>\n",
       "      <th>11</th>\n",
       "      <td>12</td>\n",
       "      <td>Adventure</td>\n",
       "    </tr>\n",
       "    <tr>\n",
       "      <th>12</th>\n",
       "      <td>14</td>\n",
       "      <td>Fantasy</td>\n",
       "    </tr>\n",
       "    <tr>\n",
       "      <th>13</th>\n",
       "      <td>16</td>\n",
       "      <td>Animation</td>\n",
       "    </tr>\n",
       "    <tr>\n",
       "      <th>14</th>\n",
       "      <td>10770</td>\n",
       "      <td>TV Movie</td>\n",
       "    </tr>\n",
       "    <tr>\n",
       "      <th>15</th>\n",
       "      <td>27</td>\n",
       "      <td>Horror</td>\n",
       "    </tr>\n",
       "    <tr>\n",
       "      <th>16</th>\n",
       "      <td>28</td>\n",
       "      <td>Action</td>\n",
       "    </tr>\n",
       "    <tr>\n",
       "      <th>17</th>\n",
       "      <td>10402</td>\n",
       "      <td>Music</td>\n",
       "    </tr>\n",
       "    <tr>\n",
       "      <th>18</th>\n",
       "      <td>35</td>\n",
       "      <td>Comedy</td>\n",
       "    </tr>\n",
       "    <tr>\n",
       "      <th>19</th>\n",
       "      <td>36</td>\n",
       "      <td>History</td>\n",
       "    </tr>\n",
       "    <tr>\n",
       "      <th>20</th>\n",
       "      <td>37</td>\n",
       "      <td>Western</td>\n",
       "    </tr>\n",
       "    <tr>\n",
       "      <th>21</th>\n",
       "      <td>9648</td>\n",
       "      <td>Mystery</td>\n",
       "    </tr>\n",
       "    <tr>\n",
       "      <th>22</th>\n",
       "      <td>53</td>\n",
       "      <td>Thriller</td>\n",
       "    </tr>\n",
       "    <tr>\n",
       "      <th>23</th>\n",
       "      <td>80</td>\n",
       "      <td>Crime</td>\n",
       "    </tr>\n",
       "    <tr>\n",
       "      <th>24</th>\n",
       "      <td>99</td>\n",
       "      <td>Documentary</td>\n",
       "    </tr>\n",
       "    <tr>\n",
       "      <th>25</th>\n",
       "      <td>18</td>\n",
       "      <td>Drama</td>\n",
       "    </tr>\n",
       "    <tr>\n",
       "      <th>26</th>\n",
       "      <td>878</td>\n",
       "      <td>Sci-Fi</td>\n",
       "    </tr>\n",
       "    <tr>\n",
       "      <th>27</th>\n",
       "      <td>10749</td>\n",
       "      <td>Romance</td>\n",
       "    </tr>\n",
       "    <tr>\n",
       "      <th>28</th>\n",
       "      <td>10751</td>\n",
       "      <td>Family</td>\n",
       "    </tr>\n",
       "  </tbody>\n",
       "</table>\n",
       "</div>"
      ],
      "text/plain": [
       "     keys       values\n",
       "0   10752          War\n",
       "1       1        Adult\n",
       "2       2    Biography\n",
       "3       3    Film Noir\n",
       "4       4    Game-Show\n",
       "5       5      Musical\n",
       "6       6         News\n",
       "7       7   Reality-TV\n",
       "8       8        Short\n",
       "9       9        Sport\n",
       "10     10    Talk-Show\n",
       "11     12    Adventure\n",
       "12     14      Fantasy\n",
       "13     16    Animation\n",
       "14  10770     TV Movie\n",
       "15     27       Horror\n",
       "16     28       Action\n",
       "17  10402        Music\n",
       "18     35       Comedy\n",
       "19     36      History\n",
       "20     37      Western\n",
       "21   9648      Mystery\n",
       "22     53     Thriller\n",
       "23     80        Crime\n",
       "24     99  Documentary\n",
       "25     18        Drama\n",
       "26    878       Sci-Fi\n",
       "27  10749      Romance\n",
       "28  10751       Family"
      ]
     },
     "execution_count": 96,
     "metadata": {},
     "output_type": "execute_result"
    }
   ],
   "source": [
    "df_imdb"
   ]
  },
  {
   "cell_type": "code",
   "execution_count": 97,
   "metadata": {
    "collapsed": true
   },
   "outputs": [],
   "source": [
    "items = tmdb_genres.items()\n",
    "df_tmdb = pd.DataFrame({'keys': [i[0] for i in items], 'values': [i[1] for i in items]})"
   ]
  },
  {
   "cell_type": "code",
   "execution_count": 98,
   "metadata": {
    "collapsed": true
   },
   "outputs": [],
   "source": [
    "items = genre_dic.items()\n",
    "df_genre = pd.DataFrame({'keys': [i[0] for i in items], 'values': [i[1] for i in items]})"
   ]
  },
  {
   "cell_type": "code",
   "execution_count": 99,
   "metadata": {
    "collapsed": false
   },
   "outputs": [],
   "source": [
    "df1 = pd.merge(df_genre, df_tmdb, how='left', on=['keys'])\n",
    "df1 = df1.sort_values(['values_x'])"
   ]
  },
  {
   "cell_type": "code",
   "execution_count": 100,
   "metadata": {
    "collapsed": false
   },
   "outputs": [],
   "source": [
    "df2 = pd.merge(df1, df_imdb,how='left', on=['keys'])\n",
    "df2.columns = ['id','genres','tmdb_genre','imdb_genre']"
   ]
  },
  {
   "cell_type": "code",
   "execution_count": 101,
   "metadata": {
    "collapsed": false
   },
   "outputs": [
    {
     "data": {
      "text/html": [
       "<div>\n",
       "<table border=\"1\" class=\"dataframe\">\n",
       "  <thead>\n",
       "    <tr style=\"text-align: right;\">\n",
       "      <th></th>\n",
       "      <th>id</th>\n",
       "      <th>genres</th>\n",
       "      <th>tmdb_genre</th>\n",
       "      <th>imdb_genre</th>\n",
       "    </tr>\n",
       "  </thead>\n",
       "  <tbody>\n",
       "    <tr>\n",
       "      <th>0</th>\n",
       "      <td>28</td>\n",
       "      <td>Action</td>\n",
       "      <td>Action</td>\n",
       "      <td>Action</td>\n",
       "    </tr>\n",
       "    <tr>\n",
       "      <th>1</th>\n",
       "      <td>1</td>\n",
       "      <td>Adult</td>\n",
       "      <td>NaN</td>\n",
       "      <td>Adult</td>\n",
       "    </tr>\n",
       "    <tr>\n",
       "      <th>2</th>\n",
       "      <td>12</td>\n",
       "      <td>Adventure</td>\n",
       "      <td>Adventure</td>\n",
       "      <td>Adventure</td>\n",
       "    </tr>\n",
       "    <tr>\n",
       "      <th>3</th>\n",
       "      <td>16</td>\n",
       "      <td>Animation</td>\n",
       "      <td>Animation</td>\n",
       "      <td>Animation</td>\n",
       "    </tr>\n",
       "    <tr>\n",
       "      <th>4</th>\n",
       "      <td>2</td>\n",
       "      <td>Biography</td>\n",
       "      <td>NaN</td>\n",
       "      <td>Biography</td>\n",
       "    </tr>\n",
       "    <tr>\n",
       "      <th>5</th>\n",
       "      <td>35</td>\n",
       "      <td>Comedy</td>\n",
       "      <td>Comedy</td>\n",
       "      <td>Comedy</td>\n",
       "    </tr>\n",
       "    <tr>\n",
       "      <th>6</th>\n",
       "      <td>80</td>\n",
       "      <td>Crime</td>\n",
       "      <td>Crime</td>\n",
       "      <td>Crime</td>\n",
       "    </tr>\n",
       "    <tr>\n",
       "      <th>7</th>\n",
       "      <td>99</td>\n",
       "      <td>Documentary</td>\n",
       "      <td>Documentary</td>\n",
       "      <td>Documentary</td>\n",
       "    </tr>\n",
       "    <tr>\n",
       "      <th>8</th>\n",
       "      <td>18</td>\n",
       "      <td>Drama</td>\n",
       "      <td>Drama</td>\n",
       "      <td>Drama</td>\n",
       "    </tr>\n",
       "    <tr>\n",
       "      <th>9</th>\n",
       "      <td>10751</td>\n",
       "      <td>Family</td>\n",
       "      <td>Family</td>\n",
       "      <td>Family</td>\n",
       "    </tr>\n",
       "    <tr>\n",
       "      <th>10</th>\n",
       "      <td>14</td>\n",
       "      <td>Fantasy</td>\n",
       "      <td>Fantasy</td>\n",
       "      <td>Fantasy</td>\n",
       "    </tr>\n",
       "    <tr>\n",
       "      <th>11</th>\n",
       "      <td>3</td>\n",
       "      <td>Film Noir</td>\n",
       "      <td>NaN</td>\n",
       "      <td>Film Noir</td>\n",
       "    </tr>\n",
       "    <tr>\n",
       "      <th>12</th>\n",
       "      <td>4</td>\n",
       "      <td>Game-Show</td>\n",
       "      <td>NaN</td>\n",
       "      <td>Game-Show</td>\n",
       "    </tr>\n",
       "    <tr>\n",
       "      <th>13</th>\n",
       "      <td>36</td>\n",
       "      <td>History</td>\n",
       "      <td>History</td>\n",
       "      <td>History</td>\n",
       "    </tr>\n",
       "    <tr>\n",
       "      <th>14</th>\n",
       "      <td>27</td>\n",
       "      <td>Horror</td>\n",
       "      <td>Horror</td>\n",
       "      <td>Horror</td>\n",
       "    </tr>\n",
       "    <tr>\n",
       "      <th>15</th>\n",
       "      <td>10402</td>\n",
       "      <td>Music</td>\n",
       "      <td>Music</td>\n",
       "      <td>Music</td>\n",
       "    </tr>\n",
       "    <tr>\n",
       "      <th>16</th>\n",
       "      <td>5</td>\n",
       "      <td>Musical</td>\n",
       "      <td>NaN</td>\n",
       "      <td>Musical</td>\n",
       "    </tr>\n",
       "    <tr>\n",
       "      <th>17</th>\n",
       "      <td>9648</td>\n",
       "      <td>Mystery</td>\n",
       "      <td>Mystery</td>\n",
       "      <td>Mystery</td>\n",
       "    </tr>\n",
       "    <tr>\n",
       "      <th>18</th>\n",
       "      <td>6</td>\n",
       "      <td>News</td>\n",
       "      <td>NaN</td>\n",
       "      <td>News</td>\n",
       "    </tr>\n",
       "    <tr>\n",
       "      <th>19</th>\n",
       "      <td>7</td>\n",
       "      <td>Reality-TV</td>\n",
       "      <td>NaN</td>\n",
       "      <td>Reality-TV</td>\n",
       "    </tr>\n",
       "    <tr>\n",
       "      <th>20</th>\n",
       "      <td>10749</td>\n",
       "      <td>Romance</td>\n",
       "      <td>Romance</td>\n",
       "      <td>Romance</td>\n",
       "    </tr>\n",
       "    <tr>\n",
       "      <th>21</th>\n",
       "      <td>878</td>\n",
       "      <td>Sci-Fi</td>\n",
       "      <td>Science Fiction</td>\n",
       "      <td>Sci-Fi</td>\n",
       "    </tr>\n",
       "    <tr>\n",
       "      <th>22</th>\n",
       "      <td>8</td>\n",
       "      <td>Short</td>\n",
       "      <td>NaN</td>\n",
       "      <td>Short</td>\n",
       "    </tr>\n",
       "    <tr>\n",
       "      <th>23</th>\n",
       "      <td>9</td>\n",
       "      <td>Sport</td>\n",
       "      <td>NaN</td>\n",
       "      <td>Sport</td>\n",
       "    </tr>\n",
       "    <tr>\n",
       "      <th>24</th>\n",
       "      <td>10770</td>\n",
       "      <td>TV Movie</td>\n",
       "      <td>TV Movie</td>\n",
       "      <td>TV Movie</td>\n",
       "    </tr>\n",
       "    <tr>\n",
       "      <th>25</th>\n",
       "      <td>10</td>\n",
       "      <td>Talk-Show</td>\n",
       "      <td>NaN</td>\n",
       "      <td>Talk-Show</td>\n",
       "    </tr>\n",
       "    <tr>\n",
       "      <th>26</th>\n",
       "      <td>53</td>\n",
       "      <td>Thriller</td>\n",
       "      <td>Thriller</td>\n",
       "      <td>Thriller</td>\n",
       "    </tr>\n",
       "    <tr>\n",
       "      <th>27</th>\n",
       "      <td>10752</td>\n",
       "      <td>War</td>\n",
       "      <td>War</td>\n",
       "      <td>War</td>\n",
       "    </tr>\n",
       "    <tr>\n",
       "      <th>28</th>\n",
       "      <td>37</td>\n",
       "      <td>Western</td>\n",
       "      <td>Western</td>\n",
       "      <td>Western</td>\n",
       "    </tr>\n",
       "  </tbody>\n",
       "</table>\n",
       "</div>"
      ],
      "text/plain": [
       "       id       genres       tmdb_genre   imdb_genre\n",
       "0      28       Action           Action       Action\n",
       "1       1        Adult              NaN        Adult\n",
       "2      12    Adventure        Adventure    Adventure\n",
       "3      16    Animation        Animation    Animation\n",
       "4       2    Biography              NaN    Biography\n",
       "5      35       Comedy           Comedy       Comedy\n",
       "6      80        Crime            Crime        Crime\n",
       "7      99  Documentary      Documentary  Documentary\n",
       "8      18        Drama            Drama        Drama\n",
       "9   10751       Family           Family       Family\n",
       "10     14      Fantasy          Fantasy      Fantasy\n",
       "11      3    Film Noir              NaN    Film Noir\n",
       "12      4    Game-Show              NaN    Game-Show\n",
       "13     36      History          History      History\n",
       "14     27       Horror           Horror       Horror\n",
       "15  10402        Music            Music        Music\n",
       "16      5      Musical              NaN      Musical\n",
       "17   9648      Mystery          Mystery      Mystery\n",
       "18      6         News              NaN         News\n",
       "19      7   Reality-TV              NaN   Reality-TV\n",
       "20  10749      Romance          Romance      Romance\n",
       "21    878       Sci-Fi  Science Fiction       Sci-Fi\n",
       "22      8        Short              NaN        Short\n",
       "23      9        Sport              NaN        Sport\n",
       "24  10770     TV Movie         TV Movie     TV Movie\n",
       "25     10    Talk-Show              NaN    Talk-Show\n",
       "26     53     Thriller         Thriller     Thriller\n",
       "27  10752          War              War          War\n",
       "28     37      Western          Western      Western"
      ]
     },
     "execution_count": 101,
     "metadata": {},
     "output_type": "execute_result"
    }
   ],
   "source": [
    "df2"
   ]
  },
  {
   "cell_type": "markdown",
   "metadata": {},
   "source": [
    "**Summary:**\n",
    "\n",
    "1. IMDB covers all TMDB genres.\n",
    "2. The only genre that has different names in IMDB and TMDB is \"Science Fiction\"\n",
    "3. Combining all genres from IMDB, TMDB, we have total 28 genres\n",
    "4. For TMDB, since genres are stored in {\"id\":\"genre\"} pairs, we can use \"genre_dic\" to convert it to same genres as IMDB (i.e, 'Science Fiction' from TMDB will be 'Sci-Fi' after conversion).\n",
    "5. For IMDB, we can just use its genres, since it will have same genres in our defined genres.\n",
    "\n"
   ]
  },
  {
   "cell_type": "markdown",
   "metadata": {
    "collapsed": true
   },
   "source": [
    "# Steps to obtain genre list\n",
    "\n",
    "1. filter data set to only use movies that have data in TMDB and IMDB, IMDB and TMDB genres must not be null\n",
    "2. Use the genre list from IMDB.\n",
    "3. Out of 28 genres, we should merge the genre with really small number(ex. less than 5% of movies) to another genre. The final result is unique genre list.\n",
    "4. convert each genre from unique genre list to a seperate data field, and we will use 1/0 to indicate if a movie has this genre"
   ]
  },
  {
   "cell_type": "markdown",
   "metadata": {
    "collapsed": true
   },
   "source": [
    "## Future Work:\n"
   ]
  },
  {
   "cell_type": "markdown",
   "metadata": {},
   "source": [
    "1. Up to now, we maintain the genres from IMDB and TMDB. Some genres has very limited number of movies, so we are planning to merge minor genres to other major genres. One possible solution for merging genres is clustering genres, and we will do this part in milestone2. "
   ]
  }
 ],
 "metadata": {
  "kernelspec": {
   "display_name": "Python 2",
   "language": "python",
   "name": "python2"
  },
  "language_info": {
   "codemirror_mode": {
    "name": "ipython",
    "version": 2
   },
   "file_extension": ".py",
   "mimetype": "text/x-python",
   "name": "python",
   "nbconvert_exporter": "python",
   "pygments_lexer": "ipython2",
   "version": "2.7.11"
  }
 },
 "nbformat": 4,
 "nbformat_minor": 0
}
