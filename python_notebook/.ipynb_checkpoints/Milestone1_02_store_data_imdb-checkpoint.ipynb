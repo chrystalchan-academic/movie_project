{
 "cells": [
  {
   "cell_type": "markdown",
   "metadata": {},
   "source": [
    "# Store data\n",
    "\n",
    "As calling API everytime may takes a while and we may hit the limit of API, we will store the data from API for now. "
   ]
  },
  {
   "cell_type": "code",
   "execution_count": 9,
   "metadata": {
    "collapsed": true
   },
   "outputs": [],
   "source": [
    "import tmdbsimple as tmdb\n",
    "tmdb.API_KEY = \"71e259894a515060876bab2a33d6bdc9\""
   ]
  },
  {
   "cell_type": "code",
   "execution_count": 10,
   "metadata": {
    "collapsed": true
   },
   "outputs": [],
   "source": [
    "from imdb import IMDb\n",
    "import pandas as pd\n",
    "from PIL import Image\n",
    "from StringIO import StringIO\n",
    "import requests\n",
    "import os\n",
    "import time\n",
    "from shutil import copyfile"
   ]
  },
  {
   "cell_type": "code",
   "execution_count": 11,
   "metadata": {
    "collapsed": false
   },
   "outputs": [],
   "source": [
    "dir_python_notebook = os.getcwd()\n",
    "dir_movie_project = os.path.abspath(os.path.join(dir_python_notebook, os.pardir))\n",
    "dir_data = os.path.join(dir_movie_project, 'data')"
   ]
  },
  {
   "cell_type": "code",
   "execution_count": null,
   "metadata": {
    "collapsed": true
   },
   "outputs": [],
   "source": [
    "tmdb_filename = str(dir_data)+'\\\\drv_tmdb_movie_details.json'\n",
    "tmdb_movies = pd.read_json(tmdb_filename)\n",
    "tmdb_movies"
   ]
  },
  {
   "cell_type": "markdown",
   "metadata": {},
   "source": [
    "# IMDB"
   ]
  },
  {
   "cell_type": "code",
   "execution_count": 22,
   "metadata": {
    "collapsed": false
   },
   "outputs": [],
   "source": [
    "imdb = IMDb()\n",
    "#get a movie by id\n",
    "imdb_movie = imdb.get_movie('0325980')\n",
    "#access attributes of the movie by dictionary keys\n",
    "imdb.update(imdb_movie)\n",
    "#available keys\n",
    "imdb_info_column  =imdb_movie.keys()\n",
    "imdb_info_column  = [str(c) for c in imdb_info_column]\n",
    "imdb_info_column.sort()"
   ]
  },
  {
   "cell_type": "code",
   "execution_count": null,
   "metadata": {
    "collapsed": true
   },
   "outputs": [],
   "source": [
    "# IMDB API shows that we can retrieve information from proprty of movies object\n",
    "imdb_info_column = imdb_movie.keys_alias.keys() \n",
    "imdb_info_column.sort()\n",
    "print(len(imdb_info_column))\n",
    "print(imdb_info_column)"
   ]
  },
  {
   "cell_type": "code",
   "execution_count": null,
   "metadata": {
    "collapsed": true
   },
   "outputs": [],
   "source": [
    "# IMDB API shows that we can retrieve information from proprty of movies object\n",
    "imdb_info_column = imdb_movie.keys_alias.keys() \n",
    "imdb_info_column.sort()\n",
    "print(len(imdb_info_column))\n",
    "print(imdb_info_column)"
   ]
  },
  {
   "cell_type": "code",
   "execution_count": null,
   "metadata": {
    "collapsed": true
   },
   "outputs": [],
   "source": [
    "# get IMDB movies that we already have data for TMDB\n",
    "imdb_ids = tmdb_movies['imdb_id']\n",
    "imdb_ids = [ str(imdb_id.replace('tt','')) for imdb_id in imdb_ids]\n",
    "imdb_ids[0]"
   ]
  },
  {
   "cell_type": "code",
   "execution_count": null,
   "metadata": {
    "collapsed": true
   },
   "outputs": [],
   "source": [
    "imdb_info_column = imdb_movie.keys_alias.keys() \n",
    "if 'imdb_id' not in imdb_info_column:\n",
    "    imdb_info_column.append('imdb_id')\n",
    "imdb_info_column.sort()\n",
    "movies = pd.DataFrame(columns=imdb_info_column)\n",
    "imdb_filename = str(dir_data)+'\\\\drv_imdb_movie_details.json'\n",
    "imdb_filename_backup = str(dir_data)+'\\\\drv_imdb_movie_details_bkp.json'\n",
    "\n",
    "count = 0\n",
    "# if we already have a movie data file, we can just continue appending it instead of starting from id 1 again.\n",
    "imdb_id_set = set(imdb_ids)\n",
    "if os.path.isfile(imdb_filename):\n",
    "    movies = pd.read_json(imdb_filename)\n",
    "    if len(movies['imdb_id']) >0:\n",
    "        imdb_id_set = imdb_id_set.difference(set(movies['imdb_id']))\n",
    "        imdb_ids = list(imdb_id_set)\n",
    "        imdb_info_column = movies.columns\n",
    "    else:\n",
    "        movies = pd.DataFrame(columns=imdb_info_column)\n",
    "\n",
    "for i in imdb_ids[0:]:\n",
    "    count += 1\n",
    "\n",
    "    #if (count % 40 == 0):\n",
    "    #    time.sleep(10) # make sure we do not hit API limit\n",
    "    if (count % 1000 == 0):\n",
    "        movies.to_json(path_or_buf= imdb_filename)\n",
    "    #skip the non-existing movie ids\n",
    "    #print(i)\n",
    "    try:\n",
    "        imdb_movie = imdb.get_movie(i)\n",
    "        imdb.update(imdb_movie)\n",
    "        \n",
    "        movie_details = []\n",
    "        for c in imdb_info_column:\n",
    "            if imdb_movie.has_key(c) :\n",
    "                if type(imdb_movie[c]) is list:                    \n",
    "                    if isinstance(imdb_movie[c][0], ib.Person.Person):\n",
    "                        info_list = []\n",
    "                        for item in imdb_movie[c]:\n",
    "                            info = {}\n",
    "                            info[\"personID\"] = item.getID()\n",
    "                            info[\"name\"] = item.get(\"name\")\n",
    "                            info_list.append(info)\n",
    "                        movie_details.append(info_list)\n",
    "                    elif isinstance(imdb_movie[c][0], ib.Company.Company):\n",
    "                        info_list = []\n",
    "                        for item in imdb_movie[c]:\n",
    "                            info = {}\n",
    "                            info[\"companyID\"] = item.getID()\n",
    "                            info[\"name\"] = item.get(\"name\")\n",
    "                            info_list.append(info)\n",
    "                        movie_details.append(info_list)  \n",
    "                    else:\n",
    "                        movie_details.append(imdb_movie[c])\n",
    "                else:\n",
    "                    movie_details.append(imdb_movie[c])\n",
    "            else:\n",
    "                if c == \"imdb_id\":\n",
    "                    movie_details.append(i)\n",
    "                else:\n",
    "                    movie_details.append(None)\n",
    "                \n",
    "        movies.loc[len(movies.index)] = movie_details\n",
    "        \n",
    "    except Exception:\n",
    "        print(i)\n",
    "        continue\n",
    "        \n",
    "movies.to_json(path_or_buf= imdb_filename)\n"
   ]
  },
  {
   "cell_type": "code",
   "execution_count": null,
   "metadata": {
    "collapsed": true
   },
   "outputs": [],
   "source": [
    "#make a backup in case of corruption\n",
    "copyfile(imdb_filename, imdb_filename_backup) "
   ]
  },
  {
   "cell_type": "code",
   "execution_count": null,
   "metadata": {
    "collapsed": true
   },
   "outputs": [],
   "source": [
    "imdb_movies = pd.read_json(imdb_filename)\n",
    "imdb_movies"
   ]
  }
 ],
 "metadata": {
  "kernelspec": {
   "display_name": "Python 2",
   "language": "python",
   "name": "python2"
  },
  "language_info": {
   "codemirror_mode": {
    "name": "ipython",
    "version": 2
   },
   "file_extension": ".py",
   "mimetype": "text/x-python",
   "name": "python",
   "nbconvert_exporter": "python",
   "pygments_lexer": "ipython2",
   "version": "2.7.13"
  }
 },
 "nbformat": 4,
 "nbformat_minor": 2
}
