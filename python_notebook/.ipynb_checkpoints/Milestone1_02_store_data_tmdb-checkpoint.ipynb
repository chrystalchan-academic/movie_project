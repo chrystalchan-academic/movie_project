{
 "cells": [
  {
   "cell_type": "markdown",
   "metadata": {},
   "source": [
    "# Store data\n",
    "\n",
    "As calling API everytime may takes a while and we may hit the limit of API, we will store the data from API for now. "
   ]
  },
  {
   "cell_type": "code",
   "execution_count": 9,
   "metadata": {
    "collapsed": true
   },
   "outputs": [],
   "source": [
    "import tmdbsimple as tmdb\n",
    "tmdb.API_KEY = \"71e259894a515060876bab2a33d6bdc9\""
   ]
  },
  {
   "cell_type": "code",
   "execution_count": 10,
   "metadata": {
    "collapsed": true
   },
   "outputs": [],
   "source": [
    "from imdb import IMDb\n",
    "import pandas as pd\n",
    "from PIL import Image\n",
    "from StringIO import StringIO\n",
    "import requests\n",
    "import os\n",
    "import time\n",
    "from shutil import copyfile"
   ]
  },
  {
   "cell_type": "code",
   "execution_count": 11,
   "metadata": {
    "collapsed": false
   },
   "outputs": [],
   "source": [
    "dir_python_notebook = os.getcwd()\n",
    "dir_movie_project = os.path.abspath(os.path.join(dir_python_notebook, os.pardir))\n",
    "dir_data = os.path.join(dir_movie_project, 'data')"
   ]
  },
  {
   "cell_type": "markdown",
   "metadata": {},
   "source": [
    "# TMDB"
   ]
  },
  {
   "cell_type": "code",
   "execution_count": 22,
   "metadata": {
    "collapsed": false
   },
   "outputs": [],
   "source": [
    "# get column names to retrieve information\n",
    "tmdb_movie_id = tmdb.Movies(2)\n",
    "movie_info = tmdb_movie_id.info()\n",
    "tmdb_info_column  = tmdb_movie_id.info().keys()\n",
    "tmdb_info_column  = [str(c) for c in tmdb_info_column]\n",
    "tmdb_info_column.sort()"
   ]
  },
  {
   "cell_type": "code",
   "execution_count": 23,
   "metadata": {
    "collapsed": false
   },
   "outputs": [
    {
     "data": {
      "text/plain": [
       "['adult',\n",
       " 'backdrop_path',\n",
       " 'belongs_to_collection',\n",
       " 'budget',\n",
       " 'genres',\n",
       " 'homepage',\n",
       " 'id',\n",
       " 'imdb_id',\n",
       " 'original_language',\n",
       " 'original_title',\n",
       " 'overview',\n",
       " 'popularity',\n",
       " 'poster_path',\n",
       " 'production_companies',\n",
       " 'production_countries',\n",
       " 'release_date',\n",
       " 'revenue',\n",
       " 'runtime',\n",
       " 'spoken_languages',\n",
       " 'status',\n",
       " 'tagline',\n",
       " 'title',\n",
       " 'video',\n",
       " 'vote_average',\n",
       " 'vote_count']"
      ]
     },
     "execution_count": 23,
     "metadata": {},
     "output_type": "execute_result"
    }
   ],
   "source": [
    "tmdb_info_column"
   ]
  },
  {
   "cell_type": "code",
   "execution_count": 25,
   "metadata": {
    "collapsed": false
   },
   "outputs": [
    {
     "data": {
      "text/plain": [
       "<bound method Movies.info of <tmdbsimple.movies.Movies object at 0x08037190>>"
      ]
     },
     "execution_count": 25,
     "metadata": {},
     "output_type": "execute_result"
    }
   ],
   "source": [
    "tmdb_movie_id.info"
   ]
  },
  {
   "cell_type": "code",
   "execution_count": 31,
   "metadata": {
    "collapsed": false
   },
   "outputs": [
    {
     "name": "stdout",
     "output_type": "stream",
     "text": [
      "12\n"
     ]
    }
   ],
   "source": [
    "movies = pd.DataFrame(columns=tmdb_info_column)\n",
    "tmdb_filename = str(dir_data)+'\\\\drv_tmdb_movie_details.json'\n",
    "tmdb_filename_backup = str(dir_data)+'\\\\drv_tmdb_movie_details_bkp.json'\n",
    "\n",
    "# if we already have a movie data file, we can just continue appending it instead of starting from id 1 again.\n",
    "i_start = 1\n",
    "\n",
    "if os.path.isfile(tmdb_filename):\n",
    "    movies = pd.read_json(tmdb_filename)\n",
    "    if len(movies['id']) >0:\n",
    "        i_start = max(movies['id'])\n",
    "        tmdb_info_column = movies.columns\n",
    "    else:\n",
    "        movies = pd.DataFrame(columns=tmdb_info_column)\n",
    "        \n",
    "print i_start\n",
    "i_end = i_start+10000\n",
    "\n",
    "for i in range(i_start,i_end):\n",
    "    #skip the non-existing movie ids\n",
    "    if (i % 40 == 0):\n",
    "        # make sure we do not hit API limit\n",
    "        time.sleep(12) \n",
    "    if (i % 100 == 0):\n",
    "        movies.to_json(path_or_buf= tmdb_filename)\n",
    "    try:\n",
    "        tmdb_movies = tmdb.Movies(i)\n",
    "        info = tmdb_movies.info()\n",
    "        \n",
    "        movie_details = []\n",
    "        for c in tmdb_info_column:\n",
    "            if c in ['genres','spoken_languages','production_countries','production_companies']:\n",
    "                movie_details.append([d['name'] for d in info[c]])\n",
    "            elif c in ['belongs_to_collection']:\n",
    "                movie_details.append(info[c]['name'])\n",
    "            else:\n",
    "                movie_details.append(info[c])   \n",
    "        movies.loc[i] = movie_details\n",
    "    except Exception:\n",
    "        continue\n",
    "        \n",
    "movies.to_json(path_or_buf= tmdb_filename)"
   ]
  },
  {
   "cell_type": "code",
   "execution_count": null,
   "metadata": {
    "collapsed": true
   },
   "outputs": [],
   "source": [
    "#make a backup in case of corruption\n",
    "copyfile(tmdb_filename, tmdb_filename_backup)"
   ]
  },
  {
   "cell_type": "code",
   "execution_count": 13,
   "metadata": {
    "collapsed": false
   },
   "outputs": [
    {
     "name": "stdout",
     "output_type": "stream",
     "text": [
      "poster_path\n",
      "/gZCJZOn4l0Zj5hAxsMbxoS6CL0u.jpg\n",
      "production_countries\n",
      "[u'Finland']\n",
      "revenue\n",
      "0.0\n",
      "overview\n",
      "Taisto Kasurinen is a Finnish coal miner whose father has just committed suicide and who is framed for a crime he did not commit. In jail, he starts to dream about leaving the country and starting a new life. He escapes from prison but things don't go as planned...\n",
      "video\n",
      "False\n",
      "id\n",
      "2.0\n",
      "genres\n",
      "[u'Drama', u'Crime']\n",
      "title\n",
      "Ariel\n",
      "tagline\n",
      "\n",
      "vote_count\n",
      "33.0\n",
      "homepage\n",
      "\n",
      "belongs_to_collection\n",
      "Proletariat Collection\n",
      "original_language\n",
      "fi\n",
      "status\n",
      "Released\n",
      "spoken_languages\n",
      "[u'suomi', u'Deutsch']\n",
      "imdb_id\n",
      "tt0094675\n",
      "adult\n",
      "False\n",
      "backdrop_path\n",
      "/z2QUexmccqrvw1kDMw3R8TxAh5E.jpg\n",
      "production_companies\n",
      "[u'Villealfa Filmproduction Oy', u'Finnish Film Foundation']\n",
      "release_date\n",
      "1988-10-21\n",
      "popularity\n",
      "0.883279\n",
      "original_title\n",
      "Ariel\n",
      "budget\n",
      "0.0\n",
      "vote_average\n",
      "6.8\n",
      "runtime\n",
      "69.0\n"
     ]
    }
   ],
   "source": [
    "# check content\n",
    "for y in movies.columns:\n",
    "    print y\n",
    "    print movies[y].loc[2]"
   ]
  },
  {
   "cell_type": "code",
   "execution_count": 29,
   "metadata": {
    "collapsed": false
   },
   "outputs": [
    {
     "data": {
      "text/html": [
       "<div>\n",
       "<table border=\"1\" class=\"dataframe\">\n",
       "  <thead>\n",
       "    <tr style=\"text-align: right;\">\n",
       "      <th></th>\n",
       "      <th>adult</th>\n",
       "      <th>backdrop_path</th>\n",
       "      <th>belongs_to_collection</th>\n",
       "      <th>budget</th>\n",
       "      <th>genres</th>\n",
       "      <th>homepage</th>\n",
       "      <th>id</th>\n",
       "      <th>imdb_id</th>\n",
       "      <th>original_language</th>\n",
       "      <th>original_title</th>\n",
       "      <th>...</th>\n",
       "      <th>release_date</th>\n",
       "      <th>revenue</th>\n",
       "      <th>runtime</th>\n",
       "      <th>spoken_languages</th>\n",
       "      <th>status</th>\n",
       "      <th>tagline</th>\n",
       "      <th>title</th>\n",
       "      <th>video</th>\n",
       "      <th>vote_average</th>\n",
       "      <th>vote_count</th>\n",
       "    </tr>\n",
       "  </thead>\n",
       "  <tbody>\n",
       "    <tr>\n",
       "      <th>11</th>\n",
       "      <td>False</td>\n",
       "      <td>/4iJfYYoQzZcONB9hNzg0J0wWyPH.jpg</td>\n",
       "      <td>Star Wars Collection</td>\n",
       "      <td>11000000</td>\n",
       "      <td>[Adventure, Action, Science Fiction]</td>\n",
       "      <td>http://www.starwars.com/films/star-wars-episod...</td>\n",
       "      <td>11</td>\n",
       "      <td>tt0076759</td>\n",
       "      <td>en</td>\n",
       "      <td>Star Wars</td>\n",
       "      <td>...</td>\n",
       "      <td>1977-05-25</td>\n",
       "      <td>775398007</td>\n",
       "      <td>121</td>\n",
       "      <td>[English]</td>\n",
       "      <td>Released</td>\n",
       "      <td>A long time ago in a galaxy far, far away...</td>\n",
       "      <td>Star Wars</td>\n",
       "      <td>False</td>\n",
       "      <td>8.0</td>\n",
       "      <td>5269</td>\n",
       "    </tr>\n",
       "    <tr>\n",
       "      <th>12</th>\n",
       "      <td>False</td>\n",
       "      <td>/n2vIGWw4ezslXjlP0VNxkp9wqwU.jpg</td>\n",
       "      <td>Finding Nemo Collection</td>\n",
       "      <td>94000000</td>\n",
       "      <td>[Animation, Family]</td>\n",
       "      <td>http://movies.disney.com/finding-nemo</td>\n",
       "      <td>12</td>\n",
       "      <td>tt0266543</td>\n",
       "      <td>en</td>\n",
       "      <td>Finding Nemo</td>\n",
       "      <td>...</td>\n",
       "      <td>2003-05-30</td>\n",
       "      <td>864625978</td>\n",
       "      <td>100</td>\n",
       "      <td>[English]</td>\n",
       "      <td>Released</td>\n",
       "      <td>There are 3.7 trillion fish in the ocean, they...</td>\n",
       "      <td>Finding Nemo</td>\n",
       "      <td>False</td>\n",
       "      <td>7.5</td>\n",
       "      <td>4361</td>\n",
       "    </tr>\n",
       "    <tr>\n",
       "      <th>2</th>\n",
       "      <td>False</td>\n",
       "      <td>/z2QUexmccqrvw1kDMw3R8TxAh5E.jpg</td>\n",
       "      <td>Proletariat Collection</td>\n",
       "      <td>0</td>\n",
       "      <td>[Drama, Crime]</td>\n",
       "      <td></td>\n",
       "      <td>2</td>\n",
       "      <td>tt0094675</td>\n",
       "      <td>fi</td>\n",
       "      <td>Ariel</td>\n",
       "      <td>...</td>\n",
       "      <td>1988-10-21</td>\n",
       "      <td>0</td>\n",
       "      <td>69</td>\n",
       "      <td>[suomi, Deutsch]</td>\n",
       "      <td>Released</td>\n",
       "      <td></td>\n",
       "      <td>Ariel</td>\n",
       "      <td>False</td>\n",
       "      <td>6.8</td>\n",
       "      <td>33</td>\n",
       "    </tr>\n",
       "    <tr>\n",
       "      <th>3</th>\n",
       "      <td>False</td>\n",
       "      <td>/6YjUX87VtIEuDzanBE6obVxE9V3.jpg</td>\n",
       "      <td>Proletariat Collection</td>\n",
       "      <td>0</td>\n",
       "      <td>[Drama, Comedy]</td>\n",
       "      <td></td>\n",
       "      <td>3</td>\n",
       "      <td>tt0092149</td>\n",
       "      <td>fi</td>\n",
       "      <td>Varjoja paratiisissa</td>\n",
       "      <td>...</td>\n",
       "      <td>1986-10-16</td>\n",
       "      <td>0</td>\n",
       "      <td>76</td>\n",
       "      <td>[English, suomi, svenska]</td>\n",
       "      <td>Released</td>\n",
       "      <td></td>\n",
       "      <td>Shadows in Paradise</td>\n",
       "      <td>False</td>\n",
       "      <td>6.8</td>\n",
       "      <td>25</td>\n",
       "    </tr>\n",
       "  </tbody>\n",
       "</table>\n",
       "<p>4 rows × 25 columns</p>\n",
       "</div>"
      ],
      "text/plain": [
       "    adult                     backdrop_path    belongs_to_collection  \\\n",
       "11  False  /4iJfYYoQzZcONB9hNzg0J0wWyPH.jpg     Star Wars Collection   \n",
       "12  False  /n2vIGWw4ezslXjlP0VNxkp9wqwU.jpg  Finding Nemo Collection   \n",
       "2   False  /z2QUexmccqrvw1kDMw3R8TxAh5E.jpg   Proletariat Collection   \n",
       "3   False  /6YjUX87VtIEuDzanBE6obVxE9V3.jpg   Proletariat Collection   \n",
       "\n",
       "      budget                                genres  \\\n",
       "11  11000000  [Adventure, Action, Science Fiction]   \n",
       "12  94000000                   [Animation, Family]   \n",
       "2          0                        [Drama, Crime]   \n",
       "3          0                       [Drama, Comedy]   \n",
       "\n",
       "                                             homepage  id    imdb_id  \\\n",
       "11  http://www.starwars.com/films/star-wars-episod...  11  tt0076759   \n",
       "12              http://movies.disney.com/finding-nemo  12  tt0266543   \n",
       "2                                                       2  tt0094675   \n",
       "3                                                       3  tt0092149   \n",
       "\n",
       "   original_language        original_title    ...     release_date    revenue  \\\n",
       "11                en             Star Wars    ...       1977-05-25  775398007   \n",
       "12                en          Finding Nemo    ...       2003-05-30  864625978   \n",
       "2                 fi                 Ariel    ...       1988-10-21          0   \n",
       "3                 fi  Varjoja paratiisissa    ...       1986-10-16          0   \n",
       "\n",
       "   runtime           spoken_languages    status  \\\n",
       "11     121                  [English]  Released   \n",
       "12     100                  [English]  Released   \n",
       "2       69           [suomi, Deutsch]  Released   \n",
       "3       76  [English, suomi, svenska]  Released   \n",
       "\n",
       "                                              tagline                title  \\\n",
       "11       A long time ago in a galaxy far, far away...            Star Wars   \n",
       "12  There are 3.7 trillion fish in the ocean, they...         Finding Nemo   \n",
       "2                                                                    Ariel   \n",
       "3                                                      Shadows in Paradise   \n",
       "\n",
       "    video vote_average vote_count  \n",
       "11  False          8.0       5269  \n",
       "12  False          7.5       4361  \n",
       "2   False          6.8         33  \n",
       "3   False          6.8         25  \n",
       "\n",
       "[4 rows x 25 columns]"
      ]
     },
     "execution_count": 29,
     "metadata": {},
     "output_type": "execute_result"
    }
   ],
   "source": [
    "tmdb_filename = str(dir_data)+'\\\\drv_tmdb_movie_details.json'\n",
    "pd.read_json(tmdb_filename)"
   ]
  },
  {
   "cell_type": "code",
   "execution_count": 30,
   "metadata": {
    "collapsed": false
   },
   "outputs": [
    {
     "data": {
      "text/plain": [
       "Index([u'adult', u'backdrop_path', u'belongs_to_collection', u'budget',\n",
       "       u'genres', u'homepage', u'id', u'imdb_id', u'original_language',\n",
       "       u'original_title', u'overview', u'popularity', u'poster_path',\n",
       "       u'production_companies', u'production_countries', u'release_date',\n",
       "       u'revenue', u'runtime', u'spoken_languages', u'status', u'tagline',\n",
       "       u'title', u'video', u'vote_average', u'vote_count'],\n",
       "      dtype='object')"
      ]
     },
     "execution_count": 30,
     "metadata": {},
     "output_type": "execute_result"
    }
   ],
   "source": [
    "movies.columns"
   ]
  }
 ],
 "metadata": {
  "kernelspec": {
   "display_name": "Python 2",
   "language": "python",
   "name": "python2"
  },
  "language_info": {
   "codemirror_mode": {
    "name": "ipython",
    "version": 2
   },
   "file_extension": ".py",
   "mimetype": "text/x-python",
   "name": "python",
   "nbconvert_exporter": "python",
   "pygments_lexer": "ipython2",
   "version": "2.7.13"
  }
 },
 "nbformat": 4,
 "nbformat_minor": 2
}
