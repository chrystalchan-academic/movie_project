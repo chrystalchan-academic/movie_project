{
 "cells": [
  {
   "cell_type": "markdown",
   "metadata": {},
   "source": [
    "The notebook is used to create response variable."
   ]
  },
  {
   "cell_type": "code",
   "execution_count": 5,
   "metadata": {
    "collapsed": true
   },
   "outputs": [],
   "source": [
    "import tmdbsimple as tmdb\n",
    "tmdb.API_KEY = \"71e259894a515060876bab2a33d6bdc9\""
   ]
  },
  {
   "cell_type": "code",
   "execution_count": 6,
   "metadata": {
    "collapsed": true
   },
   "outputs": [],
   "source": [
    "import imdb as ib\n",
    "from imdb import IMDb\n",
    "import pandas as pd\n",
    "from PIL import Image\n",
    "from StringIO import StringIO\n",
    "import requests\n",
    "import os\n",
    "import time\n",
    "from shutil import copyfile\n",
    "import types\n",
    "import numpy as np"
   ]
  },
  {
   "cell_type": "code",
   "execution_count": 7,
   "metadata": {
    "collapsed": true
   },
   "outputs": [],
   "source": [
    "dir_python_notebook = os.getcwd()\n",
    "dir_movie_project = os.path.abspath(os.path.join(dir_python_notebook, os.pardir))\n",
    "dir_data = os.path.join(dir_movie_project, 'data')"
   ]
  },
  {
   "cell_type": "markdown",
   "metadata": {},
   "source": [
    "# Load data"
   ]
  },
  {
   "cell_type": "code",
   "execution_count": 27,
   "metadata": {
    "collapsed": false
   },
   "outputs": [],
   "source": [
    "tmdb_filename = str(dir_data)+'\\\\drv_tmdb_movie_details_1_20000.json'\n",
    "imdb_filename = str(dir_data)+'\\\\drv_imdb_movie_info_1_20000.json'\n",
    "tmdb_movies = pd.read_json(tmdb_filename)\n",
    "imdb_movies = pd.read_json(imdb_filename)"
   ]
  },
  {
   "cell_type": "code",
   "execution_count": 9,
   "metadata": {
    "collapsed": true
   },
   "outputs": [],
   "source": [
    "imdb_genres = {12: 'Adventure',\n",
    " 14: 'Fantasy',\n",
    " 16: 'Animation',\n",
    " 18: 'Drama',\n",
    " 27: 'Horror',\n",
    " 28: 'Action',\n",
    " 35: 'Comedy',\n",
    " 36: 'History',\n",
    " 37: 'Western',\n",
    " 53: 'Thriller',\n",
    " 80: 'Crime',\n",
    " 99: 'Documentary',\n",
    " 878: 'Sci-Fi',\n",
    " 9648: 'Mystery',\n",
    " 10402: 'Music',\n",
    " 10749: 'Romance',\n",
    " 10751: 'Family',\n",
    " 10752: 'War',\n",
    " 10770: 'TV Movie',\n",
    " 1: 'Adult',\n",
    " 2: 'Biography',\n",
    " 3: 'Film Noir',\n",
    " 4: 'Game-Show',\n",
    " 5: 'Musical',\n",
    " 6: 'News',\n",
    " 7: 'Reality-TV',\n",
    " 8: 'Short',\n",
    " 9: 'Sport',\n",
    "10: 'Talk-Show'}\n"
   ]
  },
  {
   "cell_type": "code",
   "execution_count": 10,
   "metadata": {
    "collapsed": false
   },
   "outputs": [],
   "source": [
    "items = imdb_genres.items()\n",
    "imdb_genre_df = pd.DataFrame({'keys': [i[0] for i in items], 'values': [i[1] for i in items]})\n",
    "imdb_genre_df.columns = ['id','genres']"
   ]
  },
  {
   "cell_type": "code",
   "execution_count": 11,
   "metadata": {
    "collapsed": false
   },
   "outputs": [
    {
     "data": {
      "text/html": [
       "<div>\n",
       "<table border=\"1\" class=\"dataframe\">\n",
       "  <thead>\n",
       "    <tr style=\"text-align: right;\">\n",
       "      <th></th>\n",
       "      <th>id</th>\n",
       "      <th>genres</th>\n",
       "    </tr>\n",
       "  </thead>\n",
       "  <tbody>\n",
       "    <tr>\n",
       "      <th>0</th>\n",
       "      <td>10752</td>\n",
       "      <td>War</td>\n",
       "    </tr>\n",
       "    <tr>\n",
       "      <th>1</th>\n",
       "      <td>1</td>\n",
       "      <td>Adult</td>\n",
       "    </tr>\n",
       "    <tr>\n",
       "      <th>2</th>\n",
       "      <td>2</td>\n",
       "      <td>Biography</td>\n",
       "    </tr>\n",
       "    <tr>\n",
       "      <th>3</th>\n",
       "      <td>3</td>\n",
       "      <td>Film Noir</td>\n",
       "    </tr>\n",
       "    <tr>\n",
       "      <th>4</th>\n",
       "      <td>4</td>\n",
       "      <td>Game-Show</td>\n",
       "    </tr>\n",
       "    <tr>\n",
       "      <th>5</th>\n",
       "      <td>5</td>\n",
       "      <td>Musical</td>\n",
       "    </tr>\n",
       "    <tr>\n",
       "      <th>6</th>\n",
       "      <td>6</td>\n",
       "      <td>News</td>\n",
       "    </tr>\n",
       "    <tr>\n",
       "      <th>7</th>\n",
       "      <td>7</td>\n",
       "      <td>Reality-TV</td>\n",
       "    </tr>\n",
       "    <tr>\n",
       "      <th>8</th>\n",
       "      <td>8</td>\n",
       "      <td>Short</td>\n",
       "    </tr>\n",
       "    <tr>\n",
       "      <th>9</th>\n",
       "      <td>9</td>\n",
       "      <td>Sport</td>\n",
       "    </tr>\n",
       "    <tr>\n",
       "      <th>10</th>\n",
       "      <td>10</td>\n",
       "      <td>Talk-Show</td>\n",
       "    </tr>\n",
       "    <tr>\n",
       "      <th>11</th>\n",
       "      <td>12</td>\n",
       "      <td>Adventure</td>\n",
       "    </tr>\n",
       "    <tr>\n",
       "      <th>12</th>\n",
       "      <td>14</td>\n",
       "      <td>Fantasy</td>\n",
       "    </tr>\n",
       "    <tr>\n",
       "      <th>13</th>\n",
       "      <td>16</td>\n",
       "      <td>Animation</td>\n",
       "    </tr>\n",
       "    <tr>\n",
       "      <th>14</th>\n",
       "      <td>10770</td>\n",
       "      <td>TV Movie</td>\n",
       "    </tr>\n",
       "    <tr>\n",
       "      <th>15</th>\n",
       "      <td>27</td>\n",
       "      <td>Horror</td>\n",
       "    </tr>\n",
       "    <tr>\n",
       "      <th>16</th>\n",
       "      <td>28</td>\n",
       "      <td>Action</td>\n",
       "    </tr>\n",
       "    <tr>\n",
       "      <th>17</th>\n",
       "      <td>10402</td>\n",
       "      <td>Music</td>\n",
       "    </tr>\n",
       "    <tr>\n",
       "      <th>18</th>\n",
       "      <td>35</td>\n",
       "      <td>Comedy</td>\n",
       "    </tr>\n",
       "    <tr>\n",
       "      <th>19</th>\n",
       "      <td>36</td>\n",
       "      <td>History</td>\n",
       "    </tr>\n",
       "    <tr>\n",
       "      <th>20</th>\n",
       "      <td>37</td>\n",
       "      <td>Western</td>\n",
       "    </tr>\n",
       "    <tr>\n",
       "      <th>21</th>\n",
       "      <td>9648</td>\n",
       "      <td>Mystery</td>\n",
       "    </tr>\n",
       "    <tr>\n",
       "      <th>22</th>\n",
       "      <td>53</td>\n",
       "      <td>Thriller</td>\n",
       "    </tr>\n",
       "    <tr>\n",
       "      <th>23</th>\n",
       "      <td>80</td>\n",
       "      <td>Crime</td>\n",
       "    </tr>\n",
       "    <tr>\n",
       "      <th>24</th>\n",
       "      <td>99</td>\n",
       "      <td>Documentary</td>\n",
       "    </tr>\n",
       "    <tr>\n",
       "      <th>25</th>\n",
       "      <td>18</td>\n",
       "      <td>Drama</td>\n",
       "    </tr>\n",
       "    <tr>\n",
       "      <th>26</th>\n",
       "      <td>878</td>\n",
       "      <td>Sci-Fi</td>\n",
       "    </tr>\n",
       "    <tr>\n",
       "      <th>27</th>\n",
       "      <td>10749</td>\n",
       "      <td>Romance</td>\n",
       "    </tr>\n",
       "    <tr>\n",
       "      <th>28</th>\n",
       "      <td>10751</td>\n",
       "      <td>Family</td>\n",
       "    </tr>\n",
       "  </tbody>\n",
       "</table>\n",
       "</div>"
      ],
      "text/plain": [
       "       id       genres\n",
       "0   10752          War\n",
       "1       1        Adult\n",
       "2       2    Biography\n",
       "3       3    Film Noir\n",
       "4       4    Game-Show\n",
       "5       5      Musical\n",
       "6       6         News\n",
       "7       7   Reality-TV\n",
       "8       8        Short\n",
       "9       9        Sport\n",
       "10     10    Talk-Show\n",
       "11     12    Adventure\n",
       "12     14      Fantasy\n",
       "13     16    Animation\n",
       "14  10770     TV Movie\n",
       "15     27       Horror\n",
       "16     28       Action\n",
       "17  10402        Music\n",
       "18     35       Comedy\n",
       "19     36      History\n",
       "20     37      Western\n",
       "21   9648      Mystery\n",
       "22     53     Thriller\n",
       "23     80        Crime\n",
       "24     99  Documentary\n",
       "25     18        Drama\n",
       "26    878       Sci-Fi\n",
       "27  10749      Romance\n",
       "28  10751       Family"
      ]
     },
     "execution_count": 11,
     "metadata": {},
     "output_type": "execute_result"
    }
   ],
   "source": [
    "imdb_genre_df"
   ]
  },
  {
   "cell_type": "markdown",
   "metadata": {},
   "source": [
    "# Format data"
   ]
  },
  {
   "cell_type": "code",
   "execution_count": 12,
   "metadata": {
    "collapsed": true
   },
   "outputs": [],
   "source": [
    "def get_genre(tmdb_movies ,key):\n",
    "    tmdb_genre = tmdb_movies[tmdb_movies[key].notnull()][key].tolist()\n",
    "    tmdb_genre_set = set()\n",
    "    for g in tmdb_genre:\n",
    "        if g is not None:\n",
    "            tmdb_genre_set = tmdb_genre_set.union(set(g))\n",
    "    tmdb_genre = list(tmdb_genre_set)\n",
    "    tmdb_genre.sort()\n",
    "    return(tmdb_genre)"
   ]
  },
  {
   "cell_type": "code",
   "execution_count": 13,
   "metadata": {
    "collapsed": true
   },
   "outputs": [],
   "source": [
    "def get_genere_num (row, column_name):\n",
    "    if row[column_name] is None :\n",
    "        return 0\n",
    "    else:\n",
    "        return len(row[column_name])"
   ]
  },
  {
   "cell_type": "code",
   "execution_count": 14,
   "metadata": {
    "collapsed": true
   },
   "outputs": [],
   "source": [
    "def is_genre (row, column_name, genre):\n",
    "    \"\"\"check if that movie is in this genre as a movie can have more than 1 genre\"\"\"\n",
    "    if row[column_name] is None :\n",
    "        return 0\n",
    "    else:\n",
    "        if genre in row[column_name] :\n",
    "            return 1\n",
    "        else:\n",
    "            return 0"
   ]
  },
  {
   "cell_type": "code",
   "execution_count": 22,
   "metadata": {
    "collapsed": true
   },
   "outputs": [],
   "source": [
    "def get_all_genre (row, column_name, imdb_genre):\n",
    "    \"\"\"check a vector for all movie genres\"\"\"\n",
    "    s = \"\"\n",
    "    for g in imdb_genre:\n",
    "        if row[column_name] is None :\n",
    "            s = s +\"0\"\n",
    "        else:\n",
    "            if g in row[column_name] :\n",
    "                s = s +\"1\"\n",
    "            else:\n",
    "                s = s +\"0\"\n",
    "    return s"
   ]
  },
  {
   "cell_type": "code",
   "execution_count": 34,
   "metadata": {
    "collapsed": false
   },
   "outputs": [],
   "source": [
    "imdb_genre = imdb_genre_df['genres'].tolist()\n",
    "imdb_genre.sort()\n",
    "imdb_movies[u'genre_num'] = imdb_movies.apply(lambda row: get_genere_num(row,u'genres'), axis=1)\n",
    "\n",
    "for g in imdb_genre: \n",
    "    imdb_movies[g] = imdb_movies.apply(lambda row: is_genre(row,u'genres',g), axis=1)"
   ]
  },
  {
   "cell_type": "code",
   "execution_count": 35,
   "metadata": {
    "collapsed": false
   },
   "outputs": [],
   "source": [
    "imdb_movies['all_genre'] = imdb_movies.apply(lambda row: get_all_genre(row,u'genres',imdb_genre), axis=1)"
   ]
  },
  {
   "cell_type": "code",
   "execution_count": 50,
   "metadata": {
    "collapsed": false
   },
   "outputs": [],
   "source": [
    "imdb_movies['all_genre'] = imdb_movies['all_genre'].astype('str')"
   ]
  },
  {
   "cell_type": "code",
   "execution_count": 51,
   "metadata": {
    "collapsed": false
   },
   "outputs": [],
   "source": [
    "imdb_response_var_filename = str(dir_data)+'\\\\drv_imdb_response_variable_1_20000.json'\n",
    "imdb_movies[['imdb_id','tmdb_id','all_genre']+imdb_genre].to_json(path_or_buf= imdb_response_var_filename)"
   ]
  },
  {
   "cell_type": "code",
   "execution_count": null,
   "metadata": {
    "collapsed": true
   },
   "outputs": [],
   "source": []
  }
 ],
 "metadata": {
  "kernelspec": {
   "display_name": "Python 2",
   "language": "python",
   "name": "python2"
  },
  "language_info": {
   "codemirror_mode": {
    "name": "ipython",
    "version": 2
   },
   "file_extension": ".py",
   "mimetype": "text/x-python",
   "name": "python",
   "nbconvert_exporter": "python",
   "pygments_lexer": "ipython2",
   "version": "2.7.13"
  }
 },
 "nbformat": 4,
 "nbformat_minor": 2
}
