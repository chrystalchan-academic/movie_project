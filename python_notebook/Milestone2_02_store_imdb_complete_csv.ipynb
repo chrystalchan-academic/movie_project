{
 "cells": [
  {
   "cell_type": "markdown",
   "metadata": {},
   "source": [
    "# IMDB\n",
    "\n",
    "We have to breakdown to multiple files for a group of id, or else memory is not enough."
   ]
  },
  {
   "cell_type": "code",
   "execution_count": 1,
   "metadata": {
    "collapsed": true
   },
   "outputs": [],
   "source": [
    "import tmdbsimple as tmdb\n",
    "tmdb.API_KEY = \"71e259894a515060876bab2a33d6bdc9\""
   ]
  },
  {
   "cell_type": "code",
   "execution_count": 2,
   "metadata": {
    "collapsed": true
   },
   "outputs": [],
   "source": [
    "import imdb as ib\n",
    "from imdb import IMDb\n",
    "import pandas as pd\n",
    "from PIL import Image\n",
    "from StringIO import StringIO\n",
    "import requests\n",
    "import os\n",
    "import time\n",
    "from shutil import copyfile\n",
    "import types\n",
    "import numpy as np\n",
    "import csv"
   ]
  },
  {
   "cell_type": "code",
   "execution_count": 3,
   "metadata": {
    "collapsed": true
   },
   "outputs": [],
   "source": [
    "dir_python_notebook = os.getcwd()\n",
    "dir_movie_project = os.path.abspath(os.path.join(dir_python_notebook, os.pardir))\n",
    "dir_data = os.path.join(dir_movie_project, 'data')"
   ]
  },
  {
   "cell_type": "markdown",
   "metadata": {},
   "source": [
    "# Load data"
   ]
  },
  {
   "cell_type": "code",
   "execution_count": 4,
   "metadata": {
    "collapsed": true
   },
   "outputs": [],
   "source": [
    "def get_imdb_columns():\n",
    "    imdb = IMDb()\n",
    "    #get a movie by id\n",
    "    imdb_movie = imdb.get_movie('0325980')\n",
    "    #access attributes of the movie by dictionary keys\n",
    "    imdb.update(imdb_movie)\n",
    "    imdb_info_column = imdb_movie.keys_alias.values() \n",
    "    imdb_info_column = list(set(imdb_info_column))\n",
    "    if 'imdb_id' not in imdb_info_column:\n",
    "        imdb_info_column.append('imdb_id')\n",
    "    if 'tmdb_id' not in imdb_info_column:\n",
    "        imdb_info_column.append('tmdb_id')\n",
    "    imdb_info_column.sort()\n",
    "    return(imdb_info_column)\n"
   ]
  },
  {
   "cell_type": "code",
   "execution_count": 5,
   "metadata": {
    "collapsed": false
   },
   "outputs": [
    {
     "data": {
      "text/plain": [
       "['airing',\n",
       " 'akas',\n",
       " 'amazon reviews',\n",
       " 'art direction',\n",
       " 'assistant director',\n",
       " 'cast',\n",
       " 'casting director',\n",
       " 'certificates',\n",
       " 'cinematographer',\n",
       " 'color info',\n",
       " 'costume department',\n",
       " 'costume designer',\n",
       " 'countries',\n",
       " 'cover url',\n",
       " 'creator',\n",
       " 'director',\n",
       " 'distributors',\n",
       " 'editor',\n",
       " 'faqs',\n",
       " 'full-size cover url',\n",
       " 'genres',\n",
       " 'guests',\n",
       " 'imdb_id',\n",
       " 'languages',\n",
       " 'make up',\n",
       " 'merchandising links',\n",
       " 'misc links',\n",
       " 'miscellaneous companies',\n",
       " 'miscellaneous crew',\n",
       " 'non-original music',\n",
       " 'number of episodes',\n",
       " 'number of seasons',\n",
       " 'original music',\n",
       " 'parents guide',\n",
       " 'photo sites',\n",
       " 'plot',\n",
       " 'producer',\n",
       " 'production companies',\n",
       " 'production manager',\n",
       " 'rating',\n",
       " 'runtimes',\n",
       " 'set decoration',\n",
       " 'sound clips',\n",
       " 'sound crew',\n",
       " 'special effects',\n",
       " 'special effects companies',\n",
       " 'stunt performer',\n",
       " 'tmdb_id',\n",
       " 'video clips',\n",
       " 'visual effects',\n",
       " 'writer']"
      ]
     },
     "execution_count": 5,
     "metadata": {},
     "output_type": "execute_result"
    }
   ],
   "source": [
    "get_imdb_columns()\n"
   ]
  },
  {
   "cell_type": "code",
   "execution_count": 6,
   "metadata": {
    "collapsed": false
   },
   "outputs": [],
   "source": [
    "def get_movie_details(imdb_info_column,imdb_id, tmdb_id):\n",
    "    movie_details = []\n",
    "    try:\n",
    "        imdb = IMDb()\n",
    "        imdb_movie = imdb.get_movie(imdb_id)\n",
    "        imdb.update(imdb_movie)\n",
    "        if (len(imdb_movie.keys()) > 0) :       \n",
    "            movie_details = []\n",
    "            for c in imdb_info_column:\n",
    "                if imdb_movie.has_key(c):\n",
    "                    info_field = imdb_movie[c]\n",
    "                    if info_field is not None:\n",
    "                        if type(info_field) is list:                    \n",
    "                            if isinstance(info_field[0], ib.Person.Person):\n",
    "                                info_list = []\n",
    "                                for item in info_field:\n",
    "                                    info_list.append(item.getID())\n",
    "                                movie_details.append(info_list)\n",
    "                            elif isinstance(info_field[0], ib.Company.Company):\n",
    "                                info_list = []\n",
    "                                for item in info_field:\n",
    "                                    info_list.append(item.getID())\n",
    "                                movie_details.append(info_list)  \n",
    "                            else:\n",
    "                                movie_details.append(info_field)\n",
    "                        else:\n",
    "                            movie_details.append(info_field)\n",
    "                    else:\n",
    "                            movie_details.append(None)      \n",
    "\n",
    "                else:\n",
    "                    if c == \"imdb_id\":\n",
    "                        movie_details.append(imdb_id)\n",
    "                    elif c == \"tmdb_id\":\n",
    "                        movie_details.append(tmdb_id)\n",
    "                    else:\n",
    "                        movie_details.append(None)  \n",
    "        else:\n",
    "            invalid_imdb_ids.append(i)\n",
    "            #movies.head(5)\n",
    "        return movie_details\n",
    "    except Exception:\n",
    "        return movie_details"
   ]
  },
  {
   "cell_type": "code",
   "execution_count": 7,
   "metadata": {
    "collapsed": true
   },
   "outputs": [],
   "source": [
    "latest_id = 300000"
   ]
  },
  {
   "cell_type": "code",
   "execution_count": 8,
   "metadata": {
    "collapsed": false
   },
   "outputs": [],
   "source": [
    "imdb_info_column = get_imdb_columns()\n",
    "imdb_invalid_id_filename = str(dir_data)+'\\\\drv_imdb_movie_invalid_id.json'\n",
    "\n",
    "id_start = 280001\n",
    "id_range = 20000\n",
    "\n",
    "while id_start < latest_id:\n",
    "    id_end = id_start + id_range - 1\n",
    "    tmdb_filename = str(dir_data)+'\\\\drv_tmdb_movie_details_'+str(id_start)+'_'+str(id_end)+'.json'\n",
    "    imdb_filename = str(dir_data)+'\\\\drv_imdb_movie_info_'+str(id_start)+'_'+str(id_end)+'.csv'\n",
    "   \n",
    "    movies = pd.DataFrame(columns=imdb_info_column)\n",
    "    invalid_ids =  pd.DataFrame(columns= ['imdb_id','tmdb_id'])\n",
    "    count = 0\n",
    "    \n",
    "    tmdb_movie = pd.read_json(tmdb_filename)\n",
    "        \n",
    "    # only load the one with imdb_id\n",
    "    tmdb_movie = tmdb_movie[tmdb_movie['imdb_id'].notnull()]\n",
    "    tmdb_ids = tmdb_movie['id'].tolist()\n",
    "        \n",
    "    # if already loaded, no need to reload\n",
    "    if os.path.isfile(imdb_filename):\n",
    "        movies = pd.read_csv(imdb_filename,index_col=0, sep='\\t', encoding='utf-8', quoting=csv.QUOTE_NONNUMERIC)\n",
    "        loaded_tmdb_ids = movies['tmdb_id'].tolist()\n",
    "        if len(loaded_tmdb_ids) >0:\n",
    "            tmdb_ids = [x for x in tmdb_ids if x not in loaded_tmdb_ids]\n",
    "        imdb_info_column = movies.columns\n",
    "        movies = pd.DataFrame(columns=imdb_info_column)\n",
    "    else:\n",
    "        movies.to_csv(imdb_filename,header =imdb_info_column, sep='\\t', encoding='utf-8', quoting=csv.QUOTE_NONNUMERIC)\n",
    "                   \n",
    "    # we don't want to waste our effort to load invalid imdb_id\n",
    "    if os.path.isfile(imdb_invalid_id_filename):\n",
    "        invalid_imdb_id_df = pd.read_json(imdb_invalid_id_filename)\n",
    "        invalid_tmdb_ids = invalid_imdb_id_df['tmdb_id'].tolist()\n",
    "        if len(invalid_tmdb_ids) >0:\n",
    "            tmdb_ids = [x for x in tmdb_ids if x not in invalid_tmdb_ids]\n",
    "\n",
    "    for tmdb_id in tmdb_ids:\n",
    "        imdb_id = tmdb_movie[tmdb_movie['id']==tmdb_id]['imdb_id'].tolist()[0]\n",
    "        if imdb_id is not None:\n",
    "            imdb_id = str(imdb_id.replace('tt',''))\n",
    "        if imdb_id is None or imdb_id =='':\n",
    "            invalid_ids = invalid_ids.append({'imdb_id': imdb_id, 'tmdb_id': tmdb_id}, ignore_index=True)\n",
    "\n",
    "        else:\n",
    "            movie_details = get_movie_details(imdb_info_column,imdb_id, tmdb_id)\n",
    "            if len(movie_details) > 0 :\n",
    "                movies.loc[tmdb_id] = movie_details\n",
    "            else:\n",
    "                invalid_ids = invalid_ids.append({'imdb_id': imdb_id, 'tmdb_id': tmdb_id}, ignore_index=True)\n",
    "\n",
    "        count += 1\n",
    "        if (count % 50 == 0):\n",
    "            movies.to_csv(imdb_filename,mode = 'a',header=False, sep='\\t', encoding='utf-8', quoting=csv.QUOTE_NONNUMERIC)\n",
    "            invalid_ids.to_json(path_or_buf= imdb_invalid_id_filename)\n",
    "            movies = pd.DataFrame(columns=imdb_info_column)\n",
    "        \n",
    "    movies.to_csv(imdb_filename,mode = 'a',header=False, sep='\\t', encoding='utf-8', quoting=csv.QUOTE_NONNUMERIC)\n",
    "    invalid_ids.to_json(path_or_buf= imdb_invalid_id_filename)\n",
    "    id_start = id_start + id_range\n"
   ]
  },
  {
   "cell_type": "code",
   "execution_count": 9,
   "metadata": {
    "collapsed": false
   },
   "outputs": [
    {
     "data": {
      "text/plain": [
       "20002.0    20002.0\n",
       "20003.0    20003.0\n",
       "20004.0    20004.0\n",
       "20006.0    20006.0\n",
       "20007.0    20007.0\n",
       "Name: tmdb_id, dtype: float64"
      ]
     },
     "execution_count": 9,
     "metadata": {},
     "output_type": "execute_result"
    }
   ],
   "source": [
    "# load one file as example\n",
    "imdb_filename = str(dir_data)+'\\\\drv_imdb_movie_info_20001_40000.csv'\n",
    "imdb_movies = pd.read_csv(imdb_filename,index_col=0, sep='\\t', encoding='utf-8', quoting=csv.QUOTE_NONNUMERIC)\n",
    "imdb_movies.head(5)['tmdb_id']"
   ]
  },
  {
   "cell_type": "code",
   "execution_count": null,
   "metadata": {
    "collapsed": true
   },
   "outputs": [],
   "source": []
  }
 ],
 "metadata": {
  "kernelspec": {
   "display_name": "Python 2",
   "language": "python",
   "name": "python2"
  },
  "language_info": {
   "codemirror_mode": {
    "name": "ipython",
    "version": 2
   },
   "file_extension": ".py",
   "mimetype": "text/x-python",
   "name": "python",
   "nbconvert_exporter": "python",
   "pygments_lexer": "ipython2",
   "version": "2.7.13"
  }
 },
 "nbformat": 4,
 "nbformat_minor": 2
}
