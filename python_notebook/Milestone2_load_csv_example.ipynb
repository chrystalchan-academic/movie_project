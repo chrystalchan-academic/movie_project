{
 "cells": [
  {
   "cell_type": "code",
   "execution_count": 15,
   "metadata": {
    "collapsed": true
   },
   "outputs": [],
   "source": [
    "from imdb import IMDb\n",
    "import pandas as pd\n",
    "from PIL import Image\n",
    "from StringIO import StringIO\n",
    "import requests\n",
    "import os\n",
    "import time\n",
    "from shutil import copyfile\n",
    "import csv"
   ]
  },
  {
   "cell_type": "code",
   "execution_count": 16,
   "metadata": {
    "collapsed": true
   },
   "outputs": [],
   "source": [
    "dir_python_notebook = os.getcwd()\n",
    "dir_movie_project = os.path.abspath(os.path.join(dir_python_notebook, os.pardir))\n",
    "dir_data = os.path.join(dir_movie_project, 'data')"
   ]
  },
  {
   "cell_type": "code",
   "execution_count": 19,
   "metadata": {
    "collapsed": false
   },
   "outputs": [
    {
     "data": {
      "text/plain": [
       "100.0        100.0\n",
       "10000.0    10000.0\n",
       "10001.0    10001.0\n",
       "10002.0    10002.0\n",
       "10003.0    10003.0\n",
       "Name: id, dtype: float64"
      ]
     },
     "execution_count": 19,
     "metadata": {},
     "output_type": "execute_result"
    }
   ],
   "source": [
    "tmdb_filename = str(dir_data)+'\\\\drv_tmdb_movie_details_1_20000.csv'\n",
    "tmdb_movies = pd.read_csv(tmdb_filename,index_col=0, sep='\\t', encoding='utf-8', quoting=csv.QUOTE_NONNUMERIC)\n",
    "tmdb_movies.head(5)['id']"
   ]
  },
  {
   "cell_type": "code",
   "execution_count": 20,
   "metadata": {
    "collapsed": false
   },
   "outputs": [
    {
     "data": {
      "text/plain": [
       "100.0        100.0\n",
       "10000.0    10000.0\n",
       "10001.0    10001.0\n",
       "10002.0    10002.0\n",
       "10003.0    10003.0\n",
       "Name: tmdb_id, dtype: float64"
      ]
     },
     "execution_count": 20,
     "metadata": {},
     "output_type": "execute_result"
    }
   ],
   "source": [
    "imdb_filename = str(dir_data)+'\\\\drv_imdb_movie_info_1_20000.csv'\n",
    "imdb_movies = pd.read_csv(imdb_filename,index_col=0, sep='\\t', encoding='utf-8', quoting=csv.QUOTE_NONNUMERIC)\n",
    "imdb_movies.head(5)['tmdb_id']"
   ]
  },
  {
   "cell_type": "code",
   "execution_count": null,
   "metadata": {
    "collapsed": true
   },
   "outputs": [],
   "source": []
  }
 ],
 "metadata": {
  "kernelspec": {
   "display_name": "Python 2",
   "language": "python",
   "name": "python2"
  },
  "language_info": {
   "codemirror_mode": {
    "name": "ipython",
    "version": 2
   },
   "file_extension": ".py",
   "mimetype": "text/x-python",
   "name": "python",
   "nbconvert_exporter": "python",
   "pygments_lexer": "ipython2",
   "version": "2.7.13"
  }
 },
 "nbformat": 4,
 "nbformat_minor": 2
}
