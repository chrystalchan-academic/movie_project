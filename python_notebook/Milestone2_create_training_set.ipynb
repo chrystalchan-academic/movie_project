{
 "cells": [
  {
   "cell_type": "markdown",
   "metadata": {},
   "source": [
    "We will have to create our training set by merging IMDB and TMDB data set.\n",
    "1. IMDB movies have a fewer movies number than TMDB. Since our eventual goal is use poster from TMDB for prediction as well, we will only consider movies that are in both IMDB and TMDB data set.\n",
    "Please note the example below only contains movies with TMDB ID from 1 to 20000."
   ]
  },
  {
   "cell_type": "code",
   "execution_count": 1,
   "metadata": {
    "collapsed": true
   },
   "outputs": [],
   "source": [
    "import pandas as pd\n",
    "from PIL import Image\n",
    "from StringIO import StringIO\n",
    "import requests\n",
    "import os\n",
    "import time\n",
    "from shutil import copyfile\n",
    "import csv"
   ]
  },
  {
   "cell_type": "code",
   "execution_count": 2,
   "metadata": {
    "collapsed": true
   },
   "outputs": [],
   "source": [
    "dir_python_notebook = os.getcwd()\n",
    "dir_movie_project = os.path.abspath(os.path.join(dir_python_notebook, os.pardir))\n",
    "dir_data = os.path.join(dir_movie_project, 'data')"
   ]
  },
  {
   "cell_type": "markdown",
   "metadata": {},
   "source": [
    "# Load Data"
   ]
  },
  {
   "cell_type": "code",
   "execution_count": 53,
   "metadata": {
    "collapsed": false
   },
   "outputs": [],
   "source": [
    "tmdb_filename = str(dir_data)+'\\\\drv_tmdb_movie_details_1_20000.csv'\n",
    "tmdb_movies = pd.read_csv(tmdb_filename,index_col=0, sep='\\t', encoding='utf-8', quoting=csv.QUOTE_NONNUMERIC)\n"
   ]
  },
  {
   "cell_type": "code",
   "execution_count": 54,
   "metadata": {
    "collapsed": false
   },
   "outputs": [
    {
     "data": {
      "text/html": [
       "<div>\n",
       "<table border=\"1\" class=\"dataframe\">\n",
       "  <thead>\n",
       "    <tr style=\"text-align: right;\">\n",
       "      <th></th>\n",
       "      <th>X</th>\n",
       "      <th>certificates_R</th>\n",
       "      <th>certificates_PG</th>\n",
       "      <th>art.direction_1</th>\n",
       "      <th>assistant.director_1</th>\n",
       "      <th>casting.director_1</th>\n",
       "      <th>cinematographer_1</th>\n",
       "      <th>costume.department_1</th>\n",
       "      <th>costume.designer_1</th>\n",
       "      <th>countries_1</th>\n",
       "      <th>...</th>\n",
       "      <th>Action</th>\n",
       "      <th>Documentary</th>\n",
       "      <th>Musical</th>\n",
       "      <th>History</th>\n",
       "      <th>Family</th>\n",
       "      <th>Fantasy</th>\n",
       "      <th>Sport</th>\n",
       "      <th>Biography</th>\n",
       "      <th>cluster_response</th>\n",
       "      <th>genres_comb</th>\n",
       "    </tr>\n",
       "  </thead>\n",
       "  <tbody>\n",
       "    <tr>\n",
       "      <th>0</th>\n",
       "      <td>100.0</td>\n",
       "      <td>1.0</td>\n",
       "      <td>0.0</td>\n",
       "      <td>0.322495</td>\n",
       "      <td>0.042103</td>\n",
       "      <td>0.010279</td>\n",
       "      <td>0.046254</td>\n",
       "      <td>0.307966</td>\n",
       "      <td>0.028662</td>\n",
       "      <td>0.089642</td>\n",
       "      <td>...</td>\n",
       "      <td>0.0</td>\n",
       "      <td>0.0</td>\n",
       "      <td>0.0</td>\n",
       "      <td>0.0</td>\n",
       "      <td>0.0</td>\n",
       "      <td>0.0</td>\n",
       "      <td>0.0</td>\n",
       "      <td>0.0</td>\n",
       "      <td>5.0</td>\n",
       "      <td>Horror, Thriller, Action</td>\n",
       "    </tr>\n",
       "    <tr>\n",
       "      <th>1</th>\n",
       "      <td>10001.0</td>\n",
       "      <td>0.0</td>\n",
       "      <td>1.0</td>\n",
       "      <td>0.027673</td>\n",
       "      <td>0.093694</td>\n",
       "      <td>0.319431</td>\n",
       "      <td>0.165250</td>\n",
       "      <td>0.307966</td>\n",
       "      <td>0.172860</td>\n",
       "      <td>0.014232</td>\n",
       "      <td>...</td>\n",
       "      <td>0.0</td>\n",
       "      <td>0.0</td>\n",
       "      <td>0.0</td>\n",
       "      <td>1.0</td>\n",
       "      <td>0.0</td>\n",
       "      <td>0.0</td>\n",
       "      <td>0.0</td>\n",
       "      <td>0.0</td>\n",
       "      <td>4.0</td>\n",
       "      <td>Romance, Comedy, Fantasy</td>\n",
       "    </tr>\n",
       "    <tr>\n",
       "      <th>2</th>\n",
       "      <td>10002.0</td>\n",
       "      <td>1.0</td>\n",
       "      <td>0.0</td>\n",
       "      <td>0.212394</td>\n",
       "      <td>0.024906</td>\n",
       "      <td>0.006523</td>\n",
       "      <td>0.016308</td>\n",
       "      <td>0.012453</td>\n",
       "      <td>0.005535</td>\n",
       "      <td>0.089642</td>\n",
       "      <td>...</td>\n",
       "      <td>0.0</td>\n",
       "      <td>0.0</td>\n",
       "      <td>0.0</td>\n",
       "      <td>0.0</td>\n",
       "      <td>0.0</td>\n",
       "      <td>0.0</td>\n",
       "      <td>0.0</td>\n",
       "      <td>0.0</td>\n",
       "      <td>1.0</td>\n",
       "      <td>Horror, Thriller, Drama</td>\n",
       "    </tr>\n",
       "    <tr>\n",
       "      <th>3</th>\n",
       "      <td>10003.0</td>\n",
       "      <td>0.0</td>\n",
       "      <td>1.0</td>\n",
       "      <td>0.019767</td>\n",
       "      <td>0.024906</td>\n",
       "      <td>0.014133</td>\n",
       "      <td>0.025301</td>\n",
       "      <td>0.126112</td>\n",
       "      <td>0.007116</td>\n",
       "      <td>0.536766</td>\n",
       "      <td>...</td>\n",
       "      <td>1.0</td>\n",
       "      <td>0.0</td>\n",
       "      <td>0.0</td>\n",
       "      <td>0.0</td>\n",
       "      <td>0.0</td>\n",
       "      <td>0.0</td>\n",
       "      <td>0.0</td>\n",
       "      <td>0.0</td>\n",
       "      <td>1.0</td>\n",
       "      <td>Horror, Thriller, Drama</td>\n",
       "    </tr>\n",
       "    <tr>\n",
       "      <th>4</th>\n",
       "      <td>10004.0</td>\n",
       "      <td>1.0</td>\n",
       "      <td>0.0</td>\n",
       "      <td>0.104764</td>\n",
       "      <td>0.355406</td>\n",
       "      <td>0.017395</td>\n",
       "      <td>0.049812</td>\n",
       "      <td>0.126112</td>\n",
       "      <td>0.040028</td>\n",
       "      <td>0.536766</td>\n",
       "      <td>...</td>\n",
       "      <td>0.0</td>\n",
       "      <td>0.0</td>\n",
       "      <td>0.0</td>\n",
       "      <td>0.0</td>\n",
       "      <td>0.0</td>\n",
       "      <td>1.0</td>\n",
       "      <td>0.0</td>\n",
       "      <td>0.0</td>\n",
       "      <td>1.0</td>\n",
       "      <td>Horror, Thriller, Drama</td>\n",
       "    </tr>\n",
       "  </tbody>\n",
       "</table>\n",
       "<p>5 rows × 58 columns</p>\n",
       "</div>"
      ],
      "text/plain": [
       "         X  certificates_R  certificates_PG  art.direction_1  \\\n",
       "0    100.0             1.0              0.0         0.322495   \n",
       "1  10001.0             0.0              1.0         0.027673   \n",
       "2  10002.0             1.0              0.0         0.212394   \n",
       "3  10003.0             0.0              1.0         0.019767   \n",
       "4  10004.0             1.0              0.0         0.104764   \n",
       "\n",
       "   assistant.director_1  casting.director_1  cinematographer_1  \\\n",
       "0              0.042103            0.010279           0.046254   \n",
       "1              0.093694            0.319431           0.165250   \n",
       "2              0.024906            0.006523           0.016308   \n",
       "3              0.024906            0.014133           0.025301   \n",
       "4              0.355406            0.017395           0.049812   \n",
       "\n",
       "   costume.department_1  costume.designer_1  countries_1  \\\n",
       "0              0.307966            0.028662     0.089642   \n",
       "1              0.307966            0.172860     0.014232   \n",
       "2              0.012453            0.005535     0.089642   \n",
       "3              0.126112            0.007116     0.536766   \n",
       "4              0.126112            0.040028     0.536766   \n",
       "\n",
       "             ...             Action  Documentary  Musical  History  Family  \\\n",
       "0            ...                0.0          0.0      0.0      0.0     0.0   \n",
       "1            ...                0.0          0.0      0.0      1.0     0.0   \n",
       "2            ...                0.0          0.0      0.0      0.0     0.0   \n",
       "3            ...                1.0          0.0      0.0      0.0     0.0   \n",
       "4            ...                0.0          0.0      0.0      0.0     0.0   \n",
       "\n",
       "   Fantasy  Sport  Biography  cluster_response               genres_comb  \n",
       "0      0.0    0.0        0.0               5.0  Horror, Thriller, Action  \n",
       "1      0.0    0.0        0.0               4.0  Romance, Comedy, Fantasy  \n",
       "2      0.0    0.0        0.0               1.0   Horror, Thriller, Drama  \n",
       "3      0.0    0.0        0.0               1.0   Horror, Thriller, Drama  \n",
       "4      1.0    0.0        0.0               1.0   Horror, Thriller, Drama  \n",
       "\n",
       "[5 rows x 58 columns]"
      ]
     },
     "execution_count": 54,
     "metadata": {},
     "output_type": "execute_result"
    }
   ],
   "source": [
    "imdb_filename = str(dir_data)+'\\\\imdb_cluster_result.csv'\n",
    "imdb_movies = pd.read_csv(imdb_filename, sep=',', encoding='utf-8', quoting=csv.QUOTE_NONNUMERIC)\n",
    "imdb_movies.head(5)"
   ]
  },
  {
   "cell_type": "code",
   "execution_count": 55,
   "metadata": {
    "collapsed": false
   },
   "outputs": [
    {
     "name": "stdout",
     "output_type": "stream",
     "text": [
      "(12210, 25)\n"
     ]
    }
   ],
   "source": [
    "print tmdb_movies.shape"
   ]
  },
  {
   "cell_type": "code",
   "execution_count": 56,
   "metadata": {
    "collapsed": false
   },
   "outputs": [
    {
     "name": "stdout",
     "output_type": "stream",
     "text": [
      "(10118, 58)\n"
     ]
    }
   ],
   "source": [
    "print imdb_movies.shape"
   ]
  },
  {
   "cell_type": "code",
   "execution_count": 60,
   "metadata": {
    "collapsed": false
   },
   "outputs": [],
   "source": [
    "\n",
    "import numpy as np\n",
    "tmdb_movies['tmdb_id'] = tmdb_movies['id']\n",
    "imdb_movies['tmdb_id'] = imdb_movies['X'] \n",
    "\n",
    "tmdb_movies.tmdb_id = tmdb_movies.tmdb_id.astype(np.int64)\n",
    "imdb_movies.tmdb_id = imdb_movies.tmdb_id.astype(np.int64)\n",
    "#tmdb_movies[['tmdb_id']] =tmdb_movies[['tmdb_id']].apply(pd.to_integer)\n",
    "#imdb_movies[['tmdb_id']] =imdb_movies[['tmdb_id']].apply(pd.to_integer)"
   ]
  },
  {
   "cell_type": "code",
   "execution_count": 61,
   "metadata": {
    "collapsed": false
   },
   "outputs": [],
   "source": [
    "training_df = tmdb_movies.join(imdb_movies, how = \"inner\",on = \"tmdb_id\", lsuffix='_tmdb', rsuffix='imdb')"
   ]
  },
  {
   "cell_type": "code",
   "execution_count": 42,
   "metadata": {
    "collapsed": false
   },
   "outputs": [
    {
     "data": {
      "text/plain": [
       "Index([                    u'adult',             u'backdrop_path',\n",
       "           u'belongs_to_collection',                    u'budget',\n",
       "                          u'genres',                  u'homepage',\n",
       "                              u'id',                   u'imdb_id',\n",
       "               u'original_language',            u'original_title',\n",
       "                        u'overview',                u'popularity',\n",
       "                     u'poster_path',      u'production_companies',\n",
       "            u'production_countries',              u'release_date',\n",
       "                         u'revenue',                   u'runtime',\n",
       "                u'spoken_languages',                    u'status',\n",
       "                         u'tagline',                     u'title',\n",
       "                           u'video',              u'vote_average',\n",
       "                      u'vote_count',               u'tmdb_idtmdb',\n",
       "                               u'X',            u'certificates_R',\n",
       "                 u'certificates_PG',           u'art.direction_1',\n",
       "            u'assistant.director_1',        u'casting.director_1',\n",
       "               u'cinematographer_1',      u'costume.department_1',\n",
       "              u'costume.designer_1',               u'countries_1',\n",
       "                      u'director_1',            u'distributors_1',\n",
       "                        u'editor_1',               u'languages_1',\n",
       "                       u'make.up_1', u'miscellaneous.companies_1',\n",
       "            u'miscellaneous.crew_1',          u'original.music_1',\n",
       "                      u'producer_1',    u'production.companies_1',\n",
       "            u'production.manager_1',          u'set.decoration_1',\n",
       "                    u'sound.crew_1',         u'stunt.performer_1',\n",
       "                u'visual.effects_1',                  u'writer_1',\n",
       "                          u'cast_1',                    u'cast_2',\n",
       "                          u'cast_3',                    u'cast_4',\n",
       "                    u'runtimes_avg',                    u'rating',\n",
       "                          u'Sci.Fi',                     u'Crime',\n",
       "                         u'Romance',                 u'Animation',\n",
       "                           u'Music',                     u'Adult',\n",
       "                          u'Comedy',                       u'War',\n",
       "                          u'Horror',                 u'Film.Noir',\n",
       "                         u'Western',                  u'Thriller',\n",
       "                       u'Adventure',                   u'Mystery',\n",
       "                           u'Short',                     u'Drama',\n",
       "                          u'Action',               u'Documentary',\n",
       "                         u'Musical',                   u'History',\n",
       "                          u'Family',                   u'Fantasy',\n",
       "                           u'Sport',                 u'Biography',\n",
       "                u'cluster_response',               u'genres_comb',\n",
       "                         u'tmdb_id'],\n",
       "      dtype='object')"
      ]
     },
     "execution_count": 42,
     "metadata": {},
     "output_type": "execute_result"
    }
   ],
   "source": [
    "training_df.columns"
   ]
  },
  {
   "cell_type": "code",
   "execution_count": 63,
   "metadata": {
    "collapsed": false
   },
   "outputs": [],
   "source": [
    "filename = str(dir_data)+'\\\\training.csv'\n",
    "training_df.to_csv(filename,header =training_df.columns, sep='\\t', encoding='utf-8', quoting=csv.QUOTE_NONNUMERIC)"
   ]
  },
  {
   "cell_type": "code",
   "execution_count": null,
   "metadata": {
    "collapsed": true
   },
   "outputs": [],
   "source": []
  }
 ],
 "metadata": {
  "kernelspec": {
   "display_name": "Python 2",
   "language": "python",
   "name": "python2"
  },
  "language_info": {
   "codemirror_mode": {
    "name": "ipython",
    "version": 2
   },
   "file_extension": ".py",
   "mimetype": "text/x-python",
   "name": "python",
   "nbconvert_exporter": "python",
   "pygments_lexer": "ipython2",
   "version": "2.7.13"
  }
 },
 "nbformat": 4,
 "nbformat_minor": 2
}
