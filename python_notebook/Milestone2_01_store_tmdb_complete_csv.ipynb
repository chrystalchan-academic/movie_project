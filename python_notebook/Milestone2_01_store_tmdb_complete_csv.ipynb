{
 "cells": [
  {
   "cell_type": "markdown",
   "metadata": {},
   "source": [
    "# TMDB\n",
    "\n",
    "We have to breakdown to multiple files for a group of id, or else memory is not enough.\n"
   ]
  },
  {
   "cell_type": "code",
   "execution_count": 3,
   "metadata": {
    "collapsed": true
   },
   "outputs": [],
   "source": [
    "import tmdbsimple as tmdb\n",
    "tmdb.API_KEY = \"71e259894a515060876bab2a33d6bdc9\""
   ]
  },
  {
   "cell_type": "code",
   "execution_count": 2,
   "metadata": {
    "collapsed": true
   },
   "outputs": [],
   "source": [
    "from imdb import IMDb\n",
    "import pandas as pd\n",
    "from PIL import Image\n",
    "from StringIO import StringIO\n",
    "import requests\n",
    "import os\n",
    "import time\n",
    "from shutil import copyfile\n",
    "import csv"
   ]
  },
  {
   "cell_type": "code",
   "execution_count": 3,
   "metadata": {
    "collapsed": false
   },
   "outputs": [],
   "source": [
    "dir_python_notebook = os.getcwd()\n",
    "dir_movie_project = os.path.abspath(os.path.join(dir_python_notebook, os.pardir))\n",
    "dir_data = os.path.join(dir_movie_project, 'data')"
   ]
  },
  {
   "cell_type": "markdown",
   "metadata": {},
   "source": [
    "# Load data"
   ]
  },
  {
   "cell_type": "code",
   "execution_count": 26,
   "metadata": {
    "collapsed": true
   },
   "outputs": [],
   "source": [
    "# get column names to retrieve information\n",
    "tmdb_movie_id = tmdb.Movies(2)\n",
    "movie_info = tmdb_movie_id.info()\n",
    "tmdb_info_column  = tmdb_movie_id.info().keys()\n",
    "tmdb_info_column  = [str(c) for c in tmdb_info_column]\n",
    "tmdb_info_column.sort()"
   ]
  },
  {
   "cell_type": "code",
   "execution_count": 27,
   "metadata": {
    "collapsed": false
   },
   "outputs": [
    {
     "data": {
      "text/plain": [
       "451100"
      ]
     },
     "execution_count": 27,
     "metadata": {},
     "output_type": "execute_result"
    }
   ],
   "source": [
    "latest_r = requests.get('https://api.themoviedb.org/3/movie/latest?api_key=71e259894a515060876bab2a33d6bdc9')\n",
    "latest_id = latest_r.json()['id']\n",
    "latest_id"
   ]
  },
  {
   "cell_type": "code",
   "execution_count": 46,
   "metadata": {
    "collapsed": false
   },
   "outputs": [
    {
     "name": "stdout",
     "output_type": "stream",
     "text": [
      "240000\n",
      "240000\n"
     ]
    }
   ],
   "source": [
    "id_start = 220001\n",
    "id_range = 20000\n",
    "id_end = id_start + id_range -1\n",
    "print(id_end)\n",
    "i_list = range(id_start,id_end+1)\n",
    "print(i_list[-1])"
   ]
  },
  {
   "cell_type": "code",
   "execution_count": null,
   "metadata": {
    "collapsed": false
   },
   "outputs": [],
   "source": [
    "# if we already have a movie data file, we can just continue appending it instead of starting from id 1 again.\n",
    "while id_start < latest_id:\n",
    "    id_end = id_start + id_range - 1\n",
    "    i_list = range(id_start,id_end + 1)\n",
    "    \n",
    "    movies = pd.DataFrame(columns=tmdb_info_column)\n",
    "    new_filename = str(dir_data)+'\\\\drv_tmdb_movie_details_'+str(id_start)+'_'+str(id_end)+'.csv'\n",
    "\n",
    "    if os.path.isfile(new_filename):\n",
    "        movies = pd.read_csv(new_filename,index_col=0, sep='\\t', encoding='utf-8', quoting=csv.QUOTE_NONNUMERIC)\n",
    "        if len(movies['id']) >0:        \n",
    "            movie_ids = movies['id'].tolist()\n",
    "            tmdb_info_column = movies.columns\n",
    "            i_list = [x for x in i_list if x not in movie_ids]\n",
    "            movies = pd.DataFrame(columns=tmdb_info_column)\n",
    "    else:\n",
    "        movies.to_csv(new_filename,header =tmdb_info_column, sep='\\t', encoding='utf-8', quoting=csv.QUOTE_NONNUMERIC)\n",
    "\n",
    "    for i in i_list:\n",
    "        #skip the non-existing movie ids\n",
    "        if (i % 40 == 0):\n",
    "            # make sure we do not hit API limit\n",
    "            time.sleep(12) \n",
    "            movies.to_csv(new_filename,mode = 'a',header=False, sep='\\t', encoding='utf-8', quoting=csv.QUOTE_NONNUMERIC)\n",
    "            movies = pd.DataFrame(columns=tmdb_info_column)\n",
    "        try:\n",
    "            tmdb_movies = tmdb.Movies(i)\n",
    "            info = tmdb_movies.info()\n",
    "\n",
    "            movie_details = []\n",
    "            for c in tmdb_info_column:\n",
    "                if info.has_key(c):\n",
    "                    if info[c] is not None:\n",
    "                        if c in ['genres','spoken_languages','production_countries','production_companies']:\n",
    "                            movie_details.append([d['name'] for d in info[c]])\n",
    "                        elif c in ['belongs_to_collection']:\n",
    "                            movie_details.append(info[c]['name'])\n",
    "                        else:\n",
    "                            movie_details.append(info[c]) \n",
    "                    else:\n",
    "                        movie_details.append(None)\n",
    "                else:\n",
    "                        movie_details.append(None)\n",
    "            movies.loc[i] = movie_details\n",
    "        except Exception:\n",
    "            continue\n",
    "\n",
    "    movies.to_csv(new_filename,mode = 'a',header=False, sep='\\t', encoding='utf-8', quoting=csv.QUOTE_NONNUMERIC)\n",
    "    movies = pd.DataFrame(columns=tmdb_info_column)\n",
    "    id_start = id_start + id_range              "
   ]
  },
  {
   "cell_type": "code",
   "execution_count": 34,
   "metadata": {
    "collapsed": false
   },
   "outputs": [],
   "source": [
    "\n",
    "id_start = 200001\n",
    "id_range = 20000\n",
    "\n",
    "while id_start < 220000:\n",
    "    id_end = id_start + id_range - 1\n",
    "    filename_json = str(dir_data)+'\\\\drv_tmdb_movie_details_'+str(id_start)+'_'+str(id_end)+'.json'\n",
    "    filename_csv = str(dir_data)+'\\\\drv_tmdb_movie_details_'+str(id_start)+'_'+str(id_end)+'.csv'\n",
    "    if os.path.isfile(filename_json):\n",
    "        movies = pd.read_json(filename_json)\n",
    "        tmdb_info_column = movies.columns\n",
    "        movies.to_csv(filename_csv,header =tmdb_info_column, sep='\\t', encoding='utf-8', quoting=csv.QUOTE_NONNUMERIC)\n",
    "    id_start = id_start + id_range"
   ]
  },
  {
   "cell_type": "code",
   "execution_count": 5,
   "metadata": {
    "collapsed": false
   },
   "outputs": [],
   "source": [
    "tmdb_filename = str(dir_data)+'\\\\drv_tmdb_movie_details_280001_300000.csv'\n",
    "tmdb_movies = pd.read_csv(tmdb_filename,index_col=0, sep='\\t', encoding='utf-8', quoting=csv.QUOTE_NONNUMERIC)"
   ]
  },
  {
   "cell_type": "code",
   "execution_count": 6,
   "metadata": {
    "collapsed": false
   },
   "outputs": [
    {
     "data": {
      "text/plain": [
       "300000.0"
      ]
     },
     "execution_count": 6,
     "metadata": {},
     "output_type": "execute_result"
    }
   ],
   "source": [
    "max(tmdb_movies['id'])"
   ]
  },
  {
   "cell_type": "code",
   "execution_count": null,
   "metadata": {
    "collapsed": true
   },
   "outputs": [],
   "source": []
  }
 ],
 "metadata": {
  "kernelspec": {
   "display_name": "Python 2",
   "language": "python",
   "name": "python2"
  },
  "language_info": {
   "codemirror_mode": {
    "name": "ipython",
    "version": 2
   },
   "file_extension": ".py",
   "mimetype": "text/x-python",
   "name": "python",
   "nbconvert_exporter": "python",
   "pygments_lexer": "ipython2",
   "version": "2.7.13"
  }
 },
 "nbformat": 4,
 "nbformat_minor": 2
}
