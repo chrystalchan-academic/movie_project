{
 "cells": [
  {
   "cell_type": "code",
   "execution_count": 104,
   "metadata": {
    "collapsed": true
   },
   "outputs": [],
   "source": [
    "%matplotlib inline\n",
    "import pandas as ppd\n",
    "import numpy as np\n",
    "import matplotlib.pyplot as plt\n",
    "import seaborn.apionly as sns\n",
    "import datetime as dt"
   ]
  },
  {
   "cell_type": "markdown",
   "metadata": {},
   "source": [
    "# Load data\n",
    "\n",
    "Use the data from the files for now instead of calling API."
   ]
  },
  {
   "cell_type": "code",
   "execution_count": 25,
   "metadata": {
    "collapsed": false
   },
   "outputs": [],
   "source": [
    "tmdb_movies = pd.read_json(\"drv_tmdb_movie_details.json\")\n",
    "imdb_movies = pd.read_json(\"drv_imdb_movie_details.json\")"
   ]
  },
  {
   "cell_type": "code",
   "execution_count": 26,
   "metadata": {
    "collapsed": false
   },
   "outputs": [
    {
     "name": "stdout",
     "output_type": "stream",
     "text": [
      "10010\n",
      "925\n"
     ]
    }
   ],
   "source": [
    "# tmdb\n",
    "# max id\n",
    "print(max(tmdb_movies['id']))\n",
    "\n",
    "# rows\n",
    "print(len(tmdb_movies.index))"
   ]
  },
  {
   "cell_type": "code",
   "execution_count": 27,
   "metadata": {
    "collapsed": false
   },
   "outputs": [
    {
     "name": "stdout",
     "output_type": "stream",
     "text": [
      "100\n"
     ]
    }
   ],
   "source": [
    "# imdb\n",
    "# rows\n",
    "print(len(imdb_movies.index))"
   ]
  },
  {
   "cell_type": "markdown",
   "metadata": {},
   "source": [
    "# Format data"
   ]
  },
  {
   "cell_type": "markdown",
   "metadata": {},
   "source": [
    "# Movie genre classification\n",
    "\n",
    "We need to address the following problems before we do movie genre classification:\n",
    "\n",
    "1. TMDB and IMDB have different movie genre list and this can create issues for prediction. TMDB should have a smaller list than IMDB.\n",
    "2. We can check if the genre classification are similiar for IMDB and TMDB by the following:\n",
    "    look at percentage breakdown of each genre. If the results are significantly different amonng the two databases, we will have to explore what causes the difference.\n",
    "2. A movie can have more than 1 genre. The data from TMDB and IMDB will not indicate which one is the main genre if there is more than 1 genre. However, when we do movie genre prediction, we may only want our reponse to be 1 genre. \n",
    "    1. If we do fuzzy classification, we can use see if the results align with multiple genres.\n",
    "    2. We can also treat it as binary classification problem for each genre, ex. seperate problems of if a movie is Horror and if a movie is Romance. But if the movie number of a genre is too big or too small, the one-vs-all approach may not be good.\n",
    "\n",
    "Below are useful resources:\n",
    "* [IMDB genre guide](http://www.imdb.com/help/search?domain=helpdesk_faq&index=2&file=genres)\n"
   ]
  },
  {
   "cell_type": "code",
   "execution_count": 28,
   "metadata": {
    "collapsed": true
   },
   "outputs": [],
   "source": [
    "def get_genre(tmdb_movies ,key):\n",
    "    tmdb_genre = tmdb_movies[key].tolist()\n",
    "    tmdb_genre_set = set()\n",
    "    for g in tmdb_genre:\n",
    "        tmdb_genre_set = tmdb_genre_set.union(set(g))\n",
    "    tmdb_genre = list(tmdb_genre_set)\n",
    "    tmdb_genre.sort()\n",
    "    return(tmdb_genre)"
   ]
  },
  {
   "cell_type": "code",
   "execution_count": 29,
   "metadata": {
    "collapsed": false
   },
   "outputs": [],
   "source": [
    "def is_genre (row, column_name, genre):\n",
    "    \"\"\"check if that movie is in this genre as a movie can have more than 1 genre\"\"\"\n",
    "    if genre in row[column_name] :\n",
    "        return True\n",
    "    else:\n",
    "        return False"
   ]
  },
  {
   "cell_type": "code",
   "execution_count": 30,
   "metadata": {
    "collapsed": false
   },
   "outputs": [],
   "source": [
    "# as the genre is in list format in the data field, we cannot utilize any data frame function and it is very hard to compare\n",
    "# thus, we have to transform data set \n",
    "\n",
    "def add_genre_columns(tmdb_movies, genre_column):\n",
    "    tmdb_genre = get_genre(tmdb_movies,genre_column)\n",
    "    tmdb_movies[u'genre_num'] = tmdb_movies.apply(lambda row: len(row[genre_column]), axis=1)\n",
    "\n",
    "    for g in tmdb_genre: \n",
    "        tmdb_movies[g] = tmdb_movies.apply(lambda row: is_genre(row,genre_column,g), axis=1)\n",
    "\n"
   ]
  },
  {
   "cell_type": "code",
   "execution_count": 31,
   "metadata": {
    "collapsed": false
   },
   "outputs": [],
   "source": [
    "tmdb_genre = get_genre(tmdb_movies,u'genres')\n",
    "tmdb_movies[u'genre_num'] = tmdb_movies.apply(lambda row: len(row[u'genres']), axis=1)\n",
    "\n",
    "for g in tmdb_genre: \n",
    "    tmdb_movies[g] = tmdb_movies.apply(lambda row: is_genre(row,u'genres',g), axis=1)"
   ]
  },
  {
   "cell_type": "code",
   "execution_count": 32,
   "metadata": {
    "collapsed": false
   },
   "outputs": [
    {
     "data": {
      "text/plain": [
       "2.667027027027027"
      ]
     },
     "execution_count": 32,
     "metadata": {},
     "output_type": "execute_result"
    }
   ],
   "source": [
    "np.mean(tmdb_movies[u'genre_num'])"
   ]
  },
  {
   "cell_type": "code",
   "execution_count": 33,
   "metadata": {
    "collapsed": false
   },
   "outputs": [
    {
     "data": {
      "text/html": [
       "<div>\n",
       "<table border=\"1\" class=\"dataframe\">\n",
       "  <thead>\n",
       "    <tr style=\"text-align: right;\">\n",
       "      <th></th>\n",
       "      <th>False</th>\n",
       "      <th>True</th>\n",
       "    </tr>\n",
       "  </thead>\n",
       "  <tbody>\n",
       "    <tr>\n",
       "      <th>Action</th>\n",
       "      <td>602</td>\n",
       "      <td>323</td>\n",
       "    </tr>\n",
       "    <tr>\n",
       "      <th>Adventure</th>\n",
       "      <td>667</td>\n",
       "      <td>258</td>\n",
       "    </tr>\n",
       "    <tr>\n",
       "      <th>Animation</th>\n",
       "      <td>863</td>\n",
       "      <td>62</td>\n",
       "    </tr>\n",
       "    <tr>\n",
       "      <th>Comedy</th>\n",
       "      <td>587</td>\n",
       "      <td>338</td>\n",
       "    </tr>\n",
       "    <tr>\n",
       "      <th>Crime</th>\n",
       "      <td>762</td>\n",
       "      <td>163</td>\n",
       "    </tr>\n",
       "    <tr>\n",
       "      <th>Documentary</th>\n",
       "      <td>920</td>\n",
       "      <td>5</td>\n",
       "    </tr>\n",
       "    <tr>\n",
       "      <th>Drama</th>\n",
       "      <td>707</td>\n",
       "      <td>218</td>\n",
       "    </tr>\n",
       "    <tr>\n",
       "      <th>Family</th>\n",
       "      <td>815</td>\n",
       "      <td>110</td>\n",
       "    </tr>\n",
       "    <tr>\n",
       "      <th>Fantasy</th>\n",
       "      <td>790</td>\n",
       "      <td>135</td>\n",
       "    </tr>\n",
       "    <tr>\n",
       "      <th>Foreign</th>\n",
       "      <td>914</td>\n",
       "      <td>11</td>\n",
       "    </tr>\n",
       "    <tr>\n",
       "      <th>History</th>\n",
       "      <td>911</td>\n",
       "      <td>14</td>\n",
       "    </tr>\n",
       "    <tr>\n",
       "      <th>Horror</th>\n",
       "      <td>758</td>\n",
       "      <td>167</td>\n",
       "    </tr>\n",
       "    <tr>\n",
       "      <th>Music</th>\n",
       "      <td>909</td>\n",
       "      <td>16</td>\n",
       "    </tr>\n",
       "    <tr>\n",
       "      <th>Mystery</th>\n",
       "      <td>865</td>\n",
       "      <td>60</td>\n",
       "    </tr>\n",
       "    <tr>\n",
       "      <th>Romance</th>\n",
       "      <td>847</td>\n",
       "      <td>78</td>\n",
       "    </tr>\n",
       "    <tr>\n",
       "      <th>Science Fiction</th>\n",
       "      <td>744</td>\n",
       "      <td>181</td>\n",
       "    </tr>\n",
       "    <tr>\n",
       "      <th>Thriller</th>\n",
       "      <td>640</td>\n",
       "      <td>285</td>\n",
       "    </tr>\n",
       "    <tr>\n",
       "      <th>War</th>\n",
       "      <td>906</td>\n",
       "      <td>19</td>\n",
       "    </tr>\n",
       "    <tr>\n",
       "      <th>Western</th>\n",
       "      <td>901</td>\n",
       "      <td>24</td>\n",
       "    </tr>\n",
       "  </tbody>\n",
       "</table>\n",
       "</div>"
      ],
      "text/plain": [
       "                 False  True \n",
       "Action             602    323\n",
       "Adventure          667    258\n",
       "Animation          863     62\n",
       "Comedy             587    338\n",
       "Crime              762    163\n",
       "Documentary        920      5\n",
       "Drama              707    218\n",
       "Family             815    110\n",
       "Fantasy            790    135\n",
       "Foreign            914     11\n",
       "History            911     14\n",
       "Horror             758    167\n",
       "Music              909     16\n",
       "Mystery            865     60\n",
       "Romance            847     78\n",
       "Science Fiction    744    181\n",
       "Thriller           640    285\n",
       "War                906     19\n",
       "Western            901     24"
      ]
     },
     "execution_count": 33,
     "metadata": {},
     "output_type": "execute_result"
    }
   ],
   "source": [
    "tmdb_genre_df = tmdb_movies[tmdb_genre].apply(pd.value_counts).transpose()\n",
    "tmdb_genre_df"
   ]
  },
  {
   "cell_type": "code",
   "execution_count": 34,
   "metadata": {
    "collapsed": true
   },
   "outputs": [],
   "source": [
    "imdb_genre = get_genre(imdb_movies,u'genre')\n",
    "imdb_movies[u'genre_num'] = imdb_movies.apply(lambda row: len(row[u'genre']), axis=1)\n",
    "\n",
    "for g in imdb_genre: \n",
    "    imdb_movies[g] = imdb_movies.apply(lambda row: is_genre(row,u'genre',g), axis=1)"
   ]
  },
  {
   "cell_type": "code",
   "execution_count": 35,
   "metadata": {
    "collapsed": false
   },
   "outputs": [
    {
     "data": {
      "text/html": [
       "<div>\n",
       "<table border=\"1\" class=\"dataframe\">\n",
       "  <thead>\n",
       "    <tr style=\"text-align: right;\">\n",
       "      <th></th>\n",
       "      <th>False</th>\n",
       "      <th>True</th>\n",
       "    </tr>\n",
       "  </thead>\n",
       "  <tbody>\n",
       "    <tr>\n",
       "      <th>Action</th>\n",
       "      <td>56</td>\n",
       "      <td>44</td>\n",
       "    </tr>\n",
       "    <tr>\n",
       "      <th>Adventure</th>\n",
       "      <td>56</td>\n",
       "      <td>44</td>\n",
       "    </tr>\n",
       "    <tr>\n",
       "      <th>Animation</th>\n",
       "      <td>88</td>\n",
       "      <td>12</td>\n",
       "    </tr>\n",
       "    <tr>\n",
       "      <th>Biography</th>\n",
       "      <td>96</td>\n",
       "      <td>4</td>\n",
       "    </tr>\n",
       "    <tr>\n",
       "      <th>Comedy</th>\n",
       "      <td>80</td>\n",
       "      <td>20</td>\n",
       "    </tr>\n",
       "    <tr>\n",
       "      <th>Crime</th>\n",
       "      <td>80</td>\n",
       "      <td>20</td>\n",
       "    </tr>\n",
       "    <tr>\n",
       "      <th>Documentary</th>\n",
       "      <td>96</td>\n",
       "      <td>4</td>\n",
       "    </tr>\n",
       "    <tr>\n",
       "      <th>Drama</th>\n",
       "      <td>68</td>\n",
       "      <td>32</td>\n",
       "    </tr>\n",
       "    <tr>\n",
       "      <th>Family</th>\n",
       "      <td>96</td>\n",
       "      <td>4</td>\n",
       "    </tr>\n",
       "    <tr>\n",
       "      <th>Fantasy</th>\n",
       "      <td>84</td>\n",
       "      <td>16</td>\n",
       "    </tr>\n",
       "    <tr>\n",
       "      <th>Horror</th>\n",
       "      <td>96</td>\n",
       "      <td>4</td>\n",
       "    </tr>\n",
       "    <tr>\n",
       "      <th>Music</th>\n",
       "      <td>96</td>\n",
       "      <td>4</td>\n",
       "    </tr>\n",
       "    <tr>\n",
       "      <th>Musical</th>\n",
       "      <td>96</td>\n",
       "      <td>4</td>\n",
       "    </tr>\n",
       "    <tr>\n",
       "      <th>Romance</th>\n",
       "      <td>76</td>\n",
       "      <td>24</td>\n",
       "    </tr>\n",
       "    <tr>\n",
       "      <th>Sci-Fi</th>\n",
       "      <td>76</td>\n",
       "      <td>24</td>\n",
       "    </tr>\n",
       "    <tr>\n",
       "      <th>Short</th>\n",
       "      <td>92</td>\n",
       "      <td>8</td>\n",
       "    </tr>\n",
       "    <tr>\n",
       "      <th>Sport</th>\n",
       "      <td>96</td>\n",
       "      <td>4</td>\n",
       "    </tr>\n",
       "    <tr>\n",
       "      <th>Thriller</th>\n",
       "      <td>80</td>\n",
       "      <td>20</td>\n",
       "    </tr>\n",
       "    <tr>\n",
       "      <th>War</th>\n",
       "      <td>96</td>\n",
       "      <td>4</td>\n",
       "    </tr>\n",
       "  </tbody>\n",
       "</table>\n",
       "</div>"
      ],
      "text/plain": [
       "             False  True \n",
       "Action          56     44\n",
       "Adventure       56     44\n",
       "Animation       88     12\n",
       "Biography       96      4\n",
       "Comedy          80     20\n",
       "Crime           80     20\n",
       "Documentary     96      4\n",
       "Drama           68     32\n",
       "Family          96      4\n",
       "Fantasy         84     16\n",
       "Horror          96      4\n",
       "Music           96      4\n",
       "Musical         96      4\n",
       "Romance         76     24\n",
       "Sci-Fi          76     24\n",
       "Short           92      8\n",
       "Sport           96      4\n",
       "Thriller        80     20\n",
       "War             96      4"
      ]
     },
     "execution_count": 35,
     "metadata": {},
     "output_type": "execute_result"
    }
   ],
   "source": [
    "imdb_genre_df = imdb_movies[imdb_genre].apply(pd.value_counts).transpose()\n",
    "imdb_genre_df"
   ]
  },
  {
   "cell_type": "code",
   "execution_count": 36,
   "metadata": {
    "collapsed": false
   },
   "outputs": [
    {
     "data": {
      "text/plain": [
       "2.96"
      ]
     },
     "execution_count": 36,
     "metadata": {},
     "output_type": "execute_result"
    }
   ],
   "source": [
    "np.mean(imdb_movies[u'genre_num'])"
   ]
  },
  {
   "cell_type": "markdown",
   "metadata": {},
   "source": [
    "## Observations on genre list\n",
    "\n",
    "1. The genre lists between IMDB and TMDB are very similiar so far. Perhaps it is because we have extracted the same movie.\n",
    "2. A movie has 3 genres on average.\n",
    "3. Half of the genres(ex. Documentary and War) have only a few movies. One-vs-all approach may not be good."
   ]
  },
  {
   "cell_type": "markdown",
   "metadata": {
    "collapsed": true
   },
   "source": [
    "## EDA by Ai"
   ]
  },
  {
   "cell_type": "code",
   "execution_count": 37,
   "metadata": {
    "collapsed": false
   },
   "outputs": [
    {
     "name": "stdout",
     "output_type": "stream",
     "text": [
      "Dimension of TMDB dataset: (925, 45)\n"
     ]
    }
   ],
   "source": [
    "print \"Dimension of TMDB dataset:\" ,tmdb_movies.shape"
   ]
  },
  {
   "cell_type": "code",
   "execution_count": 38,
   "metadata": {
    "collapsed": false
   },
   "outputs": [
    {
     "name": "stdout",
     "output_type": "stream",
     "text": [
      "Dimension of IMDB dataset: (100, 106)\n"
     ]
    }
   ],
   "source": [
    "print \"Dimension of IMDB dataset:\" ,imdb_movies.shape"
   ]
  },
  {
   "cell_type": "code",
   "execution_count": 58,
   "metadata": {
    "collapsed": false
   },
   "outputs": [
    {
     "data": {
      "text/plain": [
       "array([u'adult', u'backdrop_path', u'belongs_to_collection', u'budget',\n",
       "       u'genres', u'homepage', u'id', u'imdb_id', u'original_language',\n",
       "       u'original_title', u'overview', u'popularity', u'poster_path',\n",
       "       u'production_companies', u'production_countries', u'release_date',\n",
       "       u'revenue', u'runtime', u'spoken_languages', u'status', u'tagline',\n",
       "       u'title', u'video', u'vote_average', u'vote_count', u'genre_num',\n",
       "       u'Action', u'Adventure', u'Animation', u'Comedy', u'Crime',\n",
       "       u'Documentary', u'Drama', u'Family', u'Fantasy', u'Foreign',\n",
       "       u'History', u'Horror', u'Music', u'Mystery', u'Romance',\n",
       "       u'Science Fiction', u'Thriller', u'War', u'Western'], dtype=object)"
      ]
     },
     "execution_count": 58,
     "metadata": {},
     "output_type": "execute_result"
    }
   ],
   "source": [
    "tmdb_movies.columns.values"
   ]
  },
  {
   "cell_type": "code",
   "execution_count": 17,
   "metadata": {
    "collapsed": false
   },
   "outputs": [
    {
     "data": {
      "text/html": [
       "<div>\n",
       "<table border=\"1\" class=\"dataframe\">\n",
       "  <thead>\n",
       "    <tr style=\"text-align: right;\">\n",
       "      <th></th>\n",
       "      <th>adult</th>\n",
       "      <th>backdrop_path</th>\n",
       "      <th>belongs_to_collection</th>\n",
       "      <th>budget</th>\n",
       "      <th>genres</th>\n",
       "      <th>homepage</th>\n",
       "      <th>id</th>\n",
       "      <th>imdb_id</th>\n",
       "      <th>original_language</th>\n",
       "      <th>original_title</th>\n",
       "      <th>...</th>\n",
       "      <th>Foreign</th>\n",
       "      <th>History</th>\n",
       "      <th>Horror</th>\n",
       "      <th>Music</th>\n",
       "      <th>Mystery</th>\n",
       "      <th>Romance</th>\n",
       "      <th>Science Fiction</th>\n",
       "      <th>Thriller</th>\n",
       "      <th>War</th>\n",
       "      <th>Western</th>\n",
       "    </tr>\n",
       "  </thead>\n",
       "  <tbody>\n",
       "    <tr>\n",
       "      <th>10003</th>\n",
       "      <td>False</td>\n",
       "      <td>/lJnl8xIhplfzUBtlJLsWBwvXVBj.jpg</td>\n",
       "      <td>The Saint Collection</td>\n",
       "      <td>68000000</td>\n",
       "      <td>[Thriller, Action, Romance, Science Fiction, A...</td>\n",
       "      <td></td>\n",
       "      <td>10003</td>\n",
       "      <td>tt0120053</td>\n",
       "      <td>en</td>\n",
       "      <td>The Saint</td>\n",
       "      <td>...</td>\n",
       "      <td>False</td>\n",
       "      <td>False</td>\n",
       "      <td>False</td>\n",
       "      <td>False</td>\n",
       "      <td>False</td>\n",
       "      <td>True</td>\n",
       "      <td>True</td>\n",
       "      <td>True</td>\n",
       "      <td>False</td>\n",
       "      <td>False</td>\n",
       "    </tr>\n",
       "    <tr>\n",
       "      <th>10005</th>\n",
       "      <td>False</td>\n",
       "      <td>/u7IzK6tISpsSuNkWMowl17gSA4e.jpg</td>\n",
       "      <td>Behind Enemy Lines Collection</td>\n",
       "      <td>0</td>\n",
       "      <td>[Action, Adventure, Thriller]</td>\n",
       "      <td>http://www.foxhome.com/behindenemylinesiiaxiso...</td>\n",
       "      <td>10005</td>\n",
       "      <td>tt0497329</td>\n",
       "      <td>en</td>\n",
       "      <td>Behind Enemy Lines II: Axis of Evil</td>\n",
       "      <td>...</td>\n",
       "      <td>False</td>\n",
       "      <td>False</td>\n",
       "      <td>False</td>\n",
       "      <td>False</td>\n",
       "      <td>False</td>\n",
       "      <td>False</td>\n",
       "      <td>False</td>\n",
       "      <td>True</td>\n",
       "      <td>False</td>\n",
       "      <td>False</td>\n",
       "    </tr>\n",
       "    <tr>\n",
       "      <th>10007</th>\n",
       "      <td>False</td>\n",
       "      <td>/l9fdcaqaQQLE2K8cYwfoIPXi0i7.jpg</td>\n",
       "      <td>See No Evil Collection</td>\n",
       "      <td>8000000</td>\n",
       "      <td>[Horror, Thriller]</td>\n",
       "      <td></td>\n",
       "      <td>10007</td>\n",
       "      <td>tt0437179</td>\n",
       "      <td>en</td>\n",
       "      <td>See No Evil</td>\n",
       "      <td>...</td>\n",
       "      <td>False</td>\n",
       "      <td>False</td>\n",
       "      <td>True</td>\n",
       "      <td>False</td>\n",
       "      <td>False</td>\n",
       "      <td>False</td>\n",
       "      <td>False</td>\n",
       "      <td>True</td>\n",
       "      <td>False</td>\n",
       "      <td>False</td>\n",
       "    </tr>\n",
       "    <tr>\n",
       "      <th>10009</th>\n",
       "      <td>False</td>\n",
       "      <td>/fAzT4AboZXP2Sj3zE2HcQ7qjMi.jpg</td>\n",
       "      <td>Brother Bear Collection</td>\n",
       "      <td>100000000</td>\n",
       "      <td>[Adventure, Animation, Family]</td>\n",
       "      <td>http://movies.disney.com/brother-bear</td>\n",
       "      <td>10009</td>\n",
       "      <td>tt0328880</td>\n",
       "      <td>en</td>\n",
       "      <td>Brother Bear</td>\n",
       "      <td>...</td>\n",
       "      <td>False</td>\n",
       "      <td>False</td>\n",
       "      <td>False</td>\n",
       "      <td>False</td>\n",
       "      <td>False</td>\n",
       "      <td>False</td>\n",
       "      <td>False</td>\n",
       "      <td>False</td>\n",
       "      <td>False</td>\n",
       "      <td>False</td>\n",
       "    </tr>\n",
       "    <tr>\n",
       "      <th>10010</th>\n",
       "      <td>False</td>\n",
       "      <td>/zhMiJmPuX2o2bbXWWZNUgVbw3OM.jpg</td>\n",
       "      <td>Brother Bear Collection</td>\n",
       "      <td>0</td>\n",
       "      <td>[Adventure, Animation, Family]</td>\n",
       "      <td>http://movies.disney.com/brother-bear-2</td>\n",
       "      <td>10010</td>\n",
       "      <td>tt0465925</td>\n",
       "      <td>en</td>\n",
       "      <td>Brother Bear 2</td>\n",
       "      <td>...</td>\n",
       "      <td>False</td>\n",
       "      <td>False</td>\n",
       "      <td>False</td>\n",
       "      <td>False</td>\n",
       "      <td>False</td>\n",
       "      <td>False</td>\n",
       "      <td>False</td>\n",
       "      <td>False</td>\n",
       "      <td>False</td>\n",
       "      <td>False</td>\n",
       "    </tr>\n",
       "  </tbody>\n",
       "</table>\n",
       "<p>5 rows × 45 columns</p>\n",
       "</div>"
      ],
      "text/plain": [
       "       adult                     backdrop_path          belongs_to_collection  \\\n",
       "10003  False  /lJnl8xIhplfzUBtlJLsWBwvXVBj.jpg           The Saint Collection   \n",
       "10005  False  /u7IzK6tISpsSuNkWMowl17gSA4e.jpg  Behind Enemy Lines Collection   \n",
       "10007  False  /l9fdcaqaQQLE2K8cYwfoIPXi0i7.jpg         See No Evil Collection   \n",
       "10009  False   /fAzT4AboZXP2Sj3zE2HcQ7qjMi.jpg        Brother Bear Collection   \n",
       "10010  False  /zhMiJmPuX2o2bbXWWZNUgVbw3OM.jpg        Brother Bear Collection   \n",
       "\n",
       "          budget                                             genres  \\\n",
       "10003   68000000  [Thriller, Action, Romance, Science Fiction, A...   \n",
       "10005          0                      [Action, Adventure, Thriller]   \n",
       "10007    8000000                                 [Horror, Thriller]   \n",
       "10009  100000000                     [Adventure, Animation, Family]   \n",
       "10010          0                     [Adventure, Animation, Family]   \n",
       "\n",
       "                                                homepage     id    imdb_id  \\\n",
       "10003                                                     10003  tt0120053   \n",
       "10005  http://www.foxhome.com/behindenemylinesiiaxiso...  10005  tt0497329   \n",
       "10007                                                     10007  tt0437179   \n",
       "10009              http://movies.disney.com/brother-bear  10009  tt0328880   \n",
       "10010            http://movies.disney.com/brother-bear-2  10010  tt0465925   \n",
       "\n",
       "      original_language                       original_title   ...   Foreign  \\\n",
       "10003                en                            The Saint   ...     False   \n",
       "10005                en  Behind Enemy Lines II: Axis of Evil   ...     False   \n",
       "10007                en                          See No Evil   ...     False   \n",
       "10009                en                         Brother Bear   ...     False   \n",
       "10010                en                       Brother Bear 2   ...     False   \n",
       "\n",
       "       History Horror  Music Mystery Romance  Science Fiction  Thriller  \\\n",
       "10003    False  False  False   False    True             True      True   \n",
       "10005    False  False  False   False   False            False      True   \n",
       "10007    False   True  False   False   False            False      True   \n",
       "10009    False  False  False   False   False            False     False   \n",
       "10010    False  False  False   False   False            False     False   \n",
       "\n",
       "         War Western  \n",
       "10003  False   False  \n",
       "10005  False   False  \n",
       "10007  False   False  \n",
       "10009  False   False  \n",
       "10010  False   False  \n",
       "\n",
       "[5 rows x 45 columns]"
      ]
     },
     "execution_count": 17,
     "metadata": {},
     "output_type": "execute_result"
    }
   ],
   "source": [
    "tmdb_movies.head(5)"
   ]
  },
  {
   "cell_type": "code",
   "execution_count": 18,
   "metadata": {
    "collapsed": false
   },
   "outputs": [
    {
     "data": {
      "text/html": [
       "<div>\n",
       "<table border=\"1\" class=\"dataframe\">\n",
       "  <thead>\n",
       "    <tr style=\"text-align: right;\">\n",
       "      <th></th>\n",
       "      <th>actors</th>\n",
       "      <th>actresses</th>\n",
       "      <th>aka</th>\n",
       "      <th>also known as</th>\n",
       "      <th>amazon review</th>\n",
       "      <th>art direction by</th>\n",
       "      <th>casting</th>\n",
       "      <th>casting by</th>\n",
       "      <th>certificate</th>\n",
       "      <th>certification</th>\n",
       "      <th>...</th>\n",
       "      <th>Fantasy</th>\n",
       "      <th>Horror</th>\n",
       "      <th>Music</th>\n",
       "      <th>Musical</th>\n",
       "      <th>Romance</th>\n",
       "      <th>Sci-Fi</th>\n",
       "      <th>Short</th>\n",
       "      <th>Sport</th>\n",
       "      <th>Thriller</th>\n",
       "      <th>War</th>\n",
       "    </tr>\n",
       "  </thead>\n",
       "  <tbody>\n",
       "    <tr>\n",
       "      <th>0</th>\n",
       "      <td>[{u'personID': u'0000552', u'name': u'Eddie Mu...</td>\n",
       "      <td>[{u'personID': u'0000552', u'name': u'Eddie Mu...</td>\n",
       "      <td>[Un detective suelto en Hollywood::Argentina, ...</td>\n",
       "      <td>[Un detective suelto en Hollywood::Argentina, ...</td>\n",
       "      <td>NaN</td>\n",
       "      <td>[{u'personID': u'0613468', u'name': u'James J....</td>\n",
       "      <td>[{u'personID': u'0799557', u'name': u'Margery ...</td>\n",
       "      <td>[{u'personID': u'0799557', u'name': u'Margery ...</td>\n",
       "      <td>[Argentina:16, Australia:M, Brazil:12, Canada:...</td>\n",
       "      <td>[Argentina:16, Australia:M, Brazil:12, Canada:...</td>\n",
       "      <td>...</td>\n",
       "      <td>False</td>\n",
       "      <td>False</td>\n",
       "      <td>False</td>\n",
       "      <td>False</td>\n",
       "      <td>False</td>\n",
       "      <td>False</td>\n",
       "      <td>False</td>\n",
       "      <td>False</td>\n",
       "      <td>False</td>\n",
       "      <td>False</td>\n",
       "    </tr>\n",
       "    <tr>\n",
       "      <th>1</th>\n",
       "      <td>[{u'personID': u'0000160', u'name': u'Ethan Ha...</td>\n",
       "      <td>[{u'personID': u'0000160', u'name': u'Ethan Ha...</td>\n",
       "      <td>[Antes del atardecer::Argentina, International...</td>\n",
       "      <td>[Antes del atardecer::Argentina, International...</td>\n",
       "      <td>NaN</td>\n",
       "      <td>None</td>\n",
       "      <td>None</td>\n",
       "      <td>None</td>\n",
       "      <td>[Argentina:Atp, Australia:M, Austria:0, Brazil...</td>\n",
       "      <td>[Argentina:Atp, Australia:M, Austria:0, Brazil...</td>\n",
       "      <td>...</td>\n",
       "      <td>False</td>\n",
       "      <td>False</td>\n",
       "      <td>False</td>\n",
       "      <td>False</td>\n",
       "      <td>True</td>\n",
       "      <td>False</td>\n",
       "      <td>False</td>\n",
       "      <td>False</td>\n",
       "      <td>False</td>\n",
       "      <td>False</td>\n",
       "    </tr>\n",
       "    <tr>\n",
       "      <th>10</th>\n",
       "      <td>[{u'personID': u'0000136', u'name': u'Johnny D...</td>\n",
       "      <td>[{u'personID': u'0000136', u'name': u'Johnny D...</td>\n",
       "      <td>[P.O.T.C. 2::USA (promotional abbreviation), P...</td>\n",
       "      <td>[P.O.T.C. 2::USA (promotional abbreviation), P...</td>\n",
       "      <td>NaN</td>\n",
       "      <td>[{u'personID': u'0188692', u'name': u'Bruce Cr...</td>\n",
       "      <td>[{u'personID': u'0150522', u'name': u'Denise C...</td>\n",
       "      <td>[{u'personID': u'0150522', u'name': u'Denise C...</td>\n",
       "      <td>[Argentina:13, Australia:M, Brazil:12, Canada:...</td>\n",
       "      <td>[Argentina:13, Australia:M, Brazil:12, Canada:...</td>\n",
       "      <td>...</td>\n",
       "      <td>True</td>\n",
       "      <td>False</td>\n",
       "      <td>False</td>\n",
       "      <td>False</td>\n",
       "      <td>False</td>\n",
       "      <td>False</td>\n",
       "      <td>False</td>\n",
       "      <td>False</td>\n",
       "      <td>False</td>\n",
       "      <td>False</td>\n",
       "    </tr>\n",
       "    <tr>\n",
       "      <th>11</th>\n",
       "      <td>[{u'personID': u'0000235', u'name': u'Uma Thur...</td>\n",
       "      <td>[{u'personID': u'0000235', u'name': u'Uma Thur...</td>\n",
       "      <td>[Kill Bill::USA (informal short title), Kill B...</td>\n",
       "      <td>[Kill Bill::USA (informal short title), Kill B...</td>\n",
       "      <td>NaN</td>\n",
       "      <td>[{u'personID': u'0103011', u'name': u'Daniel B...</td>\n",
       "      <td>[{u'personID': u'0535338', u'name': u'Koko Mae...</td>\n",
       "      <td>[{u'personID': u'0535338', u'name': u'Koko Mae...</td>\n",
       "      <td>[Argentina:16, Australia:R18+, Brazil:18, Cana...</td>\n",
       "      <td>[Argentina:16, Australia:R18+, Brazil:18, Cana...</td>\n",
       "      <td>...</td>\n",
       "      <td>False</td>\n",
       "      <td>False</td>\n",
       "      <td>False</td>\n",
       "      <td>False</td>\n",
       "      <td>False</td>\n",
       "      <td>False</td>\n",
       "      <td>False</td>\n",
       "      <td>False</td>\n",
       "      <td>True</td>\n",
       "      <td>False</td>\n",
       "    </tr>\n",
       "    <tr>\n",
       "      <th>12</th>\n",
       "      <td>[{u'personID': u'0671231', u'name': u'Matti Pe...</td>\n",
       "      <td>[{u'personID': u'0671231', u'name': u'Matti Pe...</td>\n",
       "      <td>[Shadows in Paradise::International (English t...</td>\n",
       "      <td>[Shadows in Paradise::International (English t...</td>\n",
       "      <td>NaN</td>\n",
       "      <td>[{u'personID': u'0383991', u'name': u'Pertti H...</td>\n",
       "      <td>None</td>\n",
       "      <td>None</td>\n",
       "      <td>[Finland:S, Iceland:L, Singapore:PG, UK:12::(v...</td>\n",
       "      <td>[Finland:S, Iceland:L, Singapore:PG, UK:12::(v...</td>\n",
       "      <td>...</td>\n",
       "      <td>False</td>\n",
       "      <td>False</td>\n",
       "      <td>False</td>\n",
       "      <td>False</td>\n",
       "      <td>True</td>\n",
       "      <td>False</td>\n",
       "      <td>False</td>\n",
       "      <td>False</td>\n",
       "      <td>False</td>\n",
       "      <td>False</td>\n",
       "    </tr>\n",
       "  </tbody>\n",
       "</table>\n",
       "<p>5 rows × 106 columns</p>\n",
       "</div>"
      ],
      "text/plain": [
       "                                               actors  \\\n",
       "0   [{u'personID': u'0000552', u'name': u'Eddie Mu...   \n",
       "1   [{u'personID': u'0000160', u'name': u'Ethan Ha...   \n",
       "10  [{u'personID': u'0000136', u'name': u'Johnny D...   \n",
       "11  [{u'personID': u'0000235', u'name': u'Uma Thur...   \n",
       "12  [{u'personID': u'0671231', u'name': u'Matti Pe...   \n",
       "\n",
       "                                            actresses  \\\n",
       "0   [{u'personID': u'0000552', u'name': u'Eddie Mu...   \n",
       "1   [{u'personID': u'0000160', u'name': u'Ethan Ha...   \n",
       "10  [{u'personID': u'0000136', u'name': u'Johnny D...   \n",
       "11  [{u'personID': u'0000235', u'name': u'Uma Thur...   \n",
       "12  [{u'personID': u'0671231', u'name': u'Matti Pe...   \n",
       "\n",
       "                                                  aka  \\\n",
       "0   [Un detective suelto en Hollywood::Argentina, ...   \n",
       "1   [Antes del atardecer::Argentina, International...   \n",
       "10  [P.O.T.C. 2::USA (promotional abbreviation), P...   \n",
       "11  [Kill Bill::USA (informal short title), Kill B...   \n",
       "12  [Shadows in Paradise::International (English t...   \n",
       "\n",
       "                                        also known as  amazon review  \\\n",
       "0   [Un detective suelto en Hollywood::Argentina, ...            NaN   \n",
       "1   [Antes del atardecer::Argentina, International...            NaN   \n",
       "10  [P.O.T.C. 2::USA (promotional abbreviation), P...            NaN   \n",
       "11  [Kill Bill::USA (informal short title), Kill B...            NaN   \n",
       "12  [Shadows in Paradise::International (English t...            NaN   \n",
       "\n",
       "                                     art direction by  \\\n",
       "0   [{u'personID': u'0613468', u'name': u'James J....   \n",
       "1                                                None   \n",
       "10  [{u'personID': u'0188692', u'name': u'Bruce Cr...   \n",
       "11  [{u'personID': u'0103011', u'name': u'Daniel B...   \n",
       "12  [{u'personID': u'0383991', u'name': u'Pertti H...   \n",
       "\n",
       "                                              casting  \\\n",
       "0   [{u'personID': u'0799557', u'name': u'Margery ...   \n",
       "1                                                None   \n",
       "10  [{u'personID': u'0150522', u'name': u'Denise C...   \n",
       "11  [{u'personID': u'0535338', u'name': u'Koko Mae...   \n",
       "12                                               None   \n",
       "\n",
       "                                           casting by  \\\n",
       "0   [{u'personID': u'0799557', u'name': u'Margery ...   \n",
       "1                                                None   \n",
       "10  [{u'personID': u'0150522', u'name': u'Denise C...   \n",
       "11  [{u'personID': u'0535338', u'name': u'Koko Mae...   \n",
       "12                                               None   \n",
       "\n",
       "                                          certificate  \\\n",
       "0   [Argentina:16, Australia:M, Brazil:12, Canada:...   \n",
       "1   [Argentina:Atp, Australia:M, Austria:0, Brazil...   \n",
       "10  [Argentina:13, Australia:M, Brazil:12, Canada:...   \n",
       "11  [Argentina:16, Australia:R18+, Brazil:18, Cana...   \n",
       "12  [Finland:S, Iceland:L, Singapore:PG, UK:12::(v...   \n",
       "\n",
       "                                        certification  ...   Fantasy Horror  \\\n",
       "0   [Argentina:16, Australia:M, Brazil:12, Canada:...  ...     False  False   \n",
       "1   [Argentina:Atp, Australia:M, Austria:0, Brazil...  ...     False  False   \n",
       "10  [Argentina:13, Australia:M, Brazil:12, Canada:...  ...      True  False   \n",
       "11  [Argentina:16, Australia:R18+, Brazil:18, Cana...  ...     False  False   \n",
       "12  [Finland:S, Iceland:L, Singapore:PG, UK:12::(v...  ...     False  False   \n",
       "\n",
       "    Music Musical Romance Sci-Fi  Short  Sport Thriller    War  \n",
       "0   False   False   False  False  False  False    False  False  \n",
       "1   False   False    True  False  False  False    False  False  \n",
       "10  False   False   False  False  False  False    False  False  \n",
       "11  False   False   False  False  False  False     True  False  \n",
       "12  False   False    True  False  False  False    False  False  \n",
       "\n",
       "[5 rows x 106 columns]"
      ]
     },
     "execution_count": 18,
     "metadata": {},
     "output_type": "execute_result"
    }
   ],
   "source": [
    "imdb_movies.head(5)"
   ]
  },
  {
   "cell_type": "markdown",
   "metadata": {},
   "source": [
    "## 1. TMDB"
   ]
  },
  {
   "cell_type": "markdown",
   "metadata": {},
   "source": [
    "### (1) Numeric Features"
   ]
  },
  {
   "cell_type": "code",
   "execution_count": 39,
   "metadata": {
    "collapsed": false
   },
   "outputs": [
    {
     "data": {
      "text/html": [
       "<div>\n",
       "<table border=\"1\" class=\"dataframe\">\n",
       "  <thead>\n",
       "    <tr style=\"text-align: right;\">\n",
       "      <th></th>\n",
       "      <th>budget</th>\n",
       "      <th>id</th>\n",
       "      <th>popularity</th>\n",
       "      <th>revenue</th>\n",
       "      <th>runtime</th>\n",
       "      <th>vote_average</th>\n",
       "      <th>vote_count</th>\n",
       "      <th>genre_num</th>\n",
       "    </tr>\n",
       "  </thead>\n",
       "  <tbody>\n",
       "    <tr>\n",
       "      <th>count</th>\n",
       "      <td>9.250000e+02</td>\n",
       "      <td>925.000000</td>\n",
       "      <td>925.000000</td>\n",
       "      <td>9.250000e+02</td>\n",
       "      <td>925.000000</td>\n",
       "      <td>925.000000</td>\n",
       "      <td>925.000000</td>\n",
       "      <td>925.000000</td>\n",
       "    </tr>\n",
       "    <tr>\n",
       "      <th>mean</th>\n",
       "      <td>2.590425e+07</td>\n",
       "      <td>4357.087568</td>\n",
       "      <td>1.615912</td>\n",
       "      <td>1.158939e+08</td>\n",
       "      <td>103.463784</td>\n",
       "      <td>6.015568</td>\n",
       "      <td>651.581622</td>\n",
       "      <td>2.667027</td>\n",
       "    </tr>\n",
       "    <tr>\n",
       "      <th>std</th>\n",
       "      <td>4.402761e+07</td>\n",
       "      <td>3571.332019</td>\n",
       "      <td>1.615756</td>\n",
       "      <td>1.978777e+08</td>\n",
       "      <td>23.359000</td>\n",
       "      <td>1.519119</td>\n",
       "      <td>1091.690985</td>\n",
       "      <td>1.212063</td>\n",
       "    </tr>\n",
       "    <tr>\n",
       "      <th>min</th>\n",
       "      <td>0.000000e+00</td>\n",
       "      <td>2.000000</td>\n",
       "      <td>0.000001</td>\n",
       "      <td>0.000000e+00</td>\n",
       "      <td>21.000000</td>\n",
       "      <td>0.000000</td>\n",
       "      <td>0.000000</td>\n",
       "      <td>0.000000</td>\n",
       "    </tr>\n",
       "    <tr>\n",
       "      <th>25%</th>\n",
       "      <td>0.000000e+00</td>\n",
       "      <td>927.000000</td>\n",
       "      <td>0.414647</td>\n",
       "      <td>0.000000e+00</td>\n",
       "      <td>90.000000</td>\n",
       "      <td>5.600000</td>\n",
       "      <td>32.000000</td>\n",
       "      <td>2.000000</td>\n",
       "    </tr>\n",
       "    <tr>\n",
       "      <th>50%</th>\n",
       "      <td>5.000000e+06</td>\n",
       "      <td>3124.000000</td>\n",
       "      <td>1.257570</td>\n",
       "      <td>2.550451e+07</td>\n",
       "      <td>100.000000</td>\n",
       "      <td>6.300000</td>\n",
       "      <td>241.000000</td>\n",
       "      <td>3.000000</td>\n",
       "    </tr>\n",
       "    <tr>\n",
       "      <th>75%</th>\n",
       "      <td>3.000000e+07</td>\n",
       "      <td>8467.000000</td>\n",
       "      <td>2.193749</td>\n",
       "      <td>1.417747e+08</td>\n",
       "      <td>115.000000</td>\n",
       "      <td>6.900000</td>\n",
       "      <td>720.000000</td>\n",
       "      <td>3.000000</td>\n",
       "    </tr>\n",
       "    <tr>\n",
       "      <th>max</th>\n",
       "      <td>3.800000e+08</td>\n",
       "      <td>10010.000000</td>\n",
       "      <td>13.130939</td>\n",
       "      <td>1.118889e+09</td>\n",
       "      <td>292.000000</td>\n",
       "      <td>9.000000</td>\n",
       "      <td>9653.000000</td>\n",
       "      <td>7.000000</td>\n",
       "    </tr>\n",
       "  </tbody>\n",
       "</table>\n",
       "</div>"
      ],
      "text/plain": [
       "             budget            id  popularity       revenue     runtime  \\\n",
       "count  9.250000e+02    925.000000  925.000000  9.250000e+02  925.000000   \n",
       "mean   2.590425e+07   4357.087568    1.615912  1.158939e+08  103.463784   \n",
       "std    4.402761e+07   3571.332019    1.615756  1.978777e+08   23.359000   \n",
       "min    0.000000e+00      2.000000    0.000001  0.000000e+00   21.000000   \n",
       "25%    0.000000e+00    927.000000    0.414647  0.000000e+00   90.000000   \n",
       "50%    5.000000e+06   3124.000000    1.257570  2.550451e+07  100.000000   \n",
       "75%    3.000000e+07   8467.000000    2.193749  1.417747e+08  115.000000   \n",
       "max    3.800000e+08  10010.000000   13.130939  1.118889e+09  292.000000   \n",
       "\n",
       "       vote_average   vote_count   genre_num  \n",
       "count    925.000000   925.000000  925.000000  \n",
       "mean       6.015568   651.581622    2.667027  \n",
       "std        1.519119  1091.690985    1.212063  \n",
       "min        0.000000     0.000000    0.000000  \n",
       "25%        5.600000    32.000000    2.000000  \n",
       "50%        6.300000   241.000000    3.000000  \n",
       "75%        6.900000   720.000000    3.000000  \n",
       "max        9.000000  9653.000000    7.000000  "
      ]
     },
     "execution_count": 39,
     "metadata": {},
     "output_type": "execute_result"
    }
   ],
   "source": [
    "numeric=tmdb_movies.select_dtypes(include = ['float64', 'int64'])\n",
    "numeric.columns.values\n",
    "numeric.describe()"
   ]
  },
  {
   "cell_type": "code",
   "execution_count": 40,
   "metadata": {
    "collapsed": false
   },
   "outputs": [
    {
     "name": "stdout",
     "output_type": "stream",
     "text": [
      "Number of numerical features: 6\n"
     ]
    },
    {
     "data": {
      "text/html": [
       "<div>\n",
       "<table border=\"1\" class=\"dataframe\">\n",
       "  <thead>\n",
       "    <tr style=\"text-align: right;\">\n",
       "      <th></th>\n",
       "      <th>budget</th>\n",
       "      <th>popularity</th>\n",
       "      <th>revenue</th>\n",
       "      <th>runtime</th>\n",
       "      <th>vote_average</th>\n",
       "      <th>vote_count</th>\n",
       "    </tr>\n",
       "  </thead>\n",
       "  <tbody>\n",
       "    <tr>\n",
       "      <th>count</th>\n",
       "      <td>9.250000e+02</td>\n",
       "      <td>925.000000</td>\n",
       "      <td>9.250000e+02</td>\n",
       "      <td>925.000000</td>\n",
       "      <td>925.000000</td>\n",
       "      <td>925.000000</td>\n",
       "    </tr>\n",
       "    <tr>\n",
       "      <th>mean</th>\n",
       "      <td>2.590425e+07</td>\n",
       "      <td>1.615912</td>\n",
       "      <td>1.158939e+08</td>\n",
       "      <td>103.463784</td>\n",
       "      <td>6.015568</td>\n",
       "      <td>651.581622</td>\n",
       "    </tr>\n",
       "    <tr>\n",
       "      <th>std</th>\n",
       "      <td>4.402761e+07</td>\n",
       "      <td>1.615756</td>\n",
       "      <td>1.978777e+08</td>\n",
       "      <td>23.359000</td>\n",
       "      <td>1.519119</td>\n",
       "      <td>1091.690985</td>\n",
       "    </tr>\n",
       "    <tr>\n",
       "      <th>min</th>\n",
       "      <td>0.000000e+00</td>\n",
       "      <td>0.000001</td>\n",
       "      <td>0.000000e+00</td>\n",
       "      <td>21.000000</td>\n",
       "      <td>0.000000</td>\n",
       "      <td>0.000000</td>\n",
       "    </tr>\n",
       "    <tr>\n",
       "      <th>25%</th>\n",
       "      <td>0.000000e+00</td>\n",
       "      <td>0.414647</td>\n",
       "      <td>0.000000e+00</td>\n",
       "      <td>90.000000</td>\n",
       "      <td>5.600000</td>\n",
       "      <td>32.000000</td>\n",
       "    </tr>\n",
       "    <tr>\n",
       "      <th>50%</th>\n",
       "      <td>5.000000e+06</td>\n",
       "      <td>1.257570</td>\n",
       "      <td>2.550451e+07</td>\n",
       "      <td>100.000000</td>\n",
       "      <td>6.300000</td>\n",
       "      <td>241.000000</td>\n",
       "    </tr>\n",
       "    <tr>\n",
       "      <th>75%</th>\n",
       "      <td>3.000000e+07</td>\n",
       "      <td>2.193749</td>\n",
       "      <td>1.417747e+08</td>\n",
       "      <td>115.000000</td>\n",
       "      <td>6.900000</td>\n",
       "      <td>720.000000</td>\n",
       "    </tr>\n",
       "    <tr>\n",
       "      <th>max</th>\n",
       "      <td>3.800000e+08</td>\n",
       "      <td>13.130939</td>\n",
       "      <td>1.118889e+09</td>\n",
       "      <td>292.000000</td>\n",
       "      <td>9.000000</td>\n",
       "      <td>9653.000000</td>\n",
       "    </tr>\n",
       "  </tbody>\n",
       "</table>\n",
       "</div>"
      ],
      "text/plain": [
       "             budget  popularity       revenue     runtime  vote_average  \\\n",
       "count  9.250000e+02  925.000000  9.250000e+02  925.000000    925.000000   \n",
       "mean   2.590425e+07    1.615912  1.158939e+08  103.463784      6.015568   \n",
       "std    4.402761e+07    1.615756  1.978777e+08   23.359000      1.519119   \n",
       "min    0.000000e+00    0.000001  0.000000e+00   21.000000      0.000000   \n",
       "25%    0.000000e+00    0.414647  0.000000e+00   90.000000      5.600000   \n",
       "50%    5.000000e+06    1.257570  2.550451e+07  100.000000      6.300000   \n",
       "75%    3.000000e+07    2.193749  1.417747e+08  115.000000      6.900000   \n",
       "max    3.800000e+08   13.130939  1.118889e+09  292.000000      9.000000   \n",
       "\n",
       "        vote_count  \n",
       "count   925.000000  \n",
       "mean    651.581622  \n",
       "std    1091.690985  \n",
       "min       0.000000  \n",
       "25%      32.000000  \n",
       "50%     241.000000  \n",
       "75%     720.000000  \n",
       "max    9653.000000  "
      ]
     },
     "execution_count": 40,
     "metadata": {},
     "output_type": "execute_result"
    }
   ],
   "source": [
    "#Delete id and genre_num, which are not original features\n",
    "numeric=numeric.drop(numeric.columns[[1,7]], axis=1)\n",
    "print \"Number of numerical features:\", numeric.shape[1]\n",
    "numeric.describe()"
   ]
  },
  {
   "cell_type": "markdown",
   "metadata": {},
   "source": [
    "### Check Missing Value"
   ]
  },
  {
   "cell_type": "code",
   "execution_count": 41,
   "metadata": {
    "collapsed": false
   },
   "outputs": [
    {
     "name": "stdout",
     "output_type": "stream",
     "text": [
      "Number of missing values\n"
     ]
    },
    {
     "data": {
      "text/html": [
       "<div>\n",
       "<table border=\"1\" class=\"dataframe\">\n",
       "  <thead>\n",
       "    <tr style=\"text-align: right;\">\n",
       "      <th></th>\n",
       "      <th>Features</th>\n",
       "      <th>Missing</th>\n",
       "      <th>Missing Precentage</th>\n",
       "    </tr>\n",
       "  </thead>\n",
       "  <tbody>\n",
       "  </tbody>\n",
       "</table>\n",
       "</div>"
      ],
      "text/plain": [
       "Empty DataFrame\n",
       "Columns: [Features, Missing, Missing Precentage]\n",
       "Index: []"
      ]
     },
     "execution_count": 41,
     "metadata": {},
     "output_type": "execute_result"
    }
   ],
   "source": [
    "n_missing=[]\n",
    "p=[]\n",
    "for col in numeric:\n",
    "    n_missing.append(numeric[col].isnull().values.sum())\n",
    "    p.append((numeric[col].isnull().values.sum())/float(numeric.shape[0]))\n",
    "missing=pd.DataFrame({'Features': numeric.columns.values, 'Missing':n_missing, 'Missing Precentage':p })\n",
    "print \"Number of missing values\"\n",
    "missing[missing['Missing']!=0]"
   ]
  },
  {
   "cell_type": "code",
   "execution_count": 49,
   "metadata": {
    "collapsed": false
   },
   "outputs": [
    {
     "data": {
      "image/png": "[encoded data removed]",
      "text/plain": [
       "<matplotlib.figure.Figure at 0x10f97e6d0>"
      ]
     },
     "metadata": {},
     "output_type": "display_data"
    }
   ],
   "source": [
    "fig, ((ax1, ax2), (ax3, ax4), (ax5, ax6)) = plt.subplots(3, 2, figsize=(15, 15))\n",
    "ax1.set_title('budget',fontsize=25)\n",
    "ax1=ax1.hist(numeric['budget'].values,color='yellowgreen',bins=30)\n",
    "ax2.set_title('popularity',fontsize=25)\n",
    "ax2=ax2.hist(numeric['popularity'].values,color='skyblue', bins=30)\n",
    "ax3.set_title('revenue',fontsize=25)\n",
    "ax3=ax3.hist(numeric['revenue'].values,color='crimson', bins=30)\n",
    "ax4.set_title('runtime',fontsize=25)\n",
    "ax4=ax4.hist(numeric['runtime'].values, color='gold',bins=30)\n",
    "ax5.set_title('vote_average',fontsize=25)\n",
    "ax5=ax5.hist(numeric['vote_average'].values,color='crimson', bins=30)\n",
    "ax6.set_title('vote_count',fontsize=25)\n",
    "ax6=ax6.hist(numeric['vote_count'].values, color='gold',bins=30)\n",
    "plt.show()"
   ]
  },
  {
   "cell_type": "markdown",
   "metadata": {
    "collapsed": true
   },
   "source": [
    "### Correlation"
   ]
  },
  {
   "cell_type": "code",
   "execution_count": 50,
   "metadata": {
    "collapsed": false
   },
   "outputs": [],
   "source": [
    "corr = numeric.corr()"
   ]
  },
  {
   "cell_type": "code",
   "execution_count": 51,
   "metadata": {
    "collapsed": false
   },
   "outputs": [
    {
     "data": {
      "text/html": [
       "<div>\n",
       "<table border=\"1\" class=\"dataframe\">\n",
       "  <thead>\n",
       "    <tr style=\"text-align: right;\">\n",
       "      <th></th>\n",
       "      <th>budget</th>\n",
       "      <th>popularity</th>\n",
       "      <th>revenue</th>\n",
       "      <th>runtime</th>\n",
       "      <th>vote_average</th>\n",
       "      <th>vote_count</th>\n",
       "    </tr>\n",
       "  </thead>\n",
       "  <tbody>\n",
       "    <tr>\n",
       "      <th>budget</th>\n",
       "      <td>1.000000</td>\n",
       "      <td>0.586661</td>\n",
       "      <td>0.763849</td>\n",
       "      <td>0.369637</td>\n",
       "      <td>0.089803</td>\n",
       "      <td>0.602550</td>\n",
       "    </tr>\n",
       "    <tr>\n",
       "      <th>popularity</th>\n",
       "      <td>0.586661</td>\n",
       "      <td>1.000000</td>\n",
       "      <td>0.712083</td>\n",
       "      <td>0.369341</td>\n",
       "      <td>0.346313</td>\n",
       "      <td>0.838055</td>\n",
       "    </tr>\n",
       "    <tr>\n",
       "      <th>revenue</th>\n",
       "      <td>0.763849</td>\n",
       "      <td>0.712083</td>\n",
       "      <td>1.000000</td>\n",
       "      <td>0.376663</td>\n",
       "      <td>0.206086</td>\n",
       "      <td>0.792706</td>\n",
       "    </tr>\n",
       "    <tr>\n",
       "      <th>runtime</th>\n",
       "      <td>0.369637</td>\n",
       "      <td>0.369341</td>\n",
       "      <td>0.376663</td>\n",
       "      <td>1.000000</td>\n",
       "      <td>0.239471</td>\n",
       "      <td>0.390160</td>\n",
       "    </tr>\n",
       "    <tr>\n",
       "      <th>vote_average</th>\n",
       "      <td>0.089803</td>\n",
       "      <td>0.346313</td>\n",
       "      <td>0.206086</td>\n",
       "      <td>0.239471</td>\n",
       "      <td>1.000000</td>\n",
       "      <td>0.309466</td>\n",
       "    </tr>\n",
       "    <tr>\n",
       "      <th>vote_count</th>\n",
       "      <td>0.602550</td>\n",
       "      <td>0.838055</td>\n",
       "      <td>0.792706</td>\n",
       "      <td>0.390160</td>\n",
       "      <td>0.309466</td>\n",
       "      <td>1.000000</td>\n",
       "    </tr>\n",
       "  </tbody>\n",
       "</table>\n",
       "</div>"
      ],
      "text/plain": [
       "                budget  popularity   revenue   runtime  vote_average  \\\n",
       "budget        1.000000    0.586661  0.763849  0.369637      0.089803   \n",
       "popularity    0.586661    1.000000  0.712083  0.369341      0.346313   \n",
       "revenue       0.763849    0.712083  1.000000  0.376663      0.206086   \n",
       "runtime       0.369637    0.369341  0.376663  1.000000      0.239471   \n",
       "vote_average  0.089803    0.346313  0.206086  0.239471      1.000000   \n",
       "vote_count    0.602550    0.838055  0.792706  0.390160      0.309466   \n",
       "\n",
       "              vote_count  \n",
       "budget          0.602550  \n",
       "popularity      0.838055  \n",
       "revenue         0.792706  \n",
       "runtime         0.390160  \n",
       "vote_average    0.309466  \n",
       "vote_count      1.000000  "
      ]
     },
     "execution_count": 51,
     "metadata": {},
     "output_type": "execute_result"
    }
   ],
   "source": [
    "corr"
   ]
  },
  {
   "cell_type": "code",
   "execution_count": 54,
   "metadata": {
    "collapsed": false
   },
   "outputs": [
    {
     "data": {
      "image/png": "[encoded data removed]",
      "text/plain": [
       "<matplotlib.figure.Figure at 0x10f893610>"
      ]
     },
     "metadata": {},
     "output_type": "display_data"
    }
   ],
   "source": [
    "fig, ax = plt.subplots(1, 1, figsize=(8, 8))\n",
    "ax.pcolor(corr)\n",
    "ax.set_title('Heatmap of correlation matrix of numeric features')\n",
    "plt.colorbar(ax.pcolor(corr))\n",
    "ax.set_xticklabels(( 'budget', 'popularity', 'revenue', 'runtime', 'Tvote_average', 'vote_count'),rotation=60)\n",
    "ax.set_yticklabels(( 'budget', 'popularity', 'revenue', 'runtime', 'Tvote_average', 'vote_count'),rotation=60)\n",
    "plt.show()"
   ]
  },
  {
   "cell_type": "markdown",
   "metadata": {},
   "source": [
    "#### Dummy features"
   ]
  },
  {
   "cell_type": "code",
   "execution_count": 123,
   "metadata": {
    "collapsed": false
   },
   "outputs": [
    {
     "data": {
      "text/plain": [
       "<matplotlib.axes._subplots.AxesSubplot at 0x1135eb090>"
      ]
     },
     "execution_count": 123,
     "metadata": {},
     "output_type": "execute_result"
    },
    {
     "data": {
      "image/png": "[encoded data removed]",
      "text/plain": [
       "<matplotlib.figure.Figure at 0x118a2ce50>"
      ]
     },
     "metadata": {},
     "output_type": "display_data"
    }
   ],
   "source": [
    "fig, (ax1, ax2) = plt.subplots(1, 2, figsize=(10,4))\n",
    "sns.countplot(x = 'adult', data=tmdb_movies, ax=ax1)\n",
    "sns.countplot(x = 'video', data=tmdb_movies, ax=ax2)\n"
   ]
  },
  {
   "cell_type": "markdown",
   "metadata": {},
   "source": [
    "#### Time variable"
   ]
  },
  {
   "cell_type": "code",
   "execution_count": 77,
   "metadata": {
    "collapsed": false
   },
   "outputs": [
    {
     "data": {
      "text/plain": [
       "count            925\n",
       "unique           882\n",
       "top       1916-01-01\n",
       "freq               5\n",
       "Name: release_date, dtype: object"
      ]
     },
     "execution_count": 77,
     "metadata": {},
     "output_type": "execute_result"
    }
   ],
   "source": [
    "tmdb_movies['release_date'].describe()"
   ]
  },
  {
   "cell_type": "code",
   "execution_count": 106,
   "metadata": {
    "collapsed": false
   },
   "outputs": [
    {
     "name": "stderr",
     "output_type": "stream",
     "text": [
      "/Users/aixu/anaconda/lib/python2.7/site-packages/ipykernel/__main__.py:1: FutureWarning: the coerce=True keyword is deprecated, use errors='coerce' instead\n",
      "  if __name__ == '__main__':\n"
     ]
    }
   ],
   "source": [
    "tmdb_movies['release_date'] = pd.to_datetime(tmdb_movies['release_date'], coerce=True)"
   ]
  },
  {
   "cell_type": "code",
   "execution_count": 107,
   "metadata": {
    "collapsed": false
   },
   "outputs": [],
   "source": [
    "year = tmdb_movies['release_date'].dt.year"
   ]
  },
  {
   "cell_type": "code",
   "execution_count": 118,
   "metadata": {
    "collapsed": false
   },
   "outputs": [
    {
     "data": {
      "image/png": "[encoded data removed]",
      "text/plain": [
       "<matplotlib.figure.Figure at 0x118e98550>"
      ]
     },
     "metadata": {},
     "output_type": "display_data"
    }
   ],
   "source": [
    "fig, ax = plt.subplots(1, 1, figsize=(15,8))\n",
    "sns.countplot(x = year, ax=ax)\n",
    "ax.set_title(\"Count of Movies Released by Year\")\n",
    "xt = plt.xticks(rotation=45)"
   ]
  },
  {
   "cell_type": "markdown",
   "metadata": {},
   "source": [
    "### (2) Categorical Features"
   ]
  },
  {
   "cell_type": "code",
   "execution_count": 62,
   "metadata": {
    "collapsed": false
   },
   "outputs": [
    {
     "data": {
      "text/plain": [
       "array([u'backdrop_path', u'belongs_to_collection', u'genres', u'homepage',\n",
       "       u'imdb_id', u'original_language', u'original_title', u'overview',\n",
       "       u'poster_path', u'production_companies', u'production_countries',\n",
       "       u'release_date', u'spoken_languages', u'status', u'tagline',\n",
       "       u'title'], dtype=object)"
      ]
     },
     "execution_count": 62,
     "metadata": {},
     "output_type": "execute_result"
    }
   ],
   "source": [
    "categorical = tmdb_movies.select_dtypes(include = ['object'])\n",
    "categorical.columns.values"
   ]
  },
  {
   "cell_type": "code",
   "execution_count": 64,
   "metadata": {
    "collapsed": false
   },
   "outputs": [
    {
     "data": {
      "text/html": [
       "<div>\n",
       "<table border=\"1\" class=\"dataframe\">\n",
       "  <thead>\n",
       "    <tr style=\"text-align: right;\">\n",
       "      <th></th>\n",
       "      <th>backdrop_path</th>\n",
       "      <th>belongs_to_collection</th>\n",
       "      <th>genres</th>\n",
       "      <th>homepage</th>\n",
       "      <th>imdb_id</th>\n",
       "      <th>original_language</th>\n",
       "      <th>original_title</th>\n",
       "      <th>overview</th>\n",
       "      <th>poster_path</th>\n",
       "      <th>production_companies</th>\n",
       "      <th>production_countries</th>\n",
       "      <th>release_date</th>\n",
       "      <th>spoken_languages</th>\n",
       "      <th>status</th>\n",
       "      <th>tagline</th>\n",
       "      <th>title</th>\n",
       "    </tr>\n",
       "  </thead>\n",
       "  <tbody>\n",
       "    <tr>\n",
       "      <th>10003</th>\n",
       "      <td>/lJnl8xIhplfzUBtlJLsWBwvXVBj.jpg</td>\n",
       "      <td>The Saint Collection</td>\n",
       "      <td>[Thriller, Action, Romance, Science Fiction, A...</td>\n",
       "      <td></td>\n",
       "      <td>tt0120053</td>\n",
       "      <td>en</td>\n",
       "      <td>The Saint</td>\n",
       "      <td>Ivan Tretiak, Russian Mafia boss who wants to ...</td>\n",
       "      <td>/uA24D8JCg21RDINMZ3vFaQYdIzW.jpg</td>\n",
       "      <td>[Paramount Pictures, Mace Neufeld Productions,...</td>\n",
       "      <td>[United States of America]</td>\n",
       "      <td>1997-04-03</td>\n",
       "      <td>[English, Pусский]</td>\n",
       "      <td>Released</td>\n",
       "      <td>Never reveal your name. Never turn your back. ...</td>\n",
       "      <td>The Saint</td>\n",
       "    </tr>\n",
       "    <tr>\n",
       "      <th>10005</th>\n",
       "      <td>/u7IzK6tISpsSuNkWMowl17gSA4e.jpg</td>\n",
       "      <td>Behind Enemy Lines Collection</td>\n",
       "      <td>[Action, Adventure, Thriller]</td>\n",
       "      <td>http://www.foxhome.com/behindenemylinesiiaxiso...</td>\n",
       "      <td>tt0497329</td>\n",
       "      <td>en</td>\n",
       "      <td>Behind Enemy Lines II: Axis of Evil</td>\n",
       "      <td>Navy SEALS, headed by Lt. Bobby James, are dis...</td>\n",
       "      <td>/dw1ArDmyrKgqWYohM6CGEpRMxca.jpg</td>\n",
       "      <td>[Twentieth Century Fox Film Corporation]</td>\n",
       "      <td>[United States of America]</td>\n",
       "      <td>2006-10-17</td>\n",
       "      <td>[English, Pусский]</td>\n",
       "      <td>Released</td>\n",
       "      <td>The fate of the world hangs in the balance in ...</td>\n",
       "      <td>Behind Enemy Lines II: Axis of Evil</td>\n",
       "    </tr>\n",
       "    <tr>\n",
       "      <th>10007</th>\n",
       "      <td>/l9fdcaqaQQLE2K8cYwfoIPXi0i7.jpg</td>\n",
       "      <td>See No Evil Collection</td>\n",
       "      <td>[Horror, Thriller]</td>\n",
       "      <td></td>\n",
       "      <td>tt0437179</td>\n",
       "      <td>en</td>\n",
       "      <td>See No Evil</td>\n",
       "      <td>A group of delinquents are sent to clean the B...</td>\n",
       "      <td>/rZ0YSY6iRhXENygGlNebP9RfZlM.jpg</td>\n",
       "      <td>[Lions Gate Films, WWE Studios]</td>\n",
       "      <td>[United States of America]</td>\n",
       "      <td>2006-05-19</td>\n",
       "      <td>[English]</td>\n",
       "      <td>Released</td>\n",
       "      <td>This summer. Evil gets raw.</td>\n",
       "      <td>See No Evil</td>\n",
       "    </tr>\n",
       "    <tr>\n",
       "      <th>10009</th>\n",
       "      <td>/fAzT4AboZXP2Sj3zE2HcQ7qjMi.jpg</td>\n",
       "      <td>Brother Bear Collection</td>\n",
       "      <td>[Adventure, Animation, Family]</td>\n",
       "      <td>http://movies.disney.com/brother-bear</td>\n",
       "      <td>tt0328880</td>\n",
       "      <td>en</td>\n",
       "      <td>Brother Bear</td>\n",
       "      <td>When an impulsive boy named Kenai is magically...</td>\n",
       "      <td>/otptPbEY0vBostmo95xwiiumMJm.jpg</td>\n",
       "      <td>[Walt Disney Feature Animation]</td>\n",
       "      <td>[United States of America]</td>\n",
       "      <td>2003-10-23</td>\n",
       "      <td>[Hrvatski, English, ]</td>\n",
       "      <td>Released</td>\n",
       "      <td>Nature Calls</td>\n",
       "      <td>Brother Bear</td>\n",
       "    </tr>\n",
       "    <tr>\n",
       "      <th>10010</th>\n",
       "      <td>/zhMiJmPuX2o2bbXWWZNUgVbw3OM.jpg</td>\n",
       "      <td>Brother Bear Collection</td>\n",
       "      <td>[Adventure, Animation, Family]</td>\n",
       "      <td>http://movies.disney.com/brother-bear-2</td>\n",
       "      <td>tt0465925</td>\n",
       "      <td>en</td>\n",
       "      <td>Brother Bear 2</td>\n",
       "      <td>Kenai finds his childhood human friend Nita an...</td>\n",
       "      <td>/msZSTfilEF6hw47HTuf5AeXAO8R.jpg</td>\n",
       "      <td>[DisneyToon Studios]</td>\n",
       "      <td>[United States of America]</td>\n",
       "      <td>2006-08-17</td>\n",
       "      <td>[English]</td>\n",
       "      <td>Released</td>\n",
       "      <td></td>\n",
       "      <td>Brother Bear 2</td>\n",
       "    </tr>\n",
       "  </tbody>\n",
       "</table>\n",
       "</div>"
      ],
      "text/plain": [
       "                          backdrop_path          belongs_to_collection  \\\n",
       "10003  /lJnl8xIhplfzUBtlJLsWBwvXVBj.jpg           The Saint Collection   \n",
       "10005  /u7IzK6tISpsSuNkWMowl17gSA4e.jpg  Behind Enemy Lines Collection   \n",
       "10007  /l9fdcaqaQQLE2K8cYwfoIPXi0i7.jpg         See No Evil Collection   \n",
       "10009   /fAzT4AboZXP2Sj3zE2HcQ7qjMi.jpg        Brother Bear Collection   \n",
       "10010  /zhMiJmPuX2o2bbXWWZNUgVbw3OM.jpg        Brother Bear Collection   \n",
       "\n",
       "                                                  genres  \\\n",
       "10003  [Thriller, Action, Romance, Science Fiction, A...   \n",
       "10005                      [Action, Adventure, Thriller]   \n",
       "10007                                 [Horror, Thriller]   \n",
       "10009                     [Adventure, Animation, Family]   \n",
       "10010                     [Adventure, Animation, Family]   \n",
       "\n",
       "                                                homepage    imdb_id  \\\n",
       "10003                                                     tt0120053   \n",
       "10005  http://www.foxhome.com/behindenemylinesiiaxiso...  tt0497329   \n",
       "10007                                                     tt0437179   \n",
       "10009              http://movies.disney.com/brother-bear  tt0328880   \n",
       "10010            http://movies.disney.com/brother-bear-2  tt0465925   \n",
       "\n",
       "      original_language                       original_title  \\\n",
       "10003                en                            The Saint   \n",
       "10005                en  Behind Enemy Lines II: Axis of Evil   \n",
       "10007                en                          See No Evil   \n",
       "10009                en                         Brother Bear   \n",
       "10010                en                       Brother Bear 2   \n",
       "\n",
       "                                                overview  \\\n",
       "10003  Ivan Tretiak, Russian Mafia boss who wants to ...   \n",
       "10005  Navy SEALS, headed by Lt. Bobby James, are dis...   \n",
       "10007  A group of delinquents are sent to clean the B...   \n",
       "10009  When an impulsive boy named Kenai is magically...   \n",
       "10010  Kenai finds his childhood human friend Nita an...   \n",
       "\n",
       "                            poster_path  \\\n",
       "10003  /uA24D8JCg21RDINMZ3vFaQYdIzW.jpg   \n",
       "10005  /dw1ArDmyrKgqWYohM6CGEpRMxca.jpg   \n",
       "10007  /rZ0YSY6iRhXENygGlNebP9RfZlM.jpg   \n",
       "10009  /otptPbEY0vBostmo95xwiiumMJm.jpg   \n",
       "10010  /msZSTfilEF6hw47HTuf5AeXAO8R.jpg   \n",
       "\n",
       "                                    production_companies  \\\n",
       "10003  [Paramount Pictures, Mace Neufeld Productions,...   \n",
       "10005           [Twentieth Century Fox Film Corporation]   \n",
       "10007                    [Lions Gate Films, WWE Studios]   \n",
       "10009                    [Walt Disney Feature Animation]   \n",
       "10010                               [DisneyToon Studios]   \n",
       "\n",
       "             production_countries release_date       spoken_languages  \\\n",
       "10003  [United States of America]   1997-04-03     [English, Pусский]   \n",
       "10005  [United States of America]   2006-10-17     [English, Pусский]   \n",
       "10007  [United States of America]   2006-05-19              [English]   \n",
       "10009  [United States of America]   2003-10-23  [Hrvatski, English, ]   \n",
       "10010  [United States of America]   2006-08-17              [English]   \n",
       "\n",
       "         status                                            tagline  \\\n",
       "10003  Released  Never reveal your name. Never turn your back. ...   \n",
       "10005  Released  The fate of the world hangs in the balance in ...   \n",
       "10007  Released                        This summer. Evil gets raw.   \n",
       "10009  Released                                       Nature Calls   \n",
       "10010  Released                                                      \n",
       "\n",
       "                                     title  \n",
       "10003                            The Saint  \n",
       "10005  Behind Enemy Lines II: Axis of Evil  \n",
       "10007                          See No Evil  \n",
       "10009                         Brother Bear  \n",
       "10010                       Brother Bear 2  "
      ]
     },
     "execution_count": 64,
     "metadata": {},
     "output_type": "execute_result"
    }
   ],
   "source": [
    "categorical.head()"
   ]
  },
  {
   "cell_type": "markdown",
   "metadata": {},
   "source": [
    "### check missing value"
   ]
  },
  {
   "cell_type": "code",
   "execution_count": 68,
   "metadata": {
    "collapsed": false
   },
   "outputs": [
    {
     "name": "stdout",
     "output_type": "stream",
     "text": [
      "Number of missing values in both train and test data set\n"
     ]
    },
    {
     "data": {
      "text/html": [
       "<div>\n",
       "<table border=\"1\" class=\"dataframe\">\n",
       "  <thead>\n",
       "    <tr style=\"text-align: right;\">\n",
       "      <th></th>\n",
       "      <th>Features</th>\n",
       "      <th>Missing</th>\n",
       "    </tr>\n",
       "  </thead>\n",
       "  <tbody>\n",
       "    <tr>\n",
       "      <th>0</th>\n",
       "      <td>backdrop_path</td>\n",
       "      <td>42</td>\n",
       "    </tr>\n",
       "    <tr>\n",
       "      <th>8</th>\n",
       "      <td>poster_path</td>\n",
       "      <td>9</td>\n",
       "    </tr>\n",
       "  </tbody>\n",
       "</table>\n",
       "</div>"
      ],
      "text/plain": [
       "        Features  Missing\n",
       "0  backdrop_path       42\n",
       "8    poster_path        9"
      ]
     },
     "execution_count": 68,
     "metadata": {},
     "output_type": "execute_result"
    }
   ],
   "source": [
    "n_missing_categorical = []\n",
    "for col in categorical:\n",
    "    n_missing_categorical.append(categorical[col].isnull().values.sum())\n",
    "missing_categorical=pd.DataFrame({'Features': categorical.columns.values, 'Missing':n_missing_categorical})\n",
    "print \"Number of missing values in both train and test data set\"\n",
    "missing_categorical[missing_categorical['Missing']!=0]"
   ]
  },
  {
   "cell_type": "code",
   "execution_count": 97,
   "metadata": {
    "collapsed": false
   },
   "outputs": [],
   "source": [
    "categorical1=categorical[['belongs_to_collection', 'original_language', 'production_companies', 'production_countries', 'spoken_languages', 'status']]"
   ]
  },
  {
   "cell_type": "code",
   "execution_count": 96,
   "metadata": {
    "collapsed": false
   },
   "outputs": [
    {
     "data": {
      "image/png": "[encoded data removed]",
      "text/plain": [
       "<matplotlib.figure.Figure at 0x11e0a5ad0>"
      ]
     },
     "metadata": {},
     "output_type": "display_data"
    }
   ],
   "source": [
    "f, (ax1, ax2) = plt.subplots(1,2, figsize = (16, 4))\n",
    "sns.countplot(x = 'original_language', data = categorical, ax=ax1)\n",
    "sns.countplot(x = 'status', data = categorical, ax=ax2)\n",
    "plt.show()"
   ]
  }
 ],
 "metadata": {
  "kernelspec": {
   "display_name": "Python 2",
   "language": "python",
   "name": "python2"
  },
  "language_info": {
   "codemirror_mode": {
    "name": "ipython",
    "version": 2
   },
   "file_extension": ".py",
   "mimetype": "text/x-python",
   "name": "python",
   "nbconvert_exporter": "python",
   "pygments_lexer": "ipython2",
   "version": "2.7.12"
  }
 },
 "nbformat": 4,
 "nbformat_minor": 0
}
