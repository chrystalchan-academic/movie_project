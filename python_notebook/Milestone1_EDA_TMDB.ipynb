{
 "cells": [
  {
   "cell_type": "code",
   "execution_count": 129,
   "metadata": {
    "collapsed": true
   },
   "outputs": [],
   "source": [
    "%matplotlib inline\n",
    "import pandas as pd\n",
    "import numpy as np\n",
    "import matplotlib.pyplot as plt\n",
    "import seaborn.apionly as sns\n",
    "import datetime as dt"
   ]
  },
  {
   "cell_type": "markdown",
   "metadata": {},
   "source": [
    "# Load data\n",
    "\n",
    "Use the data from the files for now instead of calling API."
   ]
  },
  {
   "cell_type": "code",
   "execution_count": 199,
   "metadata": {
    "collapsed": false
   },
   "outputs": [],
   "source": [
    "tmdb_movies = pd.read_json(\"drv_tmdb_movie_details.json\")"
   ]
  },
  {
   "cell_type": "code",
   "execution_count": 200,
   "metadata": {
    "collapsed": false
   },
   "outputs": [
    {
     "name": "stdout",
     "output_type": "stream",
     "text": [
      "10010\n",
      "4865\n"
     ]
    }
   ],
   "source": [
    "# tmdb\n",
    "# max id\n",
    "print(max(tmdb_movies['id']))\n",
    "\n",
    "# rows\n",
    "print(len(tmdb_movies.index))"
   ]
  },
  {
   "cell_type": "markdown",
   "metadata": {},
   "source": [
    "# Format data"
   ]
  },
  {
   "cell_type": "markdown",
   "metadata": {},
   "source": [
    "# Movie genre classification\n",
    "\n",
    "We need to address the following problems before we do movie genre classification:\n",
    "\n",
    "1. TMDB and IMDB have different movie genre list and this can create issues for prediction. TMDB should have a smaller list than IMDB.\n",
    "2. We can check if the genre classification are similiar for IMDB and TMDB by the following:\n",
    "    look at percentage breakdown of each genre. If the results are significantly different amonng the two databases, we will have to explore what causes the difference.\n",
    "2. A movie can have more than 1 genre. The data from TMDB and IMDB will not indicate which one is the main genre if there is more than 1 genre. However, when we do movie genre prediction, we may only want our reponse to be 1 genre. \n",
    "    1. If we do fuzzy classification, we can use see if the results align with multiple genres.\n",
    "    2. We can also treat it as binary classification problem for each genre, ex. seperate problems of if a movie is Horror and if a movie is Romance. But if the movie number of a genre is too big or too small, the one-vs-all approach may not be good.\n",
    "\n",
    "Below are useful resources:\n",
    "* [IMDB genre guide](http://www.imdb.com/help/search?domain=helpdesk_faq&index=2&file=genres)\n"
   ]
  },
  {
   "cell_type": "code",
   "execution_count": 202,
   "metadata": {
    "collapsed": true
   },
   "outputs": [],
   "source": [
    "def get_genre(tmdb_movies ,key):\n",
    "    tmdb_genre = tmdb_movies[key].tolist()\n",
    "    tmdb_genre_set = set()\n",
    "    for g in tmdb_genre:\n",
    "        tmdb_genre_set = tmdb_genre_set.union(set(g))\n",
    "    tmdb_genre = list(tmdb_genre_set)\n",
    "    tmdb_genre.sort()\n",
    "    return(tmdb_genre)"
   ]
  },
  {
   "cell_type": "code",
   "execution_count": 203,
   "metadata": {
    "collapsed": false
   },
   "outputs": [],
   "source": [
    "def is_genre (row, column_name, genre):\n",
    "    \"\"\"check if that movie is in this genre as a movie can have more than 1 genre\"\"\"\n",
    "    if genre in row[column_name] :\n",
    "        return True\n",
    "    else:\n",
    "        return False"
   ]
  },
  {
   "cell_type": "code",
   "execution_count": 204,
   "metadata": {
    "collapsed": false
   },
   "outputs": [],
   "source": [
    "# as the genre is in list format in the data field, we cannot utilize any data frame function and it is very hard to compare\n",
    "# thus, we have to transform data set \n",
    "\n",
    "def add_genre_columns(tmdb_movies, genre_column):\n",
    "    tmdb_genre = get_genre(tmdb_movies,genre_column)\n",
    "    tmdb_movies[u'genre_num'] = tmdb_movies.apply(lambda row: len(row[genre_column]), axis=1)\n",
    "\n",
    "    for g in tmdb_genre: \n",
    "        tmdb_movies[g] = tmdb_movies.apply(lambda row: is_genre(row,genre_column,g), axis=1)\n",
    "\n"
   ]
  },
  {
   "cell_type": "code",
   "execution_count": 205,
   "metadata": {
    "collapsed": false
   },
   "outputs": [],
   "source": [
    "tmdb_genre = get_genre(tmdb_movies,u'genres')\n",
    "tmdb_movies[u'genre_num'] = tmdb_movies.apply(lambda row: len(row[u'genres']), axis=1)\n",
    "\n",
    "for g in tmdb_genre: \n",
    "    tmdb_movies[g] = tmdb_movies.apply(lambda row: is_genre(row,u'genres',g), axis=1)"
   ]
  },
  {
   "cell_type": "code",
   "execution_count": 206,
   "metadata": {
    "collapsed": false
   },
   "outputs": [
    {
     "data": {
      "text/plain": [
       "2.255087358684481"
      ]
     },
     "execution_count": 206,
     "metadata": {},
     "output_type": "execute_result"
    }
   ],
   "source": [
    "np.mean(tmdb_movies[u'genre_num'])"
   ]
  },
  {
   "cell_type": "code",
   "execution_count": 208,
   "metadata": {
    "collapsed": false
   },
   "outputs": [
    {
     "data": {
      "text/html": [
       "<div>\n",
       "<table border=\"1\" class=\"dataframe\">\n",
       "  <thead>\n",
       "    <tr style=\"text-align: right;\">\n",
       "      <th></th>\n",
       "      <th>False</th>\n",
       "      <th>True</th>\n",
       "    </tr>\n",
       "  </thead>\n",
       "  <tbody>\n",
       "    <tr>\n",
       "      <th>Action</th>\n",
       "      <td>3987</td>\n",
       "      <td>878</td>\n",
       "    </tr>\n",
       "    <tr>\n",
       "      <th>Adventure</th>\n",
       "      <td>4264</td>\n",
       "      <td>601</td>\n",
       "    </tr>\n",
       "    <tr>\n",
       "      <th>Animation</th>\n",
       "      <td>4741</td>\n",
       "      <td>124</td>\n",
       "    </tr>\n",
       "    <tr>\n",
       "      <th>Comedy</th>\n",
       "      <td>3284</td>\n",
       "      <td>1581</td>\n",
       "    </tr>\n",
       "    <tr>\n",
       "      <th>Crime</th>\n",
       "      <td>4102</td>\n",
       "      <td>763</td>\n",
       "    </tr>\n",
       "    <tr>\n",
       "      <th>Documentary</th>\n",
       "      <td>4683</td>\n",
       "      <td>182</td>\n",
       "    </tr>\n",
       "    <tr>\n",
       "      <th>Drama</th>\n",
       "      <td>2438</td>\n",
       "      <td>2427</td>\n",
       "    </tr>\n",
       "    <tr>\n",
       "      <th>Family</th>\n",
       "      <td>4624</td>\n",
       "      <td>241</td>\n",
       "    </tr>\n",
       "    <tr>\n",
       "      <th>Fantasy</th>\n",
       "      <td>4511</td>\n",
       "      <td>354</td>\n",
       "    </tr>\n",
       "    <tr>\n",
       "      <th>Foreign</th>\n",
       "      <td>4760</td>\n",
       "      <td>105</td>\n",
       "    </tr>\n",
       "    <tr>\n",
       "      <th>History</th>\n",
       "      <td>4644</td>\n",
       "      <td>221</td>\n",
       "    </tr>\n",
       "    <tr>\n",
       "      <th>Horror</th>\n",
       "      <td>4380</td>\n",
       "      <td>485</td>\n",
       "    </tr>\n",
       "    <tr>\n",
       "      <th>Music</th>\n",
       "      <td>4745</td>\n",
       "      <td>120</td>\n",
       "    </tr>\n",
       "    <tr>\n",
       "      <th>Mystery</th>\n",
       "      <td>4554</td>\n",
       "      <td>311</td>\n",
       "    </tr>\n",
       "    <tr>\n",
       "      <th>Romance</th>\n",
       "      <td>4171</td>\n",
       "      <td>694</td>\n",
       "    </tr>\n",
       "    <tr>\n",
       "      <th>Science Fiction</th>\n",
       "      <td>4374</td>\n",
       "      <td>491</td>\n",
       "    </tr>\n",
       "    <tr>\n",
       "      <th>TV Movie</th>\n",
       "      <td>4838</td>\n",
       "      <td>27</td>\n",
       "    </tr>\n",
       "    <tr>\n",
       "      <th>Thriller</th>\n",
       "      <td>3730</td>\n",
       "      <td>1135</td>\n",
       "    </tr>\n",
       "    <tr>\n",
       "      <th>War</th>\n",
       "      <td>4732</td>\n",
       "      <td>133</td>\n",
       "    </tr>\n",
       "    <tr>\n",
       "      <th>Western</th>\n",
       "      <td>4767</td>\n",
       "      <td>98</td>\n",
       "    </tr>\n",
       "  </tbody>\n",
       "</table>\n",
       "</div>"
      ],
      "text/plain": [
       "                 False  True \n",
       "Action            3987    878\n",
       "Adventure         4264    601\n",
       "Animation         4741    124\n",
       "Comedy            3284   1581\n",
       "Crime             4102    763\n",
       "Documentary       4683    182\n",
       "Drama             2438   2427\n",
       "Family            4624    241\n",
       "Fantasy           4511    354\n",
       "Foreign           4760    105\n",
       "History           4644    221\n",
       "Horror            4380    485\n",
       "Music             4745    120\n",
       "Mystery           4554    311\n",
       "Romance           4171    694\n",
       "Science Fiction   4374    491\n",
       "TV Movie          4838     27\n",
       "Thriller          3730   1135\n",
       "War               4732    133\n",
       "Western           4767     98"
      ]
     },
     "execution_count": 208,
     "metadata": {},
     "output_type": "execute_result"
    }
   ],
   "source": [
    "tmdb_genre_df = tmdb_movies[tmdb_genre].apply(pd.value_counts).transpose()\n",
    "tmdb_genre_df"
   ]
  },
  {
   "cell_type": "code",
   "execution_count": 209,
   "metadata": {
    "collapsed": true
   },
   "outputs": [],
   "source": [
    "imdb_genre = get_genre(imdb_movies,u'genre')\n",
    "imdb_movies[u'genre_num'] = imdb_movies.apply(lambda row: len(row[u'genre']), axis=1)\n",
    "\n",
    "for g in imdb_genre: \n",
    "    imdb_movies[g] = imdb_movies.apply(lambda row: is_genre(row,u'genre',g), axis=1)"
   ]
  },
  {
   "cell_type": "code",
   "execution_count": 210,
   "metadata": {
    "collapsed": false
   },
   "outputs": [
    {
     "data": {
      "text/html": [
       "<div>\n",
       "<table border=\"1\" class=\"dataframe\">\n",
       "  <thead>\n",
       "    <tr style=\"text-align: right;\">\n",
       "      <th></th>\n",
       "      <th>False</th>\n",
       "      <th>True</th>\n",
       "    </tr>\n",
       "  </thead>\n",
       "  <tbody>\n",
       "    <tr>\n",
       "      <th>Action</th>\n",
       "      <td>56</td>\n",
       "      <td>44</td>\n",
       "    </tr>\n",
       "    <tr>\n",
       "      <th>Adventure</th>\n",
       "      <td>56</td>\n",
       "      <td>44</td>\n",
       "    </tr>\n",
       "    <tr>\n",
       "      <th>Animation</th>\n",
       "      <td>88</td>\n",
       "      <td>12</td>\n",
       "    </tr>\n",
       "    <tr>\n",
       "      <th>Biography</th>\n",
       "      <td>96</td>\n",
       "      <td>4</td>\n",
       "    </tr>\n",
       "    <tr>\n",
       "      <th>Comedy</th>\n",
       "      <td>80</td>\n",
       "      <td>20</td>\n",
       "    </tr>\n",
       "    <tr>\n",
       "      <th>Crime</th>\n",
       "      <td>80</td>\n",
       "      <td>20</td>\n",
       "    </tr>\n",
       "    <tr>\n",
       "      <th>Documentary</th>\n",
       "      <td>96</td>\n",
       "      <td>4</td>\n",
       "    </tr>\n",
       "    <tr>\n",
       "      <th>Drama</th>\n",
       "      <td>68</td>\n",
       "      <td>32</td>\n",
       "    </tr>\n",
       "    <tr>\n",
       "      <th>Family</th>\n",
       "      <td>96</td>\n",
       "      <td>4</td>\n",
       "    </tr>\n",
       "    <tr>\n",
       "      <th>Fantasy</th>\n",
       "      <td>84</td>\n",
       "      <td>16</td>\n",
       "    </tr>\n",
       "    <tr>\n",
       "      <th>Horror</th>\n",
       "      <td>96</td>\n",
       "      <td>4</td>\n",
       "    </tr>\n",
       "    <tr>\n",
       "      <th>Music</th>\n",
       "      <td>96</td>\n",
       "      <td>4</td>\n",
       "    </tr>\n",
       "    <tr>\n",
       "      <th>Musical</th>\n",
       "      <td>96</td>\n",
       "      <td>4</td>\n",
       "    </tr>\n",
       "    <tr>\n",
       "      <th>Romance</th>\n",
       "      <td>76</td>\n",
       "      <td>24</td>\n",
       "    </tr>\n",
       "    <tr>\n",
       "      <th>Sci-Fi</th>\n",
       "      <td>76</td>\n",
       "      <td>24</td>\n",
       "    </tr>\n",
       "    <tr>\n",
       "      <th>Short</th>\n",
       "      <td>92</td>\n",
       "      <td>8</td>\n",
       "    </tr>\n",
       "    <tr>\n",
       "      <th>Sport</th>\n",
       "      <td>96</td>\n",
       "      <td>4</td>\n",
       "    </tr>\n",
       "    <tr>\n",
       "      <th>Thriller</th>\n",
       "      <td>80</td>\n",
       "      <td>20</td>\n",
       "    </tr>\n",
       "    <tr>\n",
       "      <th>War</th>\n",
       "      <td>96</td>\n",
       "      <td>4</td>\n",
       "    </tr>\n",
       "  </tbody>\n",
       "</table>\n",
       "</div>"
      ],
      "text/plain": [
       "             False  True \n",
       "Action          56     44\n",
       "Adventure       56     44\n",
       "Animation       88     12\n",
       "Biography       96      4\n",
       "Comedy          80     20\n",
       "Crime           80     20\n",
       "Documentary     96      4\n",
       "Drama           68     32\n",
       "Family          96      4\n",
       "Fantasy         84     16\n",
       "Horror          96      4\n",
       "Music           96      4\n",
       "Musical         96      4\n",
       "Romance         76     24\n",
       "Sci-Fi          76     24\n",
       "Short           92      8\n",
       "Sport           96      4\n",
       "Thriller        80     20\n",
       "War             96      4"
      ]
     },
     "execution_count": 210,
     "metadata": {},
     "output_type": "execute_result"
    }
   ],
   "source": [
    "imdb_genre_df = imdb_movies[imdb_genre].apply(pd.value_counts).transpose()\n",
    "imdb_genre_df"
   ]
  },
  {
   "cell_type": "code",
   "execution_count": 211,
   "metadata": {
    "collapsed": false
   },
   "outputs": [
    {
     "data": {
      "text/plain": [
       "2.96"
      ]
     },
     "execution_count": 211,
     "metadata": {},
     "output_type": "execute_result"
    }
   ],
   "source": [
    "np.mean(imdb_movies[u'genre_num'])"
   ]
  },
  {
   "cell_type": "markdown",
   "metadata": {},
   "source": [
    "## Observations on genre list\n",
    "\n",
    "1. The genre lists between IMDB and TMDB are very similiar so far. Perhaps it is because we have extracted the same movie.\n",
    "2. A movie has 3 genres on average.\n",
    "3. Half of the genres(ex. Documentary and War) have only a few movies. One-vs-all approach may not be good."
   ]
  },
  {
   "cell_type": "markdown",
   "metadata": {
    "collapsed": true
   },
   "source": [
    "# Exploratory Analysis for TMDB"
   ]
  },
  {
   "cell_type": "code",
   "execution_count": 212,
   "metadata": {
    "collapsed": false
   },
   "outputs": [
    {
     "name": "stdout",
     "output_type": "stream",
     "text": [
      "Dimension of TMDB dataset: (4865, 46)\n"
     ]
    }
   ],
   "source": [
    "print \"Dimension of TMDB dataset:\" ,tmdb_movies.shape"
   ]
  },
  {
   "cell_type": "code",
   "execution_count": 215,
   "metadata": {
    "collapsed": false
   },
   "outputs": [
    {
     "data": {
      "text/html": [
       "<div>\n",
       "<table border=\"1\" class=\"dataframe\">\n",
       "  <thead>\n",
       "    <tr style=\"text-align: right;\">\n",
       "      <th></th>\n",
       "      <th>adult</th>\n",
       "      <th>backdrop_path</th>\n",
       "      <th>belongs_to_collection</th>\n",
       "      <th>budget</th>\n",
       "      <th>genres</th>\n",
       "      <th>homepage</th>\n",
       "      <th>id</th>\n",
       "      <th>imdb_id</th>\n",
       "      <th>original_language</th>\n",
       "      <th>original_title</th>\n",
       "      <th>...</th>\n",
       "      <th>History</th>\n",
       "      <th>Horror</th>\n",
       "      <th>Music</th>\n",
       "      <th>Mystery</th>\n",
       "      <th>Romance</th>\n",
       "      <th>Science Fiction</th>\n",
       "      <th>TV Movie</th>\n",
       "      <th>Thriller</th>\n",
       "      <th>War</th>\n",
       "      <th>Western</th>\n",
       "    </tr>\n",
       "  </thead>\n",
       "  <tbody>\n",
       "    <tr>\n",
       "      <th>10000</th>\n",
       "      <td>False</td>\n",
       "      <td>/Ar87X5wNldG33l3Ka1iMK26I6xZ.jpg</td>\n",
       "      <td>None</td>\n",
       "      <td>0</td>\n",
       "      <td>[Comedy, Drama]</td>\n",
       "      <td></td>\n",
       "      <td>10000</td>\n",
       "      <td>tt0109747</td>\n",
       "      <td>es</td>\n",
       "      <td>La estrategia del caracol</td>\n",
       "      <td>...</td>\n",
       "      <td>False</td>\n",
       "      <td>False</td>\n",
       "      <td>False</td>\n",
       "      <td>False</td>\n",
       "      <td>False</td>\n",
       "      <td>False</td>\n",
       "      <td>False</td>\n",
       "      <td>False</td>\n",
       "      <td>False</td>\n",
       "      <td>False</td>\n",
       "    </tr>\n",
       "    <tr>\n",
       "      <th>10003</th>\n",
       "      <td>False</td>\n",
       "      <td>/lJnl8xIhplfzUBtlJLsWBwvXVBj.jpg</td>\n",
       "      <td>The Saint Collection</td>\n",
       "      <td>68000000</td>\n",
       "      <td>[Thriller, Action, Romance, Science Fiction, A...</td>\n",
       "      <td></td>\n",
       "      <td>10003</td>\n",
       "      <td>tt0120053</td>\n",
       "      <td>en</td>\n",
       "      <td>The Saint</td>\n",
       "      <td>...</td>\n",
       "      <td>False</td>\n",
       "      <td>False</td>\n",
       "      <td>False</td>\n",
       "      <td>False</td>\n",
       "      <td>True</td>\n",
       "      <td>True</td>\n",
       "      <td>False</td>\n",
       "      <td>True</td>\n",
       "      <td>False</td>\n",
       "      <td>False</td>\n",
       "    </tr>\n",
       "    <tr>\n",
       "      <th>10005</th>\n",
       "      <td>False</td>\n",
       "      <td>/u7IzK6tISpsSuNkWMowl17gSA4e.jpg</td>\n",
       "      <td>Behind Enemy Lines Collection</td>\n",
       "      <td>0</td>\n",
       "      <td>[Action, Adventure, Thriller]</td>\n",
       "      <td>http://www.foxhome.com/behindenemylinesiiaxiso...</td>\n",
       "      <td>10005</td>\n",
       "      <td>tt0497329</td>\n",
       "      <td>en</td>\n",
       "      <td>Behind Enemy Lines II: Axis of Evil</td>\n",
       "      <td>...</td>\n",
       "      <td>False</td>\n",
       "      <td>False</td>\n",
       "      <td>False</td>\n",
       "      <td>False</td>\n",
       "      <td>False</td>\n",
       "      <td>False</td>\n",
       "      <td>False</td>\n",
       "      <td>True</td>\n",
       "      <td>False</td>\n",
       "      <td>False</td>\n",
       "    </tr>\n",
       "    <tr>\n",
       "      <th>10007</th>\n",
       "      <td>False</td>\n",
       "      <td>/l9fdcaqaQQLE2K8cYwfoIPXi0i7.jpg</td>\n",
       "      <td>See No Evil Collection</td>\n",
       "      <td>8000000</td>\n",
       "      <td>[Horror, Thriller]</td>\n",
       "      <td></td>\n",
       "      <td>10007</td>\n",
       "      <td>tt0437179</td>\n",
       "      <td>en</td>\n",
       "      <td>See No Evil</td>\n",
       "      <td>...</td>\n",
       "      <td>False</td>\n",
       "      <td>True</td>\n",
       "      <td>False</td>\n",
       "      <td>False</td>\n",
       "      <td>False</td>\n",
       "      <td>False</td>\n",
       "      <td>False</td>\n",
       "      <td>True</td>\n",
       "      <td>False</td>\n",
       "      <td>False</td>\n",
       "    </tr>\n",
       "    <tr>\n",
       "      <th>10009</th>\n",
       "      <td>False</td>\n",
       "      <td>/fAzT4AboZXP2Sj3zE2HcQ7qjMi.jpg</td>\n",
       "      <td>Brother Bear Collection</td>\n",
       "      <td>100000000</td>\n",
       "      <td>[Adventure, Animation, Family]</td>\n",
       "      <td>http://movies.disney.com/brother-bear</td>\n",
       "      <td>10009</td>\n",
       "      <td>tt0328880</td>\n",
       "      <td>en</td>\n",
       "      <td>Brother Bear</td>\n",
       "      <td>...</td>\n",
       "      <td>False</td>\n",
       "      <td>False</td>\n",
       "      <td>False</td>\n",
       "      <td>False</td>\n",
       "      <td>False</td>\n",
       "      <td>False</td>\n",
       "      <td>False</td>\n",
       "      <td>False</td>\n",
       "      <td>False</td>\n",
       "      <td>False</td>\n",
       "    </tr>\n",
       "  </tbody>\n",
       "</table>\n",
       "<p>5 rows × 46 columns</p>\n",
       "</div>"
      ],
      "text/plain": [
       "       adult                     backdrop_path          belongs_to_collection  \\\n",
       "10000  False  /Ar87X5wNldG33l3Ka1iMK26I6xZ.jpg                           None   \n",
       "10003  False  /lJnl8xIhplfzUBtlJLsWBwvXVBj.jpg           The Saint Collection   \n",
       "10005  False  /u7IzK6tISpsSuNkWMowl17gSA4e.jpg  Behind Enemy Lines Collection   \n",
       "10007  False  /l9fdcaqaQQLE2K8cYwfoIPXi0i7.jpg         See No Evil Collection   \n",
       "10009  False   /fAzT4AboZXP2Sj3zE2HcQ7qjMi.jpg        Brother Bear Collection   \n",
       "\n",
       "          budget                                             genres  \\\n",
       "10000          0                                    [Comedy, Drama]   \n",
       "10003   68000000  [Thriller, Action, Romance, Science Fiction, A...   \n",
       "10005          0                      [Action, Adventure, Thriller]   \n",
       "10007    8000000                                 [Horror, Thriller]   \n",
       "10009  100000000                     [Adventure, Animation, Family]   \n",
       "\n",
       "                                                homepage     id    imdb_id  \\\n",
       "10000                                                     10000  tt0109747   \n",
       "10003                                                     10003  tt0120053   \n",
       "10005  http://www.foxhome.com/behindenemylinesiiaxiso...  10005  tt0497329   \n",
       "10007                                                     10007  tt0437179   \n",
       "10009              http://movies.disney.com/brother-bear  10009  tt0328880   \n",
       "\n",
       "      original_language                       original_title   ...   History  \\\n",
       "10000                es            La estrategia del caracol   ...     False   \n",
       "10003                en                            The Saint   ...     False   \n",
       "10005                en  Behind Enemy Lines II: Axis of Evil   ...     False   \n",
       "10007                en                          See No Evil   ...     False   \n",
       "10009                en                         Brother Bear   ...     False   \n",
       "\n",
       "       Horror  Music Mystery Romance Science Fiction  TV Movie  Thriller  \\\n",
       "10000   False  False   False   False           False     False     False   \n",
       "10003   False  False   False    True            True     False      True   \n",
       "10005   False  False   False   False           False     False      True   \n",
       "10007    True  False   False   False           False     False      True   \n",
       "10009   False  False   False   False           False     False     False   \n",
       "\n",
       "         War Western  \n",
       "10000  False   False  \n",
       "10003  False   False  \n",
       "10005  False   False  \n",
       "10007  False   False  \n",
       "10009  False   False  \n",
       "\n",
       "[5 rows x 46 columns]"
      ]
     },
     "execution_count": 215,
     "metadata": {},
     "output_type": "execute_result"
    }
   ],
   "source": [
    "tmdb_movies.head(5)"
   ]
  },
  {
   "cell_type": "markdown",
   "metadata": {},
   "source": [
    "Replace None with NaN:"
   ]
  },
  {
   "cell_type": "code",
   "execution_count": 217,
   "metadata": {
    "collapsed": true
   },
   "outputs": [],
   "source": [
    "tmdb_movies.fillna(value=np.nan, inplace=True)"
   ]
  },
  {
   "cell_type": "markdown",
   "metadata": {},
   "source": [
    "Check features"
   ]
  },
  {
   "cell_type": "code",
   "execution_count": 218,
   "metadata": {
    "collapsed": false
   },
   "outputs": [
    {
     "data": {
      "text/plain": [
       "array([u'adult', u'backdrop_path', u'belongs_to_collection', u'budget',\n",
       "       u'genres', u'homepage', u'id', u'imdb_id', u'original_language',\n",
       "       u'original_title', u'overview', u'popularity', u'poster_path',\n",
       "       u'production_companies', u'production_countries', u'release_date',\n",
       "       u'revenue', u'runtime', u'spoken_languages', u'status', u'tagline',\n",
       "       u'title', u'video', u'vote_average', u'vote_count', u'genre_num',\n",
       "       u'Action', u'Adventure', u'Animation', u'Comedy', u'Crime',\n",
       "       u'Documentary', u'Drama', u'Family', u'Fantasy', u'Foreign',\n",
       "       u'History', u'Horror', u'Music', u'Mystery', u'Romance',\n",
       "       u'Science Fiction', u'TV Movie', u'Thriller', u'War', u'Western'], dtype=object)"
      ]
     },
     "execution_count": 218,
     "metadata": {},
     "output_type": "execute_result"
    }
   ],
   "source": [
    "tmdb_movies.columns.values"
   ]
  },
  {
   "cell_type": "markdown",
   "metadata": {},
   "source": [
    "## 1. Check Missing Value and Duplicate"
   ]
  },
  {
   "cell_type": "code",
   "execution_count": 442,
   "metadata": {
    "collapsed": false
   },
   "outputs": [],
   "source": [
    "n_missing=[]\n",
    "p=[]\n",
    "for col in tmdb_movies:\n",
    "    n_missing.append(tmdb_movies[col].isnull().values.sum())\n",
    "    p.append((tmdb_movies[col].isnull().values.sum())/float(tmdb_movies.shape[0]))\n",
    "missing=pd.DataFrame({'Features': tmdb_movies.columns.values, 'Missing':n_missing, 'Missing Precentage':p })"
   ]
  },
  {
   "cell_type": "code",
   "execution_count": 443,
   "metadata": {
    "collapsed": false
   },
   "outputs": [],
   "source": [
    "df_cat=tmdb_movies[['genres', 'original_language',\n",
    "       'original_title', 'homepage','overview',\n",
    "       'production_companies', 'production_countries','spoken_languages','status', 'tagline','title']]"
   ]
  },
  {
   "cell_type": "code",
   "execution_count": 444,
   "metadata": {
    "collapsed": false
   },
   "outputs": [
    {
     "name": "stdout",
     "output_type": "stream",
     "text": [
      "Number of missing values\n"
     ]
    },
    {
     "data": {
      "text/html": [
       "<div>\n",
       "<table border=\"1\" class=\"dataframe\">\n",
       "  <thead>\n",
       "    <tr style=\"text-align: right;\">\n",
       "      <th></th>\n",
       "      <th>Features</th>\n",
       "      <th>Missing</th>\n",
       "      <th>Missing Precentage</th>\n",
       "    </tr>\n",
       "  </thead>\n",
       "  <tbody>\n",
       "    <tr>\n",
       "      <th>1</th>\n",
       "      <td>backdrop_path</td>\n",
       "      <td>890</td>\n",
       "      <td>0.182939</td>\n",
       "    </tr>\n",
       "    <tr>\n",
       "      <th>2</th>\n",
       "      <td>belongs_to_collection</td>\n",
       "      <td>3940</td>\n",
       "      <td>0.809866</td>\n",
       "    </tr>\n",
       "    <tr>\n",
       "      <th>12</th>\n",
       "      <td>poster_path</td>\n",
       "      <td>366</td>\n",
       "      <td>0.075231</td>\n",
       "    </tr>\n",
       "    <tr>\n",
       "      <th>15</th>\n",
       "      <td>release_date</td>\n",
       "      <td>7</td>\n",
       "      <td>0.001439</td>\n",
       "    </tr>\n",
       "    <tr>\n",
       "      <th>0</th>\n",
       "      <td>genres</td>\n",
       "      <td>50</td>\n",
       "      <td>0.010277</td>\n",
       "    </tr>\n",
       "    <tr>\n",
       "      <th>3</th>\n",
       "      <td>homepage</td>\n",
       "      <td>4030</td>\n",
       "      <td>0.828366</td>\n",
       "    </tr>\n",
       "    <tr>\n",
       "      <th>4</th>\n",
       "      <td>overview</td>\n",
       "      <td>116</td>\n",
       "      <td>0.023844</td>\n",
       "    </tr>\n",
       "    <tr>\n",
       "      <th>5</th>\n",
       "      <td>production_companies</td>\n",
       "      <td>871</td>\n",
       "      <td>0.179034</td>\n",
       "    </tr>\n",
       "    <tr>\n",
       "      <th>6</th>\n",
       "      <td>production_countries</td>\n",
       "      <td>51</td>\n",
       "      <td>0.010483</td>\n",
       "    </tr>\n",
       "    <tr>\n",
       "      <th>7</th>\n",
       "      <td>spoken_languages</td>\n",
       "      <td>26</td>\n",
       "      <td>0.005344</td>\n",
       "    </tr>\n",
       "    <tr>\n",
       "      <th>9</th>\n",
       "      <td>tagline</td>\n",
       "      <td>2300</td>\n",
       "      <td>0.472765</td>\n",
       "    </tr>\n",
       "  </tbody>\n",
       "</table>\n",
       "</div>"
      ],
      "text/plain": [
       "                 Features  Missing  Missing Precentage\n",
       "1           backdrop_path      890            0.182939\n",
       "2   belongs_to_collection     3940            0.809866\n",
       "12            poster_path      366            0.075231\n",
       "15           release_date        7            0.001439\n",
       "0                  genres       50            0.010277\n",
       "3                homepage     4030            0.828366\n",
       "4                overview      116            0.023844\n",
       "5    production_companies      871            0.179034\n",
       "6    production_countries       51            0.010483\n",
       "7        spoken_languages       26            0.005344\n",
       "9                 tagline     2300            0.472765"
      ]
     },
     "execution_count": 444,
     "metadata": {},
     "output_type": "execute_result"
    }
   ],
   "source": [
    "n_missing=[]\n",
    "p=[]\n",
    "for col in df_cat:\n",
    "    count=0\n",
    "    for i in range(tmdb_movies.shape[0]):\n",
    "        if len(tmdb_movies.iloc[i][col])==0:\n",
    "            count+=1      \n",
    "    n_missing.append(count)\n",
    "    p.append(count/float(tmdb_movies.shape[0]))\n",
    "missing1=pd.DataFrame({'Features': df_cat.columns.values, 'Missing':n_missing, 'Missing Precentage':p })\n",
    "frames=[missing, missing1]\n",
    "result=pd.concat(frames)\n",
    "print \"Number of missing values\"\n",
    "result[result['Missing']!=0]"
   ]
  },
  {
   "cell_type": "markdown",
   "metadata": {},
   "source": [
    "As shown above, 11 features have missing values. \"belongs_to_collection\", \"homepage\" and \"tagline\" has comparatively high missing rate. Other features all have missing rates below 20%. \n",
    "For furture modeling, we may need to consider impute some missing values, or delete some features (with high missing rate) that is not very infomative."
   ]
  },
  {
   "cell_type": "code",
   "execution_count": 280,
   "metadata": {
    "collapsed": false
   },
   "outputs": [
    {
     "data": {
      "text/plain": [
       "count                4865\n",
       "unique               4754\n",
       "top       Finders Keepers\n",
       "freq                    7\n",
       "Name: title, dtype: object"
      ]
     },
     "execution_count": 280,
     "metadata": {},
     "output_type": "execute_result"
    }
   ],
   "source": [
    "tmdb_movies['title'].describe()"
   ]
  },
  {
   "cell_type": "code",
   "execution_count": 446,
   "metadata": {
    "collapsed": false
   },
   "outputs": [
    {
     "data": {
      "text/plain": [
       "count     4865.000000\n",
       "mean      4712.598150\n",
       "std       3108.842204\n",
       "min          2.000000\n",
       "25%       1955.000000\n",
       "50%       4484.000000\n",
       "75%       7351.000000\n",
       "max      10010.000000\n",
       "Name: id, dtype: float64"
      ]
     },
     "execution_count": 446,
     "metadata": {},
     "output_type": "execute_result"
    }
   ],
   "source": [
    "tmdb_movies['id'].describe()"
   ]
  },
  {
   "cell_type": "code",
   "execution_count": 287,
   "metadata": {
    "collapsed": false
   },
   "outputs": [
    {
     "data": {
      "text/html": [
       "<div>\n",
       "<table border=\"1\" class=\"dataframe\">\n",
       "  <thead>\n",
       "    <tr style=\"text-align: right;\">\n",
       "      <th></th>\n",
       "      <th>belongs_to_collection</th>\n",
       "      <th>budget</th>\n",
       "      <th>genres</th>\n",
       "      <th>homepage</th>\n",
       "      <th>id</th>\n",
       "      <th>imdb_id</th>\n",
       "      <th>original_language</th>\n",
       "      <th>original_title</th>\n",
       "      <th>overview</th>\n",
       "      <th>popularity</th>\n",
       "      <th>...</th>\n",
       "      <th>production_countries</th>\n",
       "      <th>release_date</th>\n",
       "      <th>revenue</th>\n",
       "      <th>runtime</th>\n",
       "      <th>spoken_languages</th>\n",
       "      <th>status</th>\n",
       "      <th>tagline</th>\n",
       "      <th>title</th>\n",
       "      <th>video</th>\n",
       "      <th>vote_average</th>\n",
       "    </tr>\n",
       "  </thead>\n",
       "  <tbody>\n",
       "    <tr>\n",
       "      <th>5507</th>\n",
       "      <td>NaN</td>\n",
       "      <td>0</td>\n",
       "      <td>[Comedy, Music, Foreign]</td>\n",
       "      <td></td>\n",
       "      <td>5507</td>\n",
       "      <td>tt0060413</td>\n",
       "      <td>en</td>\n",
       "      <td>Finders Keepers</td>\n",
       "      <td>No overview found.</td>\n",
       "      <td>0.000518</td>\n",
       "      <td>...</td>\n",
       "      <td>[United Kingdom]</td>\n",
       "      <td>1966-12-08</td>\n",
       "      <td>0</td>\n",
       "      <td>94</td>\n",
       "      <td>[English]</td>\n",
       "      <td>Released</td>\n",
       "      <td></td>\n",
       "      <td>Finders Keepers</td>\n",
       "      <td>False</td>\n",
       "      <td>0.0</td>\n",
       "    </tr>\n",
       "    <tr>\n",
       "      <th>5508</th>\n",
       "      <td>NaN</td>\n",
       "      <td>0</td>\n",
       "      <td>[Comedy]</td>\n",
       "      <td></td>\n",
       "      <td>5508</td>\n",
       "      <td>tt0087260</td>\n",
       "      <td>en</td>\n",
       "      <td>Finders Keepers</td>\n",
       "      <td>On the run from the police and a female roller...</td>\n",
       "      <td>0.281762</td>\n",
       "      <td>...</td>\n",
       "      <td>[United States of America]</td>\n",
       "      <td>1984-05-18</td>\n",
       "      <td>0</td>\n",
       "      <td>96</td>\n",
       "      <td>[English]</td>\n",
       "      <td>Released</td>\n",
       "      <td></td>\n",
       "      <td>Finders Keepers</td>\n",
       "      <td>False</td>\n",
       "      <td>5.5</td>\n",
       "    </tr>\n",
       "    <tr>\n",
       "      <th>5510</th>\n",
       "      <td>NaN</td>\n",
       "      <td>0</td>\n",
       "      <td>[Comedy]</td>\n",
       "      <td></td>\n",
       "      <td>5510</td>\n",
       "      <td>tt0043534</td>\n",
       "      <td>en</td>\n",
       "      <td>Finders Keepers</td>\n",
       "      <td>No overview found.</td>\n",
       "      <td>0.000230</td>\n",
       "      <td>...</td>\n",
       "      <td>[United Kingdom]</td>\n",
       "      <td>1952-01-01</td>\n",
       "      <td>0</td>\n",
       "      <td>74</td>\n",
       "      <td>[English]</td>\n",
       "      <td>Released</td>\n",
       "      <td></td>\n",
       "      <td>Finders Keepers</td>\n",
       "      <td>False</td>\n",
       "      <td>0.0</td>\n",
       "    </tr>\n",
       "    <tr>\n",
       "      <th>5513</th>\n",
       "      <td>NaN</td>\n",
       "      <td>0</td>\n",
       "      <td>[Action, Comedy]</td>\n",
       "      <td></td>\n",
       "      <td>5513</td>\n",
       "      <td>tt0846779</td>\n",
       "      <td>en</td>\n",
       "      <td>Finders Keepers</td>\n",
       "      <td>No overview found.</td>\n",
       "      <td>0.000393</td>\n",
       "      <td>...</td>\n",
       "      <td>[United States of America]</td>\n",
       "      <td>2005-01-01</td>\n",
       "      <td>0</td>\n",
       "      <td>90</td>\n",
       "      <td>[English]</td>\n",
       "      <td>Released</td>\n",
       "      <td></td>\n",
       "      <td>Finders Keepers</td>\n",
       "      <td>False</td>\n",
       "      <td>0.0</td>\n",
       "    </tr>\n",
       "    <tr>\n",
       "      <th>5514</th>\n",
       "      <td>NaN</td>\n",
       "      <td>0</td>\n",
       "      <td>[Comedy]</td>\n",
       "      <td></td>\n",
       "      <td>5514</td>\n",
       "      <td>tt0231588</td>\n",
       "      <td>en</td>\n",
       "      <td>Finders Keepers</td>\n",
       "      <td>No overview found.</td>\n",
       "      <td>0.000144</td>\n",
       "      <td>...</td>\n",
       "      <td>[United States of America]</td>\n",
       "      <td>1921-01-01</td>\n",
       "      <td>0</td>\n",
       "      <td>35</td>\n",
       "      <td>[English]</td>\n",
       "      <td>Released</td>\n",
       "      <td></td>\n",
       "      <td>Finders Keepers</td>\n",
       "      <td>False</td>\n",
       "      <td>0.0</td>\n",
       "    </tr>\n",
       "    <tr>\n",
       "      <th>5515</th>\n",
       "      <td>NaN</td>\n",
       "      <td>0</td>\n",
       "      <td>[Comedy, Drama]</td>\n",
       "      <td></td>\n",
       "      <td>5515</td>\n",
       "      <td>tt0018889</td>\n",
       "      <td>en</td>\n",
       "      <td>Finders Keepers</td>\n",
       "      <td>No overview found.</td>\n",
       "      <td>0.000143</td>\n",
       "      <td>...</td>\n",
       "      <td>[United States of America]</td>\n",
       "      <td>1928-02-18</td>\n",
       "      <td>0</td>\n",
       "      <td>60</td>\n",
       "      <td>[English]</td>\n",
       "      <td>Released</td>\n",
       "      <td></td>\n",
       "      <td>Finders Keepers</td>\n",
       "      <td>False</td>\n",
       "      <td>0.0</td>\n",
       "    </tr>\n",
       "    <tr>\n",
       "      <th>5517</th>\n",
       "      <td>NaN</td>\n",
       "      <td>0</td>\n",
       "      <td>[Crime, Drama]</td>\n",
       "      <td></td>\n",
       "      <td>5517</td>\n",
       "      <td>tt0311132</td>\n",
       "      <td>en</td>\n",
       "      <td>Finders Keepers</td>\n",
       "      <td>This Vitaphone one-reel short, written by the ...</td>\n",
       "      <td>0.000178</td>\n",
       "      <td>...</td>\n",
       "      <td>[United States of America]</td>\n",
       "      <td>1929-12-27</td>\n",
       "      <td>0</td>\n",
       "      <td>20</td>\n",
       "      <td>[English]</td>\n",
       "      <td>Released</td>\n",
       "      <td></td>\n",
       "      <td>Finders Keepers</td>\n",
       "      <td>False</td>\n",
       "      <td>0.0</td>\n",
       "    </tr>\n",
       "  </tbody>\n",
       "</table>\n",
       "<p>7 rows × 22 columns</p>\n",
       "</div>"
      ],
      "text/plain": [
       "     belongs_to_collection  budget                    genres homepage    id  \\\n",
       "5507                   NaN       0  [Comedy, Music, Foreign]           5507   \n",
       "5508                   NaN       0                  [Comedy]           5508   \n",
       "5510                   NaN       0                  [Comedy]           5510   \n",
       "5513                   NaN       0          [Action, Comedy]           5513   \n",
       "5514                   NaN       0                  [Comedy]           5514   \n",
       "5515                   NaN       0           [Comedy, Drama]           5515   \n",
       "5517                   NaN       0            [Crime, Drama]           5517   \n",
       "\n",
       "        imdb_id original_language   original_title  \\\n",
       "5507  tt0060413                en  Finders Keepers   \n",
       "5508  tt0087260                en  Finders Keepers   \n",
       "5510  tt0043534                en  Finders Keepers   \n",
       "5513  tt0846779                en  Finders Keepers   \n",
       "5514  tt0231588                en  Finders Keepers   \n",
       "5515  tt0018889                en  Finders Keepers   \n",
       "5517  tt0311132                en  Finders Keepers   \n",
       "\n",
       "                                               overview  popularity  \\\n",
       "5507                                 No overview found.    0.000518   \n",
       "5508  On the run from the police and a female roller...    0.281762   \n",
       "5510                                 No overview found.    0.000230   \n",
       "5513                                 No overview found.    0.000393   \n",
       "5514                                 No overview found.    0.000144   \n",
       "5515                                 No overview found.    0.000143   \n",
       "5517  This Vitaphone one-reel short, written by the ...    0.000178   \n",
       "\n",
       "         ...             production_countries release_date revenue runtime  \\\n",
       "5507     ...                 [United Kingdom]   1966-12-08       0      94   \n",
       "5508     ...       [United States of America]   1984-05-18       0      96   \n",
       "5510     ...                 [United Kingdom]   1952-01-01       0      74   \n",
       "5513     ...       [United States of America]   2005-01-01       0      90   \n",
       "5514     ...       [United States of America]   1921-01-01       0      35   \n",
       "5515     ...       [United States of America]   1928-02-18       0      60   \n",
       "5517     ...       [United States of America]   1929-12-27       0      20   \n",
       "\n",
       "      spoken_languages    status tagline            title  video vote_average  \n",
       "5507         [English]  Released          Finders Keepers  False          0.0  \n",
       "5508         [English]  Released          Finders Keepers  False          5.5  \n",
       "5510         [English]  Released          Finders Keepers  False          0.0  \n",
       "5513         [English]  Released          Finders Keepers  False          0.0  \n",
       "5514         [English]  Released          Finders Keepers  False          0.0  \n",
       "5515         [English]  Released          Finders Keepers  False          0.0  \n",
       "5517         [English]  Released          Finders Keepers  False          0.0  \n",
       "\n",
       "[7 rows x 22 columns]"
      ]
     },
     "execution_count": 287,
     "metadata": {},
     "output_type": "execute_result"
    }
   ],
   "source": [
    "tmdb_movies[tmdb_movies['title']=='Finders Keepers'].iloc[:,2:24]"
   ]
  },
  {
   "cell_type": "markdown",
   "metadata": {},
   "source": [
    "Although 7 movies has title \"Finders Keepers\", their are completely different movies, and their imdb_id and id are different. So we'll keep movies that have same titles.\n",
    "\n",
    "There's no duplicate movie in the dataset in terms of TMDB ID."
   ]
  },
  {
   "cell_type": "markdown",
   "metadata": {},
   "source": [
    "# 2. Feature Exploration"
   ]
  },
  {
   "cell_type": "code",
   "execution_count": 220,
   "metadata": {
    "collapsed": false
   },
   "outputs": [
    {
     "data": {
      "text/html": [
       "<div>\n",
       "<table border=\"1\" class=\"dataframe\">\n",
       "  <thead>\n",
       "    <tr style=\"text-align: right;\">\n",
       "      <th></th>\n",
       "      <th>budget</th>\n",
       "      <th>id</th>\n",
       "      <th>popularity</th>\n",
       "      <th>revenue</th>\n",
       "      <th>runtime</th>\n",
       "      <th>vote_average</th>\n",
       "      <th>vote_count</th>\n",
       "      <th>genre_num</th>\n",
       "    </tr>\n",
       "  </thead>\n",
       "  <tbody>\n",
       "    <tr>\n",
       "      <th>count</th>\n",
       "      <td>4.865000e+03</td>\n",
       "      <td>4865.000000</td>\n",
       "      <td>4865.000000</td>\n",
       "      <td>4.865000e+03</td>\n",
       "      <td>4865.000000</td>\n",
       "      <td>4865.000000</td>\n",
       "      <td>4865.000000</td>\n",
       "      <td>4865.000000</td>\n",
       "    </tr>\n",
       "    <tr>\n",
       "      <th>mean</th>\n",
       "      <td>1.352701e+07</td>\n",
       "      <td>4712.598150</td>\n",
       "      <td>0.728872</td>\n",
       "      <td>4.310044e+07</td>\n",
       "      <td>103.146146</td>\n",
       "      <td>5.305694</td>\n",
       "      <td>266.885509</td>\n",
       "      <td>2.255087</td>\n",
       "    </tr>\n",
       "    <tr>\n",
       "      <th>std</th>\n",
       "      <td>2.945895e+07</td>\n",
       "      <td>3108.842204</td>\n",
       "      <td>1.080560</td>\n",
       "      <td>1.146627e+08</td>\n",
       "      <td>31.940519</td>\n",
       "      <td>2.481026</td>\n",
       "      <td>649.184148</td>\n",
       "      <td>1.167723</td>\n",
       "    </tr>\n",
       "    <tr>\n",
       "      <th>min</th>\n",
       "      <td>0.000000e+00</td>\n",
       "      <td>2.000000</td>\n",
       "      <td>0.000000</td>\n",
       "      <td>0.000000e+00</td>\n",
       "      <td>0.000000</td>\n",
       "      <td>0.000000</td>\n",
       "      <td>0.000000</td>\n",
       "      <td>0.000000</td>\n",
       "    </tr>\n",
       "    <tr>\n",
       "      <th>25%</th>\n",
       "      <td>0.000000e+00</td>\n",
       "      <td>1955.000000</td>\n",
       "      <td>0.024937</td>\n",
       "      <td>0.000000e+00</td>\n",
       "      <td>90.000000</td>\n",
       "      <td>5.000000</td>\n",
       "      <td>3.000000</td>\n",
       "      <td>1.000000</td>\n",
       "    </tr>\n",
       "    <tr>\n",
       "      <th>50%</th>\n",
       "      <td>0.000000e+00</td>\n",
       "      <td>4484.000000</td>\n",
       "      <td>0.296467</td>\n",
       "      <td>0.000000e+00</td>\n",
       "      <td>100.000000</td>\n",
       "      <td>6.100000</td>\n",
       "      <td>37.000000</td>\n",
       "      <td>2.000000</td>\n",
       "    </tr>\n",
       "    <tr>\n",
       "      <th>75%</th>\n",
       "      <td>1.300000e+07</td>\n",
       "      <td>7351.000000</td>\n",
       "      <td>1.023493</td>\n",
       "      <td>2.682836e+07</td>\n",
       "      <td>115.000000</td>\n",
       "      <td>6.900000</td>\n",
       "      <td>232.000000</td>\n",
       "      <td>3.000000</td>\n",
       "    </tr>\n",
       "    <tr>\n",
       "      <th>max</th>\n",
       "      <td>3.800000e+08</td>\n",
       "      <td>10010.000000</td>\n",
       "      <td>13.130939</td>\n",
       "      <td>1.845034e+09</td>\n",
       "      <td>480.000000</td>\n",
       "      <td>10.000000</td>\n",
       "      <td>9653.000000</td>\n",
       "      <td>7.000000</td>\n",
       "    </tr>\n",
       "  </tbody>\n",
       "</table>\n",
       "</div>"
      ],
      "text/plain": [
       "             budget            id   popularity       revenue      runtime  \\\n",
       "count  4.865000e+03   4865.000000  4865.000000  4.865000e+03  4865.000000   \n",
       "mean   1.352701e+07   4712.598150     0.728872  4.310044e+07   103.146146   \n",
       "std    2.945895e+07   3108.842204     1.080560  1.146627e+08    31.940519   \n",
       "min    0.000000e+00      2.000000     0.000000  0.000000e+00     0.000000   \n",
       "25%    0.000000e+00   1955.000000     0.024937  0.000000e+00    90.000000   \n",
       "50%    0.000000e+00   4484.000000     0.296467  0.000000e+00   100.000000   \n",
       "75%    1.300000e+07   7351.000000     1.023493  2.682836e+07   115.000000   \n",
       "max    3.800000e+08  10010.000000    13.130939  1.845034e+09   480.000000   \n",
       "\n",
       "       vote_average   vote_count    genre_num  \n",
       "count   4865.000000  4865.000000  4865.000000  \n",
       "mean       5.305694   266.885509     2.255087  \n",
       "std        2.481026   649.184148     1.167723  \n",
       "min        0.000000     0.000000     0.000000  \n",
       "25%        5.000000     3.000000     1.000000  \n",
       "50%        6.100000    37.000000     2.000000  \n",
       "75%        6.900000   232.000000     3.000000  \n",
       "max       10.000000  9653.000000     7.000000  "
      ]
     },
     "execution_count": 220,
     "metadata": {},
     "output_type": "execute_result"
    }
   ],
   "source": [
    "numeric=tmdb_movies.select_dtypes(include = ['float64', 'int64'])\n",
    "numeric.columns.values\n",
    "numeric.describe()"
   ]
  },
  {
   "cell_type": "code",
   "execution_count": 221,
   "metadata": {
    "collapsed": false
   },
   "outputs": [
    {
     "name": "stdout",
     "output_type": "stream",
     "text": [
      "Number of numerical features: 6\n"
     ]
    },
    {
     "data": {
      "text/html": [
       "<div>\n",
       "<table border=\"1\" class=\"dataframe\">\n",
       "  <thead>\n",
       "    <tr style=\"text-align: right;\">\n",
       "      <th></th>\n",
       "      <th>budget</th>\n",
       "      <th>popularity</th>\n",
       "      <th>revenue</th>\n",
       "      <th>runtime</th>\n",
       "      <th>vote_average</th>\n",
       "      <th>vote_count</th>\n",
       "    </tr>\n",
       "  </thead>\n",
       "  <tbody>\n",
       "    <tr>\n",
       "      <th>count</th>\n",
       "      <td>4.865000e+03</td>\n",
       "      <td>4865.000000</td>\n",
       "      <td>4.865000e+03</td>\n",
       "      <td>4865.000000</td>\n",
       "      <td>4865.000000</td>\n",
       "      <td>4865.000000</td>\n",
       "    </tr>\n",
       "    <tr>\n",
       "      <th>mean</th>\n",
       "      <td>1.352701e+07</td>\n",
       "      <td>0.728872</td>\n",
       "      <td>4.310044e+07</td>\n",
       "      <td>103.146146</td>\n",
       "      <td>5.305694</td>\n",
       "      <td>266.885509</td>\n",
       "    </tr>\n",
       "    <tr>\n",
       "      <th>std</th>\n",
       "      <td>2.945895e+07</td>\n",
       "      <td>1.080560</td>\n",
       "      <td>1.146627e+08</td>\n",
       "      <td>31.940519</td>\n",
       "      <td>2.481026</td>\n",
       "      <td>649.184148</td>\n",
       "    </tr>\n",
       "    <tr>\n",
       "      <th>min</th>\n",
       "      <td>0.000000e+00</td>\n",
       "      <td>0.000000</td>\n",
       "      <td>0.000000e+00</td>\n",
       "      <td>0.000000</td>\n",
       "      <td>0.000000</td>\n",
       "      <td>0.000000</td>\n",
       "    </tr>\n",
       "    <tr>\n",
       "      <th>25%</th>\n",
       "      <td>0.000000e+00</td>\n",
       "      <td>0.024937</td>\n",
       "      <td>0.000000e+00</td>\n",
       "      <td>90.000000</td>\n",
       "      <td>5.000000</td>\n",
       "      <td>3.000000</td>\n",
       "    </tr>\n",
       "    <tr>\n",
       "      <th>50%</th>\n",
       "      <td>0.000000e+00</td>\n",
       "      <td>0.296467</td>\n",
       "      <td>0.000000e+00</td>\n",
       "      <td>100.000000</td>\n",
       "      <td>6.100000</td>\n",
       "      <td>37.000000</td>\n",
       "    </tr>\n",
       "    <tr>\n",
       "      <th>75%</th>\n",
       "      <td>1.300000e+07</td>\n",
       "      <td>1.023493</td>\n",
       "      <td>2.682836e+07</td>\n",
       "      <td>115.000000</td>\n",
       "      <td>6.900000</td>\n",
       "      <td>232.000000</td>\n",
       "    </tr>\n",
       "    <tr>\n",
       "      <th>max</th>\n",
       "      <td>3.800000e+08</td>\n",
       "      <td>13.130939</td>\n",
       "      <td>1.845034e+09</td>\n",
       "      <td>480.000000</td>\n",
       "      <td>10.000000</td>\n",
       "      <td>9653.000000</td>\n",
       "    </tr>\n",
       "  </tbody>\n",
       "</table>\n",
       "</div>"
      ],
      "text/plain": [
       "             budget   popularity       revenue      runtime  vote_average  \\\n",
       "count  4.865000e+03  4865.000000  4.865000e+03  4865.000000   4865.000000   \n",
       "mean   1.352701e+07     0.728872  4.310044e+07   103.146146      5.305694   \n",
       "std    2.945895e+07     1.080560  1.146627e+08    31.940519      2.481026   \n",
       "min    0.000000e+00     0.000000  0.000000e+00     0.000000      0.000000   \n",
       "25%    0.000000e+00     0.024937  0.000000e+00    90.000000      5.000000   \n",
       "50%    0.000000e+00     0.296467  0.000000e+00   100.000000      6.100000   \n",
       "75%    1.300000e+07     1.023493  2.682836e+07   115.000000      6.900000   \n",
       "max    3.800000e+08    13.130939  1.845034e+09   480.000000     10.000000   \n",
       "\n",
       "        vote_count  \n",
       "count  4865.000000  \n",
       "mean    266.885509  \n",
       "std     649.184148  \n",
       "min       0.000000  \n",
       "25%       3.000000  \n",
       "50%      37.000000  \n",
       "75%     232.000000  \n",
       "max    9653.000000  "
      ]
     },
     "execution_count": 221,
     "metadata": {},
     "output_type": "execute_result"
    }
   ],
   "source": [
    "#Delete id and genre_num, which are not original features\n",
    "numeric=numeric.drop(numeric.columns[[1,7]], axis=1)\n",
    "print \"Number of numerical features:\", numeric.shape[1]\n",
    "numeric.describe()"
   ]
  },
  {
   "cell_type": "markdown",
   "metadata": {},
   "source": [
    "#### a. Distribution of numeric features"
   ]
  },
  {
   "cell_type": "code",
   "execution_count": 222,
   "metadata": {
    "collapsed": false
   },
   "outputs": [
    {
     "data": {
      "image/png": "[encoded data removed]",
      "text/plain": [
       "<matplotlib.figure.Figure at 0x11ce5c9d0>"
      ]
     },
     "metadata": {},
     "output_type": "display_data"
    }
   ],
   "source": [
    "fig, ((ax1, ax2), (ax3, ax4), (ax5, ax6)) = plt.subplots(3, 2, figsize=(15, 15))\n",
    "ax1.set_title('budget',fontsize=25)\n",
    "ax1=ax1.hist(numeric['budget'].values,color='yellowgreen',bins=30)\n",
    "ax2.set_title('popularity',fontsize=25)\n",
    "ax2=ax2.hist(numeric['popularity'].values,color='skyblue', bins=30)\n",
    "ax3.set_title('revenue',fontsize=25)\n",
    "ax3=ax3.hist(numeric['revenue'].values,color='crimson', bins=30)\n",
    "ax4.set_title('runtime',fontsize=25)\n",
    "ax4=ax4.hist(numeric['runtime'].values, color='gold',bins=30)\n",
    "ax5.set_title('vote_average',fontsize=25)\n",
    "ax5=ax5.hist(numeric['vote_average'].values,color='crimson', bins=30)\n",
    "ax6.set_title('vote_count',fontsize=25)\n",
    "ax6=ax6.hist(numeric['vote_count'].values, color='gold',bins=30)\n",
    "plt.show()"
   ]
  },
  {
   "cell_type": "markdown",
   "metadata": {},
   "source": [
    "The distribution of budget, revenue, popularity and vote_count are highly right skewed.\n",
    "\n",
    "The distribution of vote_average and runtime are approximately normal.\n",
    "\n",
    "Log transformation or other kinds of transformation may need to be considered in future modeling."
   ]
  },
  {
   "cell_type": "markdown",
   "metadata": {
    "collapsed": true
   },
   "source": [
    "#### b. Correlation of numeric features"
   ]
  },
  {
   "cell_type": "code",
   "execution_count": 223,
   "metadata": {
    "collapsed": false
   },
   "outputs": [],
   "source": [
    "corr = numeric.corr()"
   ]
  },
  {
   "cell_type": "code",
   "execution_count": 224,
   "metadata": {
    "collapsed": false
   },
   "outputs": [
    {
     "data": {
      "text/html": [
       "<div>\n",
       "<table border=\"1\" class=\"dataframe\">\n",
       "  <thead>\n",
       "    <tr style=\"text-align: right;\">\n",
       "      <th></th>\n",
       "      <th>budget</th>\n",
       "      <th>popularity</th>\n",
       "      <th>revenue</th>\n",
       "      <th>runtime</th>\n",
       "      <th>vote_average</th>\n",
       "      <th>vote_count</th>\n",
       "    </tr>\n",
       "  </thead>\n",
       "  <tbody>\n",
       "    <tr>\n",
       "      <th>budget</th>\n",
       "      <td>1.000000</td>\n",
       "      <td>0.580444</td>\n",
       "      <td>0.724113</td>\n",
       "      <td>0.221215</td>\n",
       "      <td>0.177355</td>\n",
       "      <td>0.575838</td>\n",
       "    </tr>\n",
       "    <tr>\n",
       "      <th>popularity</th>\n",
       "      <td>0.580444</td>\n",
       "      <td>1.000000</td>\n",
       "      <td>0.701881</td>\n",
       "      <td>0.241776</td>\n",
       "      <td>0.362759</td>\n",
       "      <td>0.855649</td>\n",
       "    </tr>\n",
       "    <tr>\n",
       "      <th>revenue</th>\n",
       "      <td>0.724113</td>\n",
       "      <td>0.701881</td>\n",
       "      <td>1.000000</td>\n",
       "      <td>0.199201</td>\n",
       "      <td>0.192514</td>\n",
       "      <td>0.770402</td>\n",
       "    </tr>\n",
       "    <tr>\n",
       "      <th>runtime</th>\n",
       "      <td>0.221215</td>\n",
       "      <td>0.241776</td>\n",
       "      <td>0.199201</td>\n",
       "      <td>1.000000</td>\n",
       "      <td>0.310753</td>\n",
       "      <td>0.208134</td>\n",
       "    </tr>\n",
       "    <tr>\n",
       "      <th>vote_average</th>\n",
       "      <td>0.177355</td>\n",
       "      <td>0.362759</td>\n",
       "      <td>0.192514</td>\n",
       "      <td>0.310753</td>\n",
       "      <td>1.000000</td>\n",
       "      <td>0.259351</td>\n",
       "    </tr>\n",
       "    <tr>\n",
       "      <th>vote_count</th>\n",
       "      <td>0.575838</td>\n",
       "      <td>0.855649</td>\n",
       "      <td>0.770402</td>\n",
       "      <td>0.208134</td>\n",
       "      <td>0.259351</td>\n",
       "      <td>1.000000</td>\n",
       "    </tr>\n",
       "  </tbody>\n",
       "</table>\n",
       "</div>"
      ],
      "text/plain": [
       "                budget  popularity   revenue   runtime  vote_average  \\\n",
       "budget        1.000000    0.580444  0.724113  0.221215      0.177355   \n",
       "popularity    0.580444    1.000000  0.701881  0.241776      0.362759   \n",
       "revenue       0.724113    0.701881  1.000000  0.199201      0.192514   \n",
       "runtime       0.221215    0.241776  0.199201  1.000000      0.310753   \n",
       "vote_average  0.177355    0.362759  0.192514  0.310753      1.000000   \n",
       "vote_count    0.575838    0.855649  0.770402  0.208134      0.259351   \n",
       "\n",
       "              vote_count  \n",
       "budget          0.575838  \n",
       "popularity      0.855649  \n",
       "revenue         0.770402  \n",
       "runtime         0.208134  \n",
       "vote_average    0.259351  \n",
       "vote_count      1.000000  "
      ]
     },
     "execution_count": 224,
     "metadata": {},
     "output_type": "execute_result"
    }
   ],
   "source": [
    "corr"
   ]
  },
  {
   "cell_type": "code",
   "execution_count": 225,
   "metadata": {
    "collapsed": false
   },
   "outputs": [
    {
     "data": {
      "image/png": "[encoded data removed]",
      "text/plain": [
       "<matplotlib.figure.Figure at 0x11ce5cb10>"
      ]
     },
     "metadata": {},
     "output_type": "display_data"
    }
   ],
   "source": [
    "fig, ax = plt.subplots(1, 1, figsize=(8, 8))\n",
    "ax.pcolor(corr)\n",
    "ax.set_title('Heatmap of correlation matrix of numeric features')\n",
    "plt.colorbar(ax.pcolor(corr))\n",
    "ax.set_xticklabels(( 'budget', 'popularity', 'revenue', 'runtime', 'Tvote_average', 'vote_count'),rotation=60)\n",
    "ax.set_yticklabels(( 'budget', 'popularity', 'revenue', 'runtime', 'Tvote_average', 'vote_count'),rotation=60)\n",
    "plt.show()"
   ]
  },
  {
   "cell_type": "markdown",
   "metadata": {},
   "source": [
    "Popularity and vote count are highly correlated. Revenue is also correlated with vote count. We need to pay more attention to these two pairs to avoid collinearity.\n"
   ]
  },
  {
   "cell_type": "markdown",
   "metadata": {},
   "source": [
    "#### c. Dummy features"
   ]
  },
  {
   "cell_type": "code",
   "execution_count": 488,
   "metadata": {
    "collapsed": false
   },
   "outputs": [
    {
     "data": {
      "image/png": "[encoded data removed]",
      "text/plain": [
       "<matplotlib.figure.Figure at 0x11e6e40d0>"
      ]
     },
     "metadata": {},
     "output_type": "display_data"
    }
   ],
   "source": [
    "fig, (ax1, ax2) = plt.subplots(1, 2, figsize=(10,4))\n",
    "sns.countplot(x = 'adult', data=tmdb_movies, ax=ax1)\n",
    "sns.countplot(x = 'video', data=tmdb_movies, ax=ax2)\n",
    "plt.show()"
   ]
  },
  {
   "cell_type": "markdown",
   "metadata": {},
   "source": [
    "Most of the movie are not adult type, and no video provided. These two dummy features are not bery informative."
   ]
  },
  {
   "cell_type": "markdown",
   "metadata": {},
   "source": [
    "#### d. Categorical Features"
   ]
  },
  {
   "cell_type": "code",
   "execution_count": 333,
   "metadata": {
    "collapsed": false
   },
   "outputs": [
    {
     "data": {
      "text/plain": [
       "array([u'backdrop_path', u'belongs_to_collection', u'genres', u'homepage',\n",
       "       u'imdb_id', u'original_language', u'original_title', u'overview',\n",
       "       u'poster_path', u'production_companies', u'production_countries',\n",
       "       u'release_date', u'spoken_languages', u'status', u'tagline',\n",
       "       u'title'], dtype=object)"
      ]
     },
     "execution_count": 333,
     "metadata": {},
     "output_type": "execute_result"
    }
   ],
   "source": [
    "categorical = tmdb_movies.select_dtypes(include = ['object'])\n",
    "categorical.columns.values"
   ]
  },
  {
   "cell_type": "code",
   "execution_count": 487,
   "metadata": {
    "collapsed": false
   },
   "outputs": [
    {
     "data": {
      "image/png": "[encoded data removed]",
      "text/plain": [
       "<matplotlib.figure.Figure at 0x11e1beb50>"
      ]
     },
     "metadata": {},
     "output_type": "display_data"
    }
   ],
   "source": [
    "f, ax1 = plt.subplots(1,1, figsize = (16, 4))\n",
    "sns.countplot(x = 'original_language', data = categorical, ax=ax1)\n",
    "ax1.set_title(\"Distribution of Movie Language\")\n",
    "plt.show()"
   ]
  },
  {
   "cell_type": "markdown",
   "metadata": {},
   "source": [
    "Most movies have **English**(more than 3500) as their original language, while some other movies set **French**, **German**, **Italian** and **Spanish** as their original language."
   ]
  },
  {
   "cell_type": "markdown",
   "metadata": {},
   "source": [
    "# 3. Questions that could be answered using TMDB:\n",
    "1. What is the most common movie genre?\n",
    "2. How many movie has more than one genre? What is the distribution?\n",
    "3. What is the most popular movie genre?\n",
    "4. What is the relationship between movie genre and popularity?\n",
    "5. Which year had the largest number of movies released?\n",
    "6. What are the highest rated science fiction movies? \n"
   ]
  },
  {
   "cell_type": "markdown",
   "metadata": {},
   "source": [
    "## 1) What is the most common genre?"
   ]
  },
  {
   "cell_type": "code",
   "execution_count": 481,
   "metadata": {
    "collapsed": true
   },
   "outputs": [],
   "source": [
    "tmdb_genre_df.columns.values[1]='Count'"
   ]
  },
  {
   "cell_type": "code",
   "execution_count": 482,
   "metadata": {
    "collapsed": true
   },
   "outputs": [],
   "source": [
    "tmdb_genre_df[\"Relative Frequency\"]=tmdb_genre_df[\"Count\"]/float(tmdb_movies.shape[0])"
   ]
  },
  {
   "cell_type": "code",
   "execution_count": 483,
   "metadata": {
    "collapsed": true
   },
   "outputs": [],
   "source": [
    "sort=tmdb_genre_df.sort_values(by=\"Relative Frequency\")"
   ]
  },
  {
   "cell_type": "code",
   "execution_count": 484,
   "metadata": {
    "collapsed": false
   },
   "outputs": [
    {
     "data": {
      "image/png": "[encoded data removed]",
      "text/plain": [
       "<matplotlib.figure.Figure at 0x108119450>"
      ]
     },
     "metadata": {},
     "output_type": "display_data"
    }
   ],
   "source": [
    "sort[[\"Relative Frequency\"]].plot(kind='bar')\n",
    "plt.title(\"Distribution of genres\")\n",
    "plt.show()"
   ]
  },
  {
   "cell_type": "markdown",
   "metadata": {},
   "source": [
    "The most common movie genre is **Drama**\n",
    "\n",
    "There are also a quite amont of **Comedy**, **Thriller** and **Action** movies in TMDB."
   ]
  },
  {
   "cell_type": "markdown",
   "metadata": {},
   "source": [
    "## 2) Distribution of Multiple Genres"
   ]
  },
  {
   "cell_type": "code",
   "execution_count": 486,
   "metadata": {
    "collapsed": false
   },
   "outputs": [
    {
     "data": {
      "image/png": "[encoded data removed]",
      "text/plain": [
       "<matplotlib.figure.Figure at 0x10f0fefd0>"
      ]
     },
     "metadata": {},
     "output_type": "display_data"
    }
   ],
   "source": [
    "fig, ax = plt.subplots(1, 1, figsize=(10,4))\n",
    "ax = sns.countplot(x=\"genre_num\", data=tmdb_movies)\n",
    "xt = plt.xticks(rotation=90)\n",
    "ax.set_title(\"Number of Genres\")\n",
    "plt.show()"
   ]
  },
  {
   "cell_type": "markdown",
   "metadata": {},
   "source": [
    "Most of the movies has 1,2 or 3 genres. Also quite an amount of movies have 4 or more genres.\n",
    "\n",
    "Let's further investigate movies that have too many genres here:"
   ]
  },
  {
   "cell_type": "code",
   "execution_count": 496,
   "metadata": {
    "collapsed": false
   },
   "outputs": [
    {
     "data": {
      "text/html": [
       "<div>\n",
       "<table border=\"1\" class=\"dataframe\">\n",
       "  <thead>\n",
       "    <tr style=\"text-align: right;\">\n",
       "      <th></th>\n",
       "      <th>title</th>\n",
       "      <th>overview</th>\n",
       "      <th>genres</th>\n",
       "      <th>genre_num</th>\n",
       "      <th>popularity</th>\n",
       "    </tr>\n",
       "  </thead>\n",
       "  <tbody>\n",
       "    <tr>\n",
       "      <th>2322</th>\n",
       "      <td>Sneakers</td>\n",
       "      <td>When shadowy U.S. intelligence agents blackmai...</td>\n",
       "      <td>[Adventure, Drama, Action, Comedy, Thriller, C...</td>\n",
       "      <td>7</td>\n",
       "      <td>0.566098</td>\n",
       "    </tr>\n",
       "    <tr>\n",
       "      <th>2362</th>\n",
       "      <td>Westworld</td>\n",
       "      <td>In a futuristic resort, wealthy patrons can vi...</td>\n",
       "      <td>[Action, Adventure, Drama, Horror, Science Fic...</td>\n",
       "      <td>7</td>\n",
       "      <td>1.516945</td>\n",
       "    </tr>\n",
       "    <tr>\n",
       "      <th>3098</th>\n",
       "      <td>The Tulse Luper Suitcases, Part 2: Vaux to the...</td>\n",
       "      <td>The Tulse Luper Suitcases reconstructs the lif...</td>\n",
       "      <td>[War, Drama, History, Adventure, Comedy, Roman...</td>\n",
       "      <td>7</td>\n",
       "      <td>0.008423</td>\n",
       "    </tr>\n",
       "    <tr>\n",
       "      <th>8076</th>\n",
       "      <td>Tuvalu</td>\n",
       "      <td>Set in a dilapidated indoor swimming pool (the...</td>\n",
       "      <td>[Fantasy, Drama, Comedy, Science Fiction, Roma...</td>\n",
       "      <td>7</td>\n",
       "      <td>0.032928</td>\n",
       "    </tr>\n",
       "  </tbody>\n",
       "</table>\n",
       "</div>"
      ],
      "text/plain": [
       "                                                  title  \\\n",
       "2322                                           Sneakers   \n",
       "2362                                          Westworld   \n",
       "3098  The Tulse Luper Suitcases, Part 2: Vaux to the...   \n",
       "8076                                             Tuvalu   \n",
       "\n",
       "                                               overview  \\\n",
       "2322  When shadowy U.S. intelligence agents blackmai...   \n",
       "2362  In a futuristic resort, wealthy patrons can vi...   \n",
       "3098  The Tulse Luper Suitcases reconstructs the lif...   \n",
       "8076  Set in a dilapidated indoor swimming pool (the...   \n",
       "\n",
       "                                                 genres  genre_num  popularity  \n",
       "2322  [Adventure, Drama, Action, Comedy, Thriller, C...          7    0.566098  \n",
       "2362  [Action, Adventure, Drama, Horror, Science Fic...          7    1.516945  \n",
       "3098  [War, Drama, History, Adventure, Comedy, Roman...          7    0.008423  \n",
       "8076  [Fantasy, Drama, Comedy, Science Fiction, Roma...          7    0.032928  "
      ]
     },
     "execution_count": 496,
     "metadata": {},
     "output_type": "execute_result"
    }
   ],
   "source": [
    "tmdb_movies[tmdb_movies['genre_num']==7][['title', 'overview', 'genres', 'genre_num', 'popularity']]"
   ]
  },
  {
   "cell_type": "markdown",
   "metadata": {},
   "source": [
    "## 3) What are the most popular movies?"
   ]
  },
  {
   "cell_type": "code",
   "execution_count": 189,
   "metadata": {
    "collapsed": false
   },
   "outputs": [
    {
     "data": {
      "text/html": [
       "<div>\n",
       "<table border=\"1\" class=\"dataframe\">\n",
       "  <thead>\n",
       "    <tr style=\"text-align: right;\">\n",
       "      <th></th>\n",
       "      <th>title</th>\n",
       "      <th>popularity</th>\n",
       "      <th>genres</th>\n",
       "      <th>production_countries</th>\n",
       "      <th>release_date</th>\n",
       "    </tr>\n",
       "  </thead>\n",
       "  <tbody>\n",
       "    <tr>\n",
       "      <th>22</th>\n",
       "      <td>Pirates of the Caribbean: The Curse of the Bla...</td>\n",
       "      <td>13.130939</td>\n",
       "      <td>[Adventure, Fantasy, Action]</td>\n",
       "      <td>[United States of America]</td>\n",
       "      <td>2003-07-09</td>\n",
       "    </tr>\n",
       "    <tr>\n",
       "      <th>155</th>\n",
       "      <td>The Dark Knight</td>\n",
       "      <td>10.256416</td>\n",
       "      <td>[Drama, Action, Crime, Thriller]</td>\n",
       "      <td>[United Kingdom, United States of America]</td>\n",
       "      <td>2008-07-16</td>\n",
       "    </tr>\n",
       "    <tr>\n",
       "      <th>285</th>\n",
       "      <td>Pirates of the Caribbean: At World's End</td>\n",
       "      <td>9.664116</td>\n",
       "      <td>[Adventure, Fantasy, Action]</td>\n",
       "      <td>[United States of America]</td>\n",
       "      <td>2007-05-19</td>\n",
       "    </tr>\n",
       "    <tr>\n",
       "      <th>603</th>\n",
       "      <td>The Matrix</td>\n",
       "      <td>9.466876</td>\n",
       "      <td>[Action, Science Fiction]</td>\n",
       "      <td>[Australia, United States of America]</td>\n",
       "      <td>1999-03-30</td>\n",
       "    </tr>\n",
       "    <tr>\n",
       "      <th>425</th>\n",
       "      <td>Ice Age</td>\n",
       "      <td>9.259527</td>\n",
       "      <td>[Animation, Comedy, Family, Adventure]</td>\n",
       "      <td>[United States of America]</td>\n",
       "      <td>2002-03-10</td>\n",
       "    </tr>\n",
       "  </tbody>\n",
       "</table>\n",
       "</div>"
      ],
      "text/plain": [
       "                                                 title  popularity  \\\n",
       "22   Pirates of the Caribbean: The Curse of the Bla...   13.130939   \n",
       "155                                    The Dark Knight   10.256416   \n",
       "285           Pirates of the Caribbean: At World's End    9.664116   \n",
       "603                                         The Matrix    9.466876   \n",
       "425                                            Ice Age    9.259527   \n",
       "\n",
       "                                     genres  \\\n",
       "22             [Adventure, Fantasy, Action]   \n",
       "155        [Drama, Action, Crime, Thriller]   \n",
       "285            [Adventure, Fantasy, Action]   \n",
       "603               [Action, Science Fiction]   \n",
       "425  [Animation, Comedy, Family, Adventure]   \n",
       "\n",
       "                           production_countries release_date  \n",
       "22                   [United States of America]   2003-07-09  \n",
       "155  [United Kingdom, United States of America]   2008-07-16  \n",
       "285                  [United States of America]   2007-05-19  \n",
       "603       [Australia, United States of America]   1999-03-30  \n",
       "425                  [United States of America]   2002-03-10  "
      ]
     },
     "execution_count": 189,
     "metadata": {},
     "output_type": "execute_result"
    }
   ],
   "source": [
    "tmdb_movies.sort_values(by=['popularity'], ascending=False).head(5)[['title','popularity', 'genres', 'production_countries', 'release_date']]"
   ]
  },
  {
   "cell_type": "markdown",
   "metadata": {},
   "source": [
    "## 4) What is the relationship between movie genre and popularity?"
   ]
  },
  {
   "cell_type": "code",
   "execution_count": 538,
   "metadata": {
    "collapsed": false
   },
   "outputs": [],
   "source": [
    "meanpop=[]\n",
    "for genre in tmdb_genre:\n",
    "    meanpop.append(tmdb_movies.groupby(genre)[\"popularity\"].mean()[1])"
   ]
  },
  {
   "cell_type": "code",
   "execution_count": 539,
   "metadata": {
    "collapsed": false
   },
   "outputs": [],
   "source": [
    "pop=pd.DataFrame(tmdb_genre)\n",
    "pop[\"popularity\"]=meanpop\n",
    "pop=pop.sort_values(by='popularity')\n",
    "pop.columns.values[0]='genre'"
   ]
  },
  {
   "cell_type": "code",
   "execution_count": 554,
   "metadata": {
    "collapsed": false
   },
   "outputs": [
    {
     "data": {
      "image/png": "[encoded data removed]",
      "text/plain": [
       "<matplotlib.figure.Figure at 0x10edf2350>"
      ]
     },
     "metadata": {},
     "output_type": "display_data"
    }
   ],
   "source": [
    "fig, ax = plt.subplots(1, 1, figsize=(10,4))\n",
    "ax = sns.barplot(x='genre',y=\"popularity\", data=pop)\n",
    "xt = plt.xticks(rotation=90)\n",
    "ax.set_title(\"Mean Popularity of Genres\")\n",
    "plt.show()"
   ]
  },
  {
   "cell_type": "markdown",
   "metadata": {},
   "source": [
    "## 5) Which year had the most number of movies released?"
   ]
  },
  {
   "cell_type": "code",
   "execution_count": 394,
   "metadata": {
    "collapsed": false
   },
   "outputs": [
    {
     "data": {
      "text/plain": [
       "count           4865\n",
       "unique          3660\n",
       "top       2007-01-01\n",
       "freq              19\n",
       "Name: release_date, dtype: object"
      ]
     },
     "execution_count": 394,
     "metadata": {},
     "output_type": "execute_result"
    }
   ],
   "source": [
    "tmdb_movies['release_date'].describe()"
   ]
  },
  {
   "cell_type": "code",
   "execution_count": 395,
   "metadata": {
    "collapsed": false
   },
   "outputs": [],
   "source": [
    "tmdb_movies['release_date'] = pd.to_datetime(tmdb_movies['release_date'], errors='coerce')"
   ]
  },
  {
   "cell_type": "code",
   "execution_count": 396,
   "metadata": {
    "collapsed": true
   },
   "outputs": [],
   "source": [
    "year = tmdb_movies['release_date'].dt.year"
   ]
  },
  {
   "cell_type": "code",
   "execution_count": 397,
   "metadata": {
    "collapsed": false
   },
   "outputs": [
    {
     "data": {
      "image/png": "[encoded data removed]",
      "text/plain": [
       "<matplotlib.figure.Figure at 0x11e6e4890>"
      ]
     },
     "metadata": {},
     "output_type": "display_data"
    }
   ],
   "source": [
    "fig, ax = plt.subplots(1, 1, figsize=(20,8))\n",
    "sns.countplot(x = year, ax=ax)\n",
    "ax.set_title(\"Count of Movies Released by Year\")\n",
    "xt = plt.xticks(rotation=45)"
   ]
  },
  {
   "cell_type": "markdown",
   "metadata": {},
   "source": [
    "## 6) What are the highest rated science fiction movies?"
   ]
  },
  {
   "cell_type": "code",
   "execution_count": 180,
   "metadata": {
    "collapsed": false
   },
   "outputs": [],
   "source": [
    "sf=tmdb_movies[tmdb_movies['Science Fiction']==True]"
   ]
  },
  {
   "cell_type": "code",
   "execution_count": 240,
   "metadata": {
    "collapsed": false
   },
   "outputs": [],
   "source": [
    "top10=sf.sort_values(by=['vote_average'], ascending=False).head(10)"
   ]
  },
  {
   "cell_type": "code",
   "execution_count": 247,
   "metadata": {
    "collapsed": false
   },
   "outputs": [
    {
     "data": {
      "image/png": "[encoded data removed]",
      "text/plain": [
       "<matplotlib.figure.Figure at 0x11886ea50>"
      ]
     },
     "metadata": {},
     "output_type": "display_data"
    }
   ],
   "source": [
    "fig, ax = plt.subplots(1, 1, figsize=(10,4))\n",
    "ax = sns.barplot(x=\"title\", y=\"vote_average\", data=top10)\n",
    "xt = plt.xticks(rotation=90)\n",
    "ax.set_title(\"Highest rated science fiction movies\")\n",
    "plt.show()"
   ]
  },
  {
   "cell_type": "code",
   "execution_count": 248,
   "metadata": {
    "collapsed": false,
    "scrolled": true
   },
   "outputs": [
    {
     "data": {
      "text/html": [
       "<div>\n",
       "<table border=\"1\" class=\"dataframe\">\n",
       "  <thead>\n",
       "    <tr style=\"text-align: right;\">\n",
       "      <th></th>\n",
       "      <th>title</th>\n",
       "      <th>overview</th>\n",
       "      <th>popularity</th>\n",
       "      <th>production_countries</th>\n",
       "      <th>release_date</th>\n",
       "      <th>revenue</th>\n",
       "      <th>runtime</th>\n",
       "      <th>vote_average</th>\n",
       "    </tr>\n",
       "  </thead>\n",
       "  <tbody>\n",
       "    <tr>\n",
       "      <th>3205</th>\n",
       "      <td>Santo vs. Frankenstein's Daughter</td>\n",
       "      <td>Dr. Frankenstein and her assistant, Dr. Yanco,...</td>\n",
       "      <td>0.096475</td>\n",
       "      <td>[Mexico]</td>\n",
       "      <td>1971-01-02</td>\n",
       "      <td>0</td>\n",
       "      <td>97</td>\n",
       "      <td>9.0</td>\n",
       "    </tr>\n",
       "    <tr>\n",
       "      <th>1891</th>\n",
       "      <td>The Empire Strikes Back</td>\n",
       "      <td>The epic saga continues as Luke Skywalker, in ...</td>\n",
       "      <td>3.826274</td>\n",
       "      <td>[United States of America]</td>\n",
       "      <td>1980-05-17</td>\n",
       "      <td>538400000</td>\n",
       "      <td>124</td>\n",
       "      <td>8.1</td>\n",
       "    </tr>\n",
       "    <tr>\n",
       "      <th>11</th>\n",
       "      <td>Star Wars</td>\n",
       "      <td>Princess Leia is captured and held hostage by ...</td>\n",
       "      <td>7.484705</td>\n",
       "      <td>[United States of America]</td>\n",
       "      <td>1977-05-25</td>\n",
       "      <td>775398007</td>\n",
       "      <td>121</td>\n",
       "      <td>8.0</td>\n",
       "    </tr>\n",
       "    <tr>\n",
       "      <th>3017</th>\n",
       "      <td>Dr. Jekyll and Mr. Hyde</td>\n",
       "      <td>Dr. Henry Jekyll experiments with scientific m...</td>\n",
       "      <td>0.008089</td>\n",
       "      <td>[]</td>\n",
       "      <td>1920-04-01</td>\n",
       "      <td>0</td>\n",
       "      <td>40</td>\n",
       "      <td>8.0</td>\n",
       "    </tr>\n",
       "    <tr>\n",
       "      <th>38</th>\n",
       "      <td>Eternal Sunshine of the Spotless Mind</td>\n",
       "      <td>Joel Barish, heartbroken that his girlfriend u...</td>\n",
       "      <td>4.014330</td>\n",
       "      <td>[United States of America]</td>\n",
       "      <td>2004-03-19</td>\n",
       "      <td>72258126</td>\n",
       "      <td>108</td>\n",
       "      <td>7.9</td>\n",
       "    </tr>\n",
       "    <tr>\n",
       "      <th>105</th>\n",
       "      <td>Back to the Future</td>\n",
       "      <td>Eighties teenager Marty McFly is accidentally ...</td>\n",
       "      <td>6.336256</td>\n",
       "      <td>[United States of America]</td>\n",
       "      <td>1985-07-03</td>\n",
       "      <td>381109762</td>\n",
       "      <td>116</td>\n",
       "      <td>7.9</td>\n",
       "    </tr>\n",
       "    <tr>\n",
       "      <th>19</th>\n",
       "      <td>Metropolis</td>\n",
       "      <td>In a futuristic city sharply divided between t...</td>\n",
       "      <td>1.321289</td>\n",
       "      <td>[Germany]</td>\n",
       "      <td>1927-01-10</td>\n",
       "      <td>650422</td>\n",
       "      <td>153</td>\n",
       "      <td>7.9</td>\n",
       "    </tr>\n",
       "    <tr>\n",
       "      <th>78</th>\n",
       "      <td>Blade Runner</td>\n",
       "      <td>In the smog-choked dystopian Los Angeles of 20...</td>\n",
       "      <td>5.286044</td>\n",
       "      <td>[United States of America, Hong Kong, United K...</td>\n",
       "      <td>1982-06-25</td>\n",
       "      <td>33139618</td>\n",
       "      <td>117</td>\n",
       "      <td>7.8</td>\n",
       "    </tr>\n",
       "    <tr>\n",
       "      <th>185</th>\n",
       "      <td>A Clockwork Orange</td>\n",
       "      <td>Demonic gang-leader Alex goes on the spree of ...</td>\n",
       "      <td>2.869388</td>\n",
       "      <td>[United Kingdom, United States of America]</td>\n",
       "      <td>1971-12-18</td>\n",
       "      <td>26589000</td>\n",
       "      <td>136</td>\n",
       "      <td>7.8</td>\n",
       "    </tr>\n",
       "    <tr>\n",
       "      <th>1892</th>\n",
       "      <td>Return of the Jedi</td>\n",
       "      <td>As Rebel leaders map their strategy for an all...</td>\n",
       "      <td>2.818903</td>\n",
       "      <td>[United States of America]</td>\n",
       "      <td>1983-05-23</td>\n",
       "      <td>572700000</td>\n",
       "      <td>135</td>\n",
       "      <td>7.8</td>\n",
       "    </tr>\n",
       "  </tbody>\n",
       "</table>\n",
       "</div>"
      ],
      "text/plain": [
       "                                      title  \\\n",
       "3205      Santo vs. Frankenstein's Daughter   \n",
       "1891                The Empire Strikes Back   \n",
       "11                                Star Wars   \n",
       "3017                Dr. Jekyll and Mr. Hyde   \n",
       "38    Eternal Sunshine of the Spotless Mind   \n",
       "105                      Back to the Future   \n",
       "19                               Metropolis   \n",
       "78                             Blade Runner   \n",
       "185                      A Clockwork Orange   \n",
       "1892                     Return of the Jedi   \n",
       "\n",
       "                                               overview  popularity  \\\n",
       "3205  Dr. Frankenstein and her assistant, Dr. Yanco,...    0.096475   \n",
       "1891  The epic saga continues as Luke Skywalker, in ...    3.826274   \n",
       "11    Princess Leia is captured and held hostage by ...    7.484705   \n",
       "3017  Dr. Henry Jekyll experiments with scientific m...    0.008089   \n",
       "38    Joel Barish, heartbroken that his girlfriend u...    4.014330   \n",
       "105   Eighties teenager Marty McFly is accidentally ...    6.336256   \n",
       "19    In a futuristic city sharply divided between t...    1.321289   \n",
       "78    In the smog-choked dystopian Los Angeles of 20...    5.286044   \n",
       "185   Demonic gang-leader Alex goes on the spree of ...    2.869388   \n",
       "1892  As Rebel leaders map their strategy for an all...    2.818903   \n",
       "\n",
       "                                   production_countries release_date  \\\n",
       "3205                                           [Mexico]   1971-01-02   \n",
       "1891                         [United States of America]   1980-05-17   \n",
       "11                           [United States of America]   1977-05-25   \n",
       "3017                                                 []   1920-04-01   \n",
       "38                           [United States of America]   2004-03-19   \n",
       "105                          [United States of America]   1985-07-03   \n",
       "19                                            [Germany]   1927-01-10   \n",
       "78    [United States of America, Hong Kong, United K...   1982-06-25   \n",
       "185          [United Kingdom, United States of America]   1971-12-18   \n",
       "1892                         [United States of America]   1983-05-23   \n",
       "\n",
       "        revenue  runtime  vote_average  \n",
       "3205          0       97           9.0  \n",
       "1891  538400000      124           8.1  \n",
       "11    775398007      121           8.0  \n",
       "3017          0       40           8.0  \n",
       "38     72258126      108           7.9  \n",
       "105   381109762      116           7.9  \n",
       "19       650422      153           7.9  \n",
       "78     33139618      117           7.8  \n",
       "185    26589000      136           7.8  \n",
       "1892  572700000      135           7.8  "
      ]
     },
     "execution_count": 248,
     "metadata": {},
     "output_type": "execute_result"
    }
   ],
   "source": [
    "top10[['title','overview', 'popularity','production_countries', 'release_date',\n",
    "       'revenue', 'runtime', 'vote_average']]"
   ]
  },
  {
   "cell_type": "markdown",
   "metadata": {},
   "source": [
    "### Major problems"
   ]
  },
  {
   "cell_type": "code",
   "execution_count": null,
   "metadata": {
    "collapsed": true
   },
   "outputs": [],
   "source": [
    "lalalala"
   ]
  }
 ],
 "metadata": {
  "kernelspec": {
   "display_name": "Python 2",
   "language": "python",
   "name": "python2"
  },
  "language_info": {
   "codemirror_mode": {
    "name": "ipython",
    "version": 2
   },
   "file_extension": ".py",
   "mimetype": "text/x-python",
   "name": "python",
   "nbconvert_exporter": "python",
   "pygments_lexer": "ipython2",
   "version": "2.7.12"
  }
 },
 "nbformat": 4,
 "nbformat_minor": 0
}
