{
 "cells": [
  {
   "cell_type": "code",
   "execution_count": 147,
   "metadata": {
    "collapsed": true
   },
   "outputs": [],
   "source": [
    "%matplotlib inline\n",
    "import pandas as pd\n",
    "import numpy as np\n",
    "import json\n",
    "import matplotlib.pyplot as plt\n",
    "import seaborn.apionly as sns\n",
    "import re"
   ]
  },
  {
   "cell_type": "markdown",
   "metadata": {},
   "source": [
    "# Load JSON File"
   ]
  },
  {
   "cell_type": "code",
   "execution_count": 34,
   "metadata": {
    "collapsed": false
   },
   "outputs": [],
   "source": [
    "with open('/Users/Victoria_G/Desktop/CS109B/proj/movie_project/data/drv_imdb_movie_details.json') as f:\n",
    "    data = json.load(f)\n",
    "imdb_movies=pd.DataFrame(data)"
   ]
  },
  {
   "cell_type": "markdown",
   "metadata": {},
   "source": [
    "# Format the data"
   ]
  },
  {
   "cell_type": "code",
   "execution_count": 35,
   "metadata": {
    "collapsed": false
   },
   "outputs": [],
   "source": [
    "def get_genre(tmdb_movies ,key):\n",
    "    tmdb_genre = tmdb_movies[key].tolist()\n",
    "    tmdb_genre_set = set()\n",
    "    for g in tmdb_genre:\n",
    "        tmdb_genre_set = tmdb_genre_set.union(set(g))\n",
    "    tmdb_genre = list(tmdb_genre_set)\n",
    "    tmdb_genre.sort()\n",
    "    return(tmdb_genre)"
   ]
  },
  {
   "cell_type": "code",
   "execution_count": 36,
   "metadata": {
    "collapsed": true
   },
   "outputs": [],
   "source": [
    "def is_genre (row, column_name, genre):\n",
    "    \"\"\"check if that movie is in this genre as a movie can have more than 1 genre\"\"\"\n",
    "    if genre in row[column_name] :\n",
    "        return True\n",
    "    else:\n",
    "        return False"
   ]
  },
  {
   "cell_type": "code",
   "execution_count": 37,
   "metadata": {
    "collapsed": true
   },
   "outputs": [],
   "source": [
    "# as the genre is in list format in the data field, we cannot utilize any data frame function and it is very hard to compare\n",
    "# thus, we have to transform data set \n",
    "\n",
    "def add_genre_columns(tmdb_movies, genre_column):\n",
    "    tmdb_genre = get_genre(tmdb_movies,genre_column)\n",
    "    tmdb_movies[u'genre_num'] = tmdb_movies.apply(lambda row: len(row[genre_column]), axis=1)\n",
    "\n",
    "    for g in tmdb_genre: \n",
    "        tmdb_movies[g] = tmdb_movies.apply(lambda row: is_genre(row,genre_column,g), axis=1)\n",
    "\n"
   ]
  },
  {
   "cell_type": "code",
   "execution_count": 38,
   "metadata": {
    "collapsed": false
   },
   "outputs": [],
   "source": [
    "imdb_genre = get_genre(imdb_movies,u'genre')\n",
    "imdb_movies[u'genre_num'] = imdb_movies.apply(lambda row: len(row[u'genre']), axis=1)\n",
    "\n",
    "for g in imdb_genre: \n",
    "    imdb_movies[g] = imdb_movies.apply(lambda row: is_genre(row,u'genre',g), axis=1)"
   ]
  },
  {
   "cell_type": "code",
   "execution_count": 148,
   "metadata": {
    "collapsed": false
   },
   "outputs": [
    {
     "data": {
      "text/html": [
       "<div>\n",
       "<table border=\"1\" class=\"dataframe\">\n",
       "  <thead>\n",
       "    <tr style=\"text-align: right;\">\n",
       "      <th></th>\n",
       "      <th>actors</th>\n",
       "      <th>actresses</th>\n",
       "      <th>aka</th>\n",
       "      <th>also known as</th>\n",
       "      <th>amazon review</th>\n",
       "      <th>art direction by</th>\n",
       "      <th>casting</th>\n",
       "      <th>casting by</th>\n",
       "      <th>certificate</th>\n",
       "      <th>certification</th>\n",
       "      <th>...</th>\n",
       "      <th>Musical</th>\n",
       "      <th>Romance</th>\n",
       "      <th>Sci-Fi</th>\n",
       "      <th>Short</th>\n",
       "      <th>Sport</th>\n",
       "      <th>Thriller</th>\n",
       "      <th>War</th>\n",
       "      <th>runtime_avg</th>\n",
       "      <th>major_country</th>\n",
       "      <th>casting_num</th>\n",
       "    </tr>\n",
       "  </thead>\n",
       "  <tbody>\n",
       "    <tr>\n",
       "      <th>0</th>\n",
       "      <td>[{u'personID': u'0000552', u'name': u'Eddie Mu...</td>\n",
       "      <td>[{u'personID': u'0000552', u'name': u'Eddie Mu...</td>\n",
       "      <td>[Un detective suelto en Hollywood::Argentina, ...</td>\n",
       "      <td>[Un detective suelto en Hollywood::Argentina, ...</td>\n",
       "      <td>None</td>\n",
       "      <td>[{u'personID': u'0613468', u'name': u'James J....</td>\n",
       "      <td>[{u'personID': u'0799557', u'name': u'Margery ...</td>\n",
       "      <td>[{u'personID': u'0799557', u'name': u'Margery ...</td>\n",
       "      <td>[Argentina:16, Australia:M, Brazil:12, Canada:...</td>\n",
       "      <td>[Argentina:16, Australia:M, Brazil:12, Canada:...</td>\n",
       "      <td>...</td>\n",
       "      <td>False</td>\n",
       "      <td>False</td>\n",
       "      <td>False</td>\n",
       "      <td>False</td>\n",
       "      <td>False</td>\n",
       "      <td>False</td>\n",
       "      <td>False</td>\n",
       "      <td>105.0</td>\n",
       "      <td>USA</td>\n",
       "      <td>2.0</td>\n",
       "    </tr>\n",
       "    <tr>\n",
       "      <th>1</th>\n",
       "      <td>[{u'personID': u'0000160', u'name': u'Ethan Ha...</td>\n",
       "      <td>[{u'personID': u'0000160', u'name': u'Ethan Ha...</td>\n",
       "      <td>[Antes del atardecer::Argentina, International...</td>\n",
       "      <td>[Antes del atardecer::Argentina, International...</td>\n",
       "      <td>None</td>\n",
       "      <td>None</td>\n",
       "      <td>None</td>\n",
       "      <td>None</td>\n",
       "      <td>[Argentina:Atp, Australia:M, Austria:0, Brazil...</td>\n",
       "      <td>[Argentina:Atp, Australia:M, Austria:0, Brazil...</td>\n",
       "      <td>...</td>\n",
       "      <td>False</td>\n",
       "      <td>True</td>\n",
       "      <td>False</td>\n",
       "      <td>False</td>\n",
       "      <td>False</td>\n",
       "      <td>False</td>\n",
       "      <td>False</td>\n",
       "      <td>80.0</td>\n",
       "      <td>USA</td>\n",
       "      <td>NaN</td>\n",
       "    </tr>\n",
       "    <tr>\n",
       "      <th>10</th>\n",
       "      <td>[{u'personID': u'0000136', u'name': u'Johnny D...</td>\n",
       "      <td>[{u'personID': u'0000136', u'name': u'Johnny D...</td>\n",
       "      <td>[P.O.T.C. 2::USA (promotional abbreviation), P...</td>\n",
       "      <td>[P.O.T.C. 2::USA (promotional abbreviation), P...</td>\n",
       "      <td>None</td>\n",
       "      <td>[{u'personID': u'0188692', u'name': u'Bruce Cr...</td>\n",
       "      <td>[{u'personID': u'0150522', u'name': u'Denise C...</td>\n",
       "      <td>[{u'personID': u'0150522', u'name': u'Denise C...</td>\n",
       "      <td>[Argentina:13, Australia:M, Brazil:12, Canada:...</td>\n",
       "      <td>[Argentina:13, Australia:M, Brazil:12, Canada:...</td>\n",
       "      <td>...</td>\n",
       "      <td>False</td>\n",
       "      <td>False</td>\n",
       "      <td>False</td>\n",
       "      <td>False</td>\n",
       "      <td>False</td>\n",
       "      <td>False</td>\n",
       "      <td>False</td>\n",
       "      <td>151.0</td>\n",
       "      <td>USA</td>\n",
       "      <td>1.0</td>\n",
       "    </tr>\n",
       "    <tr>\n",
       "      <th>11</th>\n",
       "      <td>[{u'personID': u'0000235', u'name': u'Uma Thur...</td>\n",
       "      <td>[{u'personID': u'0000235', u'name': u'Uma Thur...</td>\n",
       "      <td>[Kill Bill::USA (informal short title), Kill B...</td>\n",
       "      <td>[Kill Bill::USA (informal short title), Kill B...</td>\n",
       "      <td>None</td>\n",
       "      <td>[{u'personID': u'0103011', u'name': u'Daniel B...</td>\n",
       "      <td>[{u'personID': u'0535338', u'name': u'Koko Mae...</td>\n",
       "      <td>[{u'personID': u'0535338', u'name': u'Koko Mae...</td>\n",
       "      <td>[Argentina:16, Australia:R18+, Brazil:18, Cana...</td>\n",
       "      <td>[Argentina:16, Australia:R18+, Brazil:18, Cana...</td>\n",
       "      <td>...</td>\n",
       "      <td>False</td>\n",
       "      <td>False</td>\n",
       "      <td>False</td>\n",
       "      <td>False</td>\n",
       "      <td>False</td>\n",
       "      <td>True</td>\n",
       "      <td>False</td>\n",
       "      <td>112.0</td>\n",
       "      <td>USA</td>\n",
       "      <td>2.0</td>\n",
       "    </tr>\n",
       "    <tr>\n",
       "      <th>12</th>\n",
       "      <td>[{u'personID': u'0671231', u'name': u'Matti Pe...</td>\n",
       "      <td>[{u'personID': u'0671231', u'name': u'Matti Pe...</td>\n",
       "      <td>[Shadows in Paradise::International (English t...</td>\n",
       "      <td>[Shadows in Paradise::International (English t...</td>\n",
       "      <td>None</td>\n",
       "      <td>[{u'personID': u'0383991', u'name': u'Pertti H...</td>\n",
       "      <td>None</td>\n",
       "      <td>None</td>\n",
       "      <td>[Finland:S, Iceland:L, Singapore:PG, UK:12::(v...</td>\n",
       "      <td>[Finland:S, Iceland:L, Singapore:PG, UK:12::(v...</td>\n",
       "      <td>...</td>\n",
       "      <td>False</td>\n",
       "      <td>True</td>\n",
       "      <td>False</td>\n",
       "      <td>False</td>\n",
       "      <td>False</td>\n",
       "      <td>False</td>\n",
       "      <td>False</td>\n",
       "      <td>76.0</td>\n",
       "      <td>Finland</td>\n",
       "      <td>NaN</td>\n",
       "    </tr>\n",
       "  </tbody>\n",
       "</table>\n",
       "<p>5 rows × 109 columns</p>\n",
       "</div>"
      ],
      "text/plain": [
       "                                               actors  \\\n",
       "0   [{u'personID': u'0000552', u'name': u'Eddie Mu...   \n",
       "1   [{u'personID': u'0000160', u'name': u'Ethan Ha...   \n",
       "10  [{u'personID': u'0000136', u'name': u'Johnny D...   \n",
       "11  [{u'personID': u'0000235', u'name': u'Uma Thur...   \n",
       "12  [{u'personID': u'0671231', u'name': u'Matti Pe...   \n",
       "\n",
       "                                            actresses  \\\n",
       "0   [{u'personID': u'0000552', u'name': u'Eddie Mu...   \n",
       "1   [{u'personID': u'0000160', u'name': u'Ethan Ha...   \n",
       "10  [{u'personID': u'0000136', u'name': u'Johnny D...   \n",
       "11  [{u'personID': u'0000235', u'name': u'Uma Thur...   \n",
       "12  [{u'personID': u'0671231', u'name': u'Matti Pe...   \n",
       "\n",
       "                                                  aka  \\\n",
       "0   [Un detective suelto en Hollywood::Argentina, ...   \n",
       "1   [Antes del atardecer::Argentina, International...   \n",
       "10  [P.O.T.C. 2::USA (promotional abbreviation), P...   \n",
       "11  [Kill Bill::USA (informal short title), Kill B...   \n",
       "12  [Shadows in Paradise::International (English t...   \n",
       "\n",
       "                                        also known as amazon review  \\\n",
       "0   [Un detective suelto en Hollywood::Argentina, ...          None   \n",
       "1   [Antes del atardecer::Argentina, International...          None   \n",
       "10  [P.O.T.C. 2::USA (promotional abbreviation), P...          None   \n",
       "11  [Kill Bill::USA (informal short title), Kill B...          None   \n",
       "12  [Shadows in Paradise::International (English t...          None   \n",
       "\n",
       "                                     art direction by  \\\n",
       "0   [{u'personID': u'0613468', u'name': u'James J....   \n",
       "1                                                None   \n",
       "10  [{u'personID': u'0188692', u'name': u'Bruce Cr...   \n",
       "11  [{u'personID': u'0103011', u'name': u'Daniel B...   \n",
       "12  [{u'personID': u'0383991', u'name': u'Pertti H...   \n",
       "\n",
       "                                              casting  \\\n",
       "0   [{u'personID': u'0799557', u'name': u'Margery ...   \n",
       "1                                                None   \n",
       "10  [{u'personID': u'0150522', u'name': u'Denise C...   \n",
       "11  [{u'personID': u'0535338', u'name': u'Koko Mae...   \n",
       "12                                               None   \n",
       "\n",
       "                                           casting by  \\\n",
       "0   [{u'personID': u'0799557', u'name': u'Margery ...   \n",
       "1                                                None   \n",
       "10  [{u'personID': u'0150522', u'name': u'Denise C...   \n",
       "11  [{u'personID': u'0535338', u'name': u'Koko Mae...   \n",
       "12                                               None   \n",
       "\n",
       "                                          certificate  \\\n",
       "0   [Argentina:16, Australia:M, Brazil:12, Canada:...   \n",
       "1   [Argentina:Atp, Australia:M, Austria:0, Brazil...   \n",
       "10  [Argentina:13, Australia:M, Brazil:12, Canada:...   \n",
       "11  [Argentina:16, Australia:R18+, Brazil:18, Cana...   \n",
       "12  [Finland:S, Iceland:L, Singapore:PG, UK:12::(v...   \n",
       "\n",
       "                                        certification     ...     Musical  \\\n",
       "0   [Argentina:16, Australia:M, Brazil:12, Canada:...     ...       False   \n",
       "1   [Argentina:Atp, Australia:M, Austria:0, Brazil...     ...       False   \n",
       "10  [Argentina:13, Australia:M, Brazil:12, Canada:...     ...       False   \n",
       "11  [Argentina:16, Australia:R18+, Brazil:18, Cana...     ...       False   \n",
       "12  [Finland:S, Iceland:L, Singapore:PG, UK:12::(v...     ...       False   \n",
       "\n",
       "   Romance Sci-Fi  Short  Sport Thriller    War runtime_avg major_country  \\\n",
       "0    False  False  False  False    False  False       105.0           USA   \n",
       "1     True  False  False  False    False  False        80.0           USA   \n",
       "10   False  False  False  False    False  False       151.0           USA   \n",
       "11   False  False  False  False     True  False       112.0           USA   \n",
       "12    True  False  False  False    False  False        76.0       Finland   \n",
       "\n",
       "   casting_num  \n",
       "0          2.0  \n",
       "1          NaN  \n",
       "10         1.0  \n",
       "11         2.0  \n",
       "12         NaN  \n",
       "\n",
       "[5 rows x 109 columns]"
      ]
     },
     "execution_count": 148,
     "metadata": {},
     "output_type": "execute_result"
    }
   ],
   "source": [
    "imdb_movies.head()"
   ]
  },
  {
   "cell_type": "markdown",
   "metadata": {},
   "source": [
    "# Data Pre-Processing\n",
    "\n",
    "## 1. Average runtime\n",
    "Since each movie may have different runtime in different countries. The basic step here is first use regular expression to extract the number and then calculate the average runtime for each movie."
   ]
  },
  {
   "cell_type": "code",
   "execution_count": 64,
   "metadata": {
    "collapsed": false
   },
   "outputs": [],
   "source": [
    "# average run time\n",
    "L=[]\n",
    "for row in imdb_movies['runtime']:\n",
    "    for e in row:\n",
    "        number=[]\n",
    "        number.extend(map(int,re.findall('\\d+',str(e))))\n",
    "    L.append(1.0* sum(number)/len(number))\n",
    "imdb_movies['runtime_avg']=L"
   ]
  },
  {
   "cell_type": "markdown",
   "metadata": {},
   "source": [
    "## 2. Major Country\n",
    "The basic idea here is that each movie may be produced by multi-countries. We assume the major porduce country is the first country in the list. "
   ]
  },
  {
   "cell_type": "code",
   "execution_count": 72,
   "metadata": {
    "collapsed": false
   },
   "outputs": [],
   "source": [
    "L=[]\n",
    "for e in imdb_movies['country']:\n",
    "    L.append(str(e[0]))\n",
    "imdb_movies['major_country']=L"
   ]
  },
  {
   "cell_type": "markdown",
   "metadata": {},
   "source": [
    "## 3. Casting number "
   ]
  },
  {
   "cell_type": "code",
   "execution_count": 79,
   "metadata": {
    "collapsed": false
   },
   "outputs": [
    {
     "data": {
      "text/plain": [
       "[u'Action',\n",
       " u'Adventure',\n",
       " u'Animation',\n",
       " u'Biography',\n",
       " u'Comedy',\n",
       " u'Crime',\n",
       " u'Documentary',\n",
       " u'Drama',\n",
       " u'Family',\n",
       " u'Fantasy',\n",
       " u'Horror',\n",
       " u'Music',\n",
       " u'Musical',\n",
       " u'Romance',\n",
       " u'Sci-Fi',\n",
       " u'Short',\n",
       " u'Sport',\n",
       " u'Thriller',\n",
       " u'War']"
      ]
     },
     "execution_count": 79,
     "metadata": {},
     "output_type": "execute_result"
    }
   ],
   "source": [
    "genre=list(imdb_movies.ix[:,'Action':'War'].columns.values)\n",
    "genre"
   ]
  },
  {
   "cell_type": "code",
   "execution_count": 92,
   "metadata": {
    "collapsed": false
   },
   "outputs": [],
   "source": [
    "L=[]\n",
    "for e in imdb_movies['casting']:\n",
    "    if e != None:\n",
    "        L.append(len(e))\n",
    "    else:\n",
    "        L.append(None)\n",
    "imdb_movies['casting_num']=L"
   ]
  },
  {
   "cell_type": "markdown",
   "metadata": {},
   "source": [
    "# Insight 1: Distribution of the genres\n",
    "\n",
    "As we can see, there are in total 19 genres in the data set. The most popular genre types are musical and biography type. And documentary and comedy are also very popolar types."
   ]
  },
  {
   "cell_type": "code",
   "execution_count": 119,
   "metadata": {
    "collapsed": false
   },
   "outputs": [
    {
     "data": {
      "text/plain": [
       "{'Action': 44,\n",
       " 'Adventure': 44,\n",
       " 'Animation': 12,\n",
       " 'Biography': 4,\n",
       " 'Comedy': 20,\n",
       " 'Crime': 20,\n",
       " 'Documentary': 4,\n",
       " 'Drama': 32,\n",
       " 'Family': 4,\n",
       " 'Fantasy': 16,\n",
       " 'Horror': 4,\n",
       " 'Music': 4,\n",
       " 'Musical': 4,\n",
       " 'Romance': 24,\n",
       " 'Sci-Fi': 24,\n",
       " 'Short': 8,\n",
       " 'Sport': 4,\n",
       " 'Thriller': 20,\n",
       " 'War': 4}"
      ]
     },
     "execution_count": 119,
     "metadata": {},
     "output_type": "execute_result"
    }
   ],
   "source": [
    "dic={}\n",
    "for g in genre:\n",
    "    dic[str(g)]= sum(imdb_movies[str(g)])\n",
    "dic"
   ]
  },
  {
   "cell_type": "code",
   "execution_count": 143,
   "metadata": {
    "collapsed": false
   },
   "outputs": [
    {
     "data": {
      "text/plain": [
       "<matplotlib.text.Text at 0x126bd4950>"
      ]
     },
     "execution_count": 143,
     "metadata": {},
     "output_type": "execute_result"
    },
    {
     "data": {
      "image/png": "[encoded data removed]",
      "text/plain": [
       "<matplotlib.figure.Figure at 0x126b5f810>"
      ]
     },
     "metadata": {},
     "output_type": "display_data"
    }
   ],
   "source": [
    "#fig=figsize(5,5)\n",
    "ind=range(len(genre))\n",
    "plt.bar(ind, np.array(sorted(dic.values()))/100.)\n",
    "plt.xticks(ind, dic.keys(),rotation='vertical')\n",
    "plt.ylabel(\"Relative Frequency\")\n",
    "plt.title(\"Distribution of genres\")"
   ]
  },
  {
   "cell_type": "markdown",
   "metadata": {},
   "source": [
    "# Insight 2: Genre  vs.  Average casting number\n",
    "\n",
    "In this part, I calculated the average of the casting number for each genre first and then draw the distribution of of it. We can see that from the distribution, biography tend to have the largest aberage casting number. Horrer tend to have the smallest average casting number"
   ]
  },
  {
   "cell_type": "code",
   "execution_count": 115,
   "metadata": {
    "collapsed": false
   },
   "outputs": [
    {
     "data": {
      "text/plain": [
       "{'Action': 2.1818181818181817,\n",
       " 'Adventure': 2.0,\n",
       " 'Animation': 1.0,\n",
       " 'Biography': 0.0,\n",
       " 'Comedy': 1.2,\n",
       " 'Crime': 1.2,\n",
       " 'Documentary': 0.0,\n",
       " 'Drama': 0.875,\n",
       " 'Family': 3.0,\n",
       " 'Fantasy': 2.5,\n",
       " 'Horror': 0.0,\n",
       " 'Music': 1.0,\n",
       " 'Musical': 1.0,\n",
       " 'Romance': 0.6666666666666666,\n",
       " 'Sci-Fi': 1.3333333333333333,\n",
       " 'Short': 0.0,\n",
       " 'Sport': 0.0,\n",
       " 'Thriller': 1.4,\n",
       " 'War': 1.0}"
      ]
     },
     "execution_count": 115,
     "metadata": {},
     "output_type": "execute_result"
    }
   ],
   "source": [
    "dic_casting={}\n",
    "for g in dic.keys():\n",
    "    df_temp=imdb_movies[imdb_movies[g]==True]\n",
    "    dic_casting[g]= df_temp['casting_num'].sum()*1./len(df_temp['casting_num'].notnull())\n",
    "dic_casting"
   ]
  },
  {
   "cell_type": "code",
   "execution_count": 117,
   "metadata": {
    "collapsed": false
   },
   "outputs": [
    {
     "data": {
      "text/plain": [
       "<matplotlib.text.Text at 0x11fd72150>"
      ]
     },
     "execution_count": 117,
     "metadata": {},
     "output_type": "execute_result"
    },
    {
     "data": {
      "image/png": "[encoded data removed]",
      "text/plain": [
       "<matplotlib.figure.Figure at 0x11f9ff510>"
      ]
     },
     "metadata": {},
     "output_type": "display_data"
    }
   ],
   "source": [
    "#fig=figsize(5,5)\n",
    "ind=range(len(genre))\n",
    "plt.bar(ind, sorted(dic_casting.values()))\n",
    "plt.xticks(ind, dic_casting.keys(),rotation='vertical')\n",
    "plt.ylabel(\"Average casting number\")\n",
    "plt.title(\"Genre vs casting number\")"
   ]
  },
  {
   "cell_type": "markdown",
   "metadata": {},
   "source": [
    "# Insight 3: Genre vs Average number of runtime\n",
    "\n",
    "As we can see from the plot below, Thriller and biography seems to have the longest average runtime."
   ]
  },
  {
   "cell_type": "code",
   "execution_count": 123,
   "metadata": {
    "collapsed": false
   },
   "outputs": [
    {
     "data": {
      "text/plain": [
       "{'Action': 119.72727272727273,\n",
       " 'Adventure': 114.54545454545455,\n",
       " 'Animation': 55.666666666666664,\n",
       " 'Biography': 79.0,\n",
       " 'Comedy': 90.8,\n",
       " 'Crime': 106.0,\n",
       " 'Documentary': 95.0,\n",
       " 'Drama': 102.0,\n",
       " 'Family': 100.0,\n",
       " 'Fantasy': 136.5,\n",
       " 'Horror': 79.0,\n",
       " 'Music': 100.0,\n",
       " 'Musical': 140.0,\n",
       " 'Romance': 84.83333333333333,\n",
       " 'Sci-Fi': 93.16666666666667,\n",
       " 'Short': 33.5,\n",
       " 'Sport': 95.0,\n",
       " 'Thriller': 103.2,\n",
       " 'War': 125.0}"
      ]
     },
     "execution_count": 123,
     "metadata": {},
     "output_type": "execute_result"
    }
   ],
   "source": [
    "dic_runtime={}\n",
    "for g in dic.keys():\n",
    "    df_temp=imdb_movies[imdb_movies[g]==True]\n",
    "    dic_runtime[g]=df_temp['runtime_avg'].sum()*1./len(df_temp['runtime_avg'].notnull())\n",
    "dic_runtime"
   ]
  },
  {
   "cell_type": "code",
   "execution_count": 130,
   "metadata": {
    "collapsed": false
   },
   "outputs": [
    {
     "data": {
      "text/plain": [
       "<matplotlib.text.Text at 0x121e97f50>"
      ]
     },
     "execution_count": 130,
     "metadata": {},
     "output_type": "execute_result"
    },
    {
     "data": {
      "image/png": "[encoded data removed]",
      "text/plain": [
       "<matplotlib.figure.Figure at 0x121e24990>"
      ]
     },
     "metadata": {},
     "output_type": "display_data"
    }
   ],
   "source": [
    "#fig=figsize(5,5)\n",
    "ind=range(len(genre))\n",
    "plt.bar(ind, sorted(dic_runtime.values()))\n",
    "plt.xticks(ind, dic_casting.keys(),rotation='vertical')\n",
    "plt.ylabel(\"Average runtime\")\n",
    "plt.title(\"Genre vs average run time\")"
   ]
  },
  {
   "cell_type": "markdown",
   "metadata": {},
   "source": [
    "# Insight 4: User rating\n",
    "\n",
    "1. ** Distribution of user rating**: As we can see from the distribution plot, we found that the distribution is a little bit skewed. Most of movies has rating around 8 to 8.5.\n",
    "2. ** Average User rating vs. genre **: As we can see from the distribution, it is obvious that comedy and drama seems to have the lowest user rating, whereas most of other genres have the similar ratings but not the same. They are all above 7 and less than 9."
   ]
  },
  {
   "cell_type": "code",
   "execution_count": 142,
   "metadata": {
    "collapsed": false
   },
   "outputs": [
    {
     "data": {
      "text/plain": [
       "<matplotlib.text.Text at 0x126a26b10>"
      ]
     },
     "execution_count": 142,
     "metadata": {},
     "output_type": "execute_result"
    },
    {
     "data": {
      "image/png": "[encoded data removed]",
      "text/plain": [
       "<matplotlib.figure.Figure at 0x1265eaed0>"
      ]
     },
     "metadata": {},
     "output_type": "display_data"
    }
   ],
   "source": [
    "plt.hist(imdb_movies['user rating'].values, bins=10)\n",
    "plt.title('Distribution of user_rating')"
   ]
  },
  {
   "cell_type": "code",
   "execution_count": 144,
   "metadata": {
    "collapsed": false
   },
   "outputs": [
    {
     "data": {
      "text/plain": [
       "{'Action': 7.636363636363639,\n",
       " 'Adventure': 7.7636363636363654,\n",
       " 'Animation': 7.933333333333333,\n",
       " 'Biography': 5.7,\n",
       " 'Comedy': 7.399999999999999,\n",
       " 'Crime': 7.479999999999999,\n",
       " 'Documentary': 7.8,\n",
       " 'Drama': 7.424999999999998,\n",
       " 'Family': 8.1,\n",
       " 'Fantasy': 8.075,\n",
       " 'Horror': 5.7,\n",
       " 'Music': 6.9,\n",
       " 'Musical': 8.0,\n",
       " 'Romance': 7.3166666666666655,\n",
       " 'Sci-Fi': 7.949999999999998,\n",
       " 'Short': 7.8500000000000005,\n",
       " 'Sport': 7.8,\n",
       " 'Thriller': 7.299999999999999,\n",
       " 'War': 7.0}"
      ]
     },
     "execution_count": 144,
     "metadata": {},
     "output_type": "execute_result"
    }
   ],
   "source": [
    "dic_rating={}\n",
    "for g in dic.keys():\n",
    "    df_temp=imdb_movies[imdb_movies[g]==True]\n",
    "    dic_rating[g]=df_temp['user rating'].sum()*1./len(df_temp['user rating'].notnull())\n",
    "dic_rating"
   ]
  },
  {
   "cell_type": "code",
   "execution_count": 149,
   "metadata": {
    "collapsed": false
   },
   "outputs": [
    {
     "data": {
      "text/plain": [
       "<matplotlib.text.Text at 0x127ea8510>"
      ]
     },
     "execution_count": 149,
     "metadata": {},
     "output_type": "execute_result"
    },
    {
     "data": {
      "image/png": "[encoded data removed]",
      "text/plain": [
       "<matplotlib.figure.Figure at 0x1264dd810>"
      ]
     },
     "metadata": {},
     "output_type": "display_data"
    }
   ],
   "source": [
    "ind=range(len(genre))\n",
    "plt.scatter(ind, sorted(dic_rating.values()))\n",
    "plt.xticks(ind, dic_casting.keys(),rotation='vertical')\n",
    "plt.ylabel(\"Average user rating by genre\")\n",
    "plt.title(\"Genre vs average user rating\")"
   ]
  },
  {
   "cell_type": "markdown",
   "metadata": {},
   "source": [
    "# Major problems\n",
    "\n",
    "1. The major problem here is that the value of each covariate here is not a single value. Instead, there are lists of values for each cell of the data frame. This could be very difficult for us to do exploratory data analysis. Also, it would very hard to fit machine learning models on the existing model. So we should do some pre-data processing to deal with this issue. \n",
    "2. There are several ways that we came up with to deal with this multi-value cell issue. \n",
    "   * The first one is that we create new indicator variables. For example, the value of the variable \"country\" may have more than one values. According to the data, we found that most of the movie comes from the US. So we set a new indicator variable indicating whether this movies is from US. In addition, we could set a indicator variable called \"global\", indicate whether this movie is produced by multi-countries. \n",
    "   * The second one is to choose some of the variables in multi-value value covariates. For example, we have the casting column having lots of actors/actress. Since from the documentation, every list here is ordered by the importance of the casting. So we may set the threshold of the number of the casting we want later.\n",
    "3. **Correlated covariates**: There are lots of covariates in the dataset, that are highly correlated. For example, the \"casting\" and \"casting by\" are actually the same. So we may next examine the highly correlated covariates.\n",
    "\n",
    "# Future work\n",
    "1. We should come up a way to quantify the label dependency. That is, we should find a way to measure the dependence between each labels. We may want to generate a occurrence matrix to try to see the related labels."
   ]
  },
  {
   "cell_type": "code",
   "execution_count": null,
   "metadata": {
    "collapsed": true
   },
   "outputs": [],
   "source": []
  }
 ],
 "metadata": {
  "anaconda-cloud": {},
  "kernelspec": {
   "display_name": "Python [default]",
   "language": "python",
   "name": "python2"
  },
  "language_info": {
   "codemirror_mode": {
    "name": "ipython",
    "version": 2
   },
   "file_extension": ".py",
   "mimetype": "text/x-python",
   "name": "python",
   "nbconvert_exporter": "python",
   "pygments_lexer": "ipython2",
   "version": "2.7.12"
  }
 },
 "nbformat": 4,
 "nbformat_minor": 1
}
